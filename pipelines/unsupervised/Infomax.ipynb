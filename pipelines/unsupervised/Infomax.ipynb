{
 "cells": [
  {
   "cell_type": "markdown",
   "id": "50a62e1c-bc74-4a60-a1b8-c2e7fb2336af",
   "metadata": {
    "execution": {
     "iopub.execute_input": "2024-07-22T10:13:58.294829Z",
     "iopub.status.busy": "2024-07-22T10:13:58.293262Z",
     "iopub.status.idle": "2024-07-22T10:13:58.330450Z",
     "shell.execute_reply": "2024-07-22T10:13:58.329230Z",
     "shell.execute_reply.started": "2024-07-22T10:13:58.294794Z"
    }
   },
   "source": [
    "# Imports"
   ]
  },
  {
   "cell_type": "code",
   "execution_count": 1,
   "id": "7edbb1ec-0764-4be2-aeed-ae6c2cdffcc8",
   "metadata": {
    "execution": {
     "iopub.execute_input": "2024-07-22T10:22:47.621893Z",
     "iopub.status.busy": "2024-07-22T10:22:47.620879Z",
     "iopub.status.idle": "2024-07-22T10:22:52.452901Z",
     "shell.execute_reply": "2024-07-22T10:22:52.451706Z",
     "shell.execute_reply.started": "2024-07-22T10:22:47.621840Z"
    },
    "tags": []
   },
   "outputs": [],
   "source": [
    "import os.path as osp\n",
    "\n",
    "import torch\n",
    "import numpy as np\n",
    "\n",
    "from torch_geometric.loader import NeighborLoader\n",
    "from torch_geometric.nn import DeepGraphInfomax\n",
    "\n",
    "import sys\n",
    "sys.path.append(\"../../src\")\n",
    "\n",
    "from training_utils import train_infomax, test_infomax\n",
    "from models import DefaultEncoder, GATEncoder"
   ]
  },
  {
   "cell_type": "code",
   "execution_count": 2,
   "id": "902f4f88-15ef-4ca6-811e-f906c9246a2b",
   "metadata": {
    "execution": {
     "iopub.execute_input": "2024-07-22T10:22:52.455239Z",
     "iopub.status.busy": "2024-07-22T10:22:52.454594Z",
     "iopub.status.idle": "2024-07-22T10:22:52.481819Z",
     "shell.execute_reply": "2024-07-22T10:22:52.480777Z",
     "shell.execute_reply.started": "2024-07-22T10:22:52.455208Z"
    },
    "tags": []
   },
   "outputs": [],
   "source": [
    "def corruption(x, edge_index, batch_size):\n",
    "    return x[torch.randperm(x.size(0))], edge_index, batch_size"
   ]
  },
  {
   "cell_type": "markdown",
   "id": "d4c566e3-7fd2-42f6-8f07-49c08c83a8e9",
   "metadata": {},
   "source": [
    "# Loaders"
   ]
  },
  {
   "cell_type": "code",
   "execution_count": 6,
   "id": "841e48d9-b840-4a1a-8caa-49d9ec6a3929",
   "metadata": {
    "execution": {
     "iopub.execute_input": "2024-07-22T10:20:38.584362Z",
     "iopub.status.busy": "2024-07-22T10:20:38.582903Z",
     "iopub.status.idle": "2024-07-22T10:20:38.604637Z",
     "shell.execute_reply": "2024-07-22T10:20:38.603466Z",
     "shell.execute_reply.started": "2024-07-22T10:20:38.584292Z"
    },
    "tags": []
   },
   "outputs": [],
   "source": [
    "device = torch.device('cuda' if torch.cuda.is_available() else 'cpu')\n",
    "path_for_graph = '../../../data/YOUR_GRAPH_NAME.pickle'"
   ]
  },
  {
   "cell_type": "code",
   "execution_count": 5,
   "id": "0c6edbea-b9d1-4b3b-9281-4aadbc9eaae3",
   "metadata": {
    "execution": {
     "iopub.execute_input": "2024-07-22T10:23:04.129881Z",
     "iopub.status.busy": "2024-07-22T10:23:04.128526Z",
     "iopub.status.idle": "2024-07-22T10:23:18.686242Z",
     "shell.execute_reply": "2024-07-22T10:23:18.684914Z",
     "shell.execute_reply.started": "2024-07-22T10:23:04.129841Z"
    },
    "tags": []
   },
   "outputs": [],
   "source": [
    "dataset = torch.load(path_for_graph)\n",
    "\n",
    "if use_fp := False:\n",
    "    dataset.x[dataset.x == -1] = torch.nan\n",
    "    transform = T.FeaturePropagation(missing_mask=torch.isnan(data.x), num_iterations = 400)\n",
    "    dataset = transform(dataset)\n",
    "\n",
    "dataset = dataset.to(device)"
   ]
  },
  {
   "cell_type": "code",
   "execution_count": 6,
   "id": "169dc3cc-4a8f-4d6d-be44-263a55d9a90f",
   "metadata": {
    "execution": {
     "iopub.execute_input": "2024-07-22T10:23:18.689020Z",
     "iopub.status.busy": "2024-07-22T10:23:18.688417Z",
     "iopub.status.idle": "2024-07-22T10:23:18.769798Z",
     "shell.execute_reply": "2024-07-22T10:23:18.768537Z",
     "shell.execute_reply.started": "2024-07-22T10:23:18.688978Z"
    },
    "tags": []
   },
   "outputs": [],
   "source": [
    "train_loader = NeighborLoader(dataset, num_neighbors=[-1, -1, -1], batch_size=256,\n",
    "                              shuffle=True, num_workers=0)\n",
    "test_loader = NeighborLoader(dataset, num_neighbors=[-1, -1, -1], batch_size=256,\n",
    "                             num_workers=0)"
   ]
  },
  {
   "cell_type": "markdown",
   "id": "de98abc1-d986-4672-b02e-f452184a1ecb",
   "metadata": {},
   "source": [
    "# Train infomax"
   ]
  },
  {
   "cell_type": "code",
   "execution_count": 7,
   "id": "9fc46ba1-da8f-466e-8286-1176a48bd8b8",
   "metadata": {
    "execution": {
     "iopub.execute_input": "2024-07-22T10:23:21.231348Z",
     "iopub.status.busy": "2024-07-22T10:23:21.230077Z",
     "iopub.status.idle": "2024-07-22T10:23:21.329774Z",
     "shell.execute_reply": "2024-07-22T10:23:21.328589Z",
     "shell.execute_reply.started": "2024-07-22T10:23:21.231297Z"
    },
    "tags": []
   },
   "outputs": [],
   "source": [
    "encoder = 'DefaultEncoder'\n",
    "if encoder == 'DefaultEncoder':\n",
    "    encoder = DefaultEncoder(dataset.num_features, 256, 256)\n",
    "elif encoder == 'GATEncoder':\n",
    "    encoder=GATEncoder(n_in=dataset.num_features, n_out=256)\n",
    "\n",
    "    \n",
    "infomax_model = DeepGraphInfomax(\n",
    "    hidden_channels=256,\n",
    "    encoder=encoder,\n",
    "    summary=lambda z, *args, **kwargs: torch.sigmoid(z.mean(dim=0)),\n",
    "    corruption=corruption).to(device)\n",
    "\n",
    "optimizer = torch.optim.Adam(infomax_model.parameters(), lr=0.001)\n",
    "epochs = 100\n",
    "model_save_path = '../../chkps/infomax'"
   ]
  },
  {
   "cell_type": "code",
   "execution_count": 8,
   "id": "e98a9f23-72c2-4871-95e8-117b4da9d916",
   "metadata": {
    "collapsed": true,
    "execution": {
     "iopub.execute_input": "2024-07-22T10:23:23.006885Z",
     "iopub.status.busy": "2024-07-22T10:23:23.005249Z",
     "iopub.status.idle": "2024-07-22T10:29:21.736456Z",
     "shell.execute_reply": "2024-07-22T10:29:21.735265Z",
     "shell.execute_reply.started": "2024-07-22T10:23:23.006806Z"
    },
    "jupyter": {
     "outputs_hidden": true
    },
    "tags": []
   },
   "outputs": [
    {
     "data": {
      "application/vnd.jupyter.widget-view+json": {
       "model_id": "c65874122406450687150fbb93607e90",
       "version_major": 2,
       "version_minor": 0
      },
      "text/plain": [
       "Epoch 01:   0%|          | 0/46 [00:00<?, ?it/s]"
      ]
     },
     "metadata": {},
     "output_type": "display_data"
    },
    {
     "name": "stdout",
     "output_type": "stream",
     "text": [
      "Train loss: 1.5960,  Time left: 0:01:48.768732\n",
      "Save new model\n"
     ]
    },
    {
     "data": {
      "application/vnd.jupyter.widget-view+json": {
       "model_id": "970212ebe31d42a6a90e06cc6ce2a1fb",
       "version_major": 2,
       "version_minor": 0
      },
      "text/plain": [
       "Epoch 02:   0%|          | 0/46 [00:00<?, ?it/s]"
      ]
     },
     "metadata": {},
     "output_type": "display_data"
    },
    {
     "name": "stdout",
     "output_type": "stream",
     "text": [
      "Train loss: 1.5317,  Time left: 0:01:24.088350\n",
      "Save new model\n"
     ]
    },
    {
     "data": {
      "application/vnd.jupyter.widget-view+json": {
       "model_id": "8942567d721d470594f1f666976b1737",
       "version_major": 2,
       "version_minor": 0
      },
      "text/plain": [
       "Epoch 03:   0%|          | 0/46 [00:00<?, ?it/s]"
      ]
     },
     "metadata": {},
     "output_type": "display_data"
    },
    {
     "name": "stdout",
     "output_type": "stream",
     "text": [
      "Train loss: 1.3636,  Time left: 0:01:23.014257\n",
      "Save new model\n"
     ]
    },
    {
     "data": {
      "application/vnd.jupyter.widget-view+json": {
       "model_id": "49a8c07cc3e445a7be063bf36788a0b0",
       "version_major": 2,
       "version_minor": 0
      },
      "text/plain": [
       "Epoch 04:   0%|          | 0/46 [00:00<?, ?it/s]"
      ]
     },
     "metadata": {},
     "output_type": "display_data"
    },
    {
     "name": "stdout",
     "output_type": "stream",
     "text": [
      "Train loss: 1.3313,  Time left: 0:01:22.909744\n",
      "Save new model\n"
     ]
    },
    {
     "data": {
      "application/vnd.jupyter.widget-view+json": {
       "model_id": "2a0ebc107d384d4b88c675cd757f7e8b",
       "version_major": 2,
       "version_minor": 0
      },
      "text/plain": [
       "Epoch 05:   0%|          | 0/46 [00:00<?, ?it/s]"
      ]
     },
     "metadata": {},
     "output_type": "display_data"
    },
    {
     "name": "stdout",
     "output_type": "stream",
     "text": [
      "Train loss: 1.2614,  Time left: 0:01:22.931503\n",
      "Save new model\n"
     ]
    },
    {
     "data": {
      "application/vnd.jupyter.widget-view+json": {
       "model_id": "4282aa232a314e7ab8a15e07f066600d",
       "version_major": 2,
       "version_minor": 0
      },
      "text/plain": [
       "Epoch 06:   0%|          | 0/46 [00:00<?, ?it/s]"
      ]
     },
     "metadata": {},
     "output_type": "display_data"
    },
    {
     "name": "stdout",
     "output_type": "stream",
     "text": [
      "Train loss: 0.5427,  Time left: 0:01:21.259844\n",
      "Save new model\n"
     ]
    },
    {
     "data": {
      "application/vnd.jupyter.widget-view+json": {
       "model_id": "99c993371ec8408c9e29fc26741d790c",
       "version_major": 2,
       "version_minor": 0
      },
      "text/plain": [
       "Epoch 07:   0%|          | 0/46 [00:00<?, ?it/s]"
      ]
     },
     "metadata": {},
     "output_type": "display_data"
    },
    {
     "name": "stdout",
     "output_type": "stream",
     "text": [
      "Train loss: 0.3202,  Time left: 0:01:19.951742\n",
      "Save new model\n"
     ]
    },
    {
     "data": {
      "application/vnd.jupyter.widget-view+json": {
       "model_id": "c1a87fbfe0d04238a81f56f509dadd03",
       "version_major": 2,
       "version_minor": 0
      },
      "text/plain": [
       "Epoch 08:   0%|          | 0/46 [00:00<?, ?it/s]"
      ]
     },
     "metadata": {},
     "output_type": "display_data"
    },
    {
     "name": "stdout",
     "output_type": "stream",
     "text": [
      "Train loss: 0.2656,  Time left: 0:01:21.108441\n",
      "Save new model\n"
     ]
    },
    {
     "data": {
      "application/vnd.jupyter.widget-view+json": {
       "model_id": "e1b44065eab64e39bbe49eb86034f959",
       "version_major": 2,
       "version_minor": 0
      },
      "text/plain": [
       "Epoch 09:   0%|          | 0/46 [00:00<?, ?it/s]"
      ]
     },
     "metadata": {},
     "output_type": "display_data"
    },
    {
     "name": "stdout",
     "output_type": "stream",
     "text": [
      "Train loss: 0.2147,  Time left: 0:01:20.490999\n",
      "Save new model\n"
     ]
    },
    {
     "data": {
      "application/vnd.jupyter.widget-view+json": {
       "model_id": "8bb2ddc6d531431ab3c3a20f2eb75470",
       "version_major": 2,
       "version_minor": 0
      },
      "text/plain": [
       "Epoch 10:   0%|          | 0/46 [00:00<?, ?it/s]"
      ]
     },
     "metadata": {},
     "output_type": "display_data"
    },
    {
     "name": "stdout",
     "output_type": "stream",
     "text": [
      "Train loss: 0.1923,  Time left: 0:01:18.006105\n",
      "Save new model\n"
     ]
    },
    {
     "data": {
      "application/vnd.jupyter.widget-view+json": {
       "model_id": "12bed4adf3e342f5a393243acf6d3a55",
       "version_major": 2,
       "version_minor": 0
      },
      "text/plain": [
       "Epoch 11:   0%|          | 0/46 [00:00<?, ?it/s]"
      ]
     },
     "metadata": {},
     "output_type": "display_data"
    },
    {
     "name": "stdout",
     "output_type": "stream",
     "text": [
      "Train loss: 0.1766,  Time left: 0:01:17.325994\n",
      "Save new model\n"
     ]
    },
    {
     "data": {
      "application/vnd.jupyter.widget-view+json": {
       "model_id": "6aa887cbcee14e4e9e5babdd046ef87f",
       "version_major": 2,
       "version_minor": 0
      },
      "text/plain": [
       "Epoch 12:   0%|          | 0/46 [00:00<?, ?it/s]"
      ]
     },
     "metadata": {},
     "output_type": "display_data"
    },
    {
     "name": "stdout",
     "output_type": "stream",
     "text": [
      "Train loss: 0.2014,  Time left: 0:01:15.837242\n"
     ]
    },
    {
     "data": {
      "application/vnd.jupyter.widget-view+json": {
       "model_id": "5067b1eaa29c4fbab8328eec1ccc6beb",
       "version_major": 2,
       "version_minor": 0
      },
      "text/plain": [
       "Epoch 13:   0%|          | 0/46 [00:00<?, ?it/s]"
      ]
     },
     "metadata": {},
     "output_type": "display_data"
    },
    {
     "name": "stdout",
     "output_type": "stream",
     "text": [
      "Train loss: 0.1751,  Time left: 0:01:15.187733\n",
      "Save new model\n"
     ]
    },
    {
     "data": {
      "application/vnd.jupyter.widget-view+json": {
       "model_id": "b775b04e5835494e920483dbd5274e0c",
       "version_major": 2,
       "version_minor": 0
      },
      "text/plain": [
       "Epoch 14:   0%|          | 0/46 [00:00<?, ?it/s]"
      ]
     },
     "metadata": {},
     "output_type": "display_data"
    },
    {
     "name": "stdout",
     "output_type": "stream",
     "text": [
      "Train loss: 0.1740,  Time left: 0:01:14.195172\n",
      "Save new model\n"
     ]
    },
    {
     "data": {
      "application/vnd.jupyter.widget-view+json": {
       "model_id": "0731406881c3495686433c1c419e1d0e",
       "version_major": 2,
       "version_minor": 0
      },
      "text/plain": [
       "Epoch 15:   0%|          | 0/46 [00:00<?, ?it/s]"
      ]
     },
     "metadata": {},
     "output_type": "display_data"
    },
    {
     "name": "stdout",
     "output_type": "stream",
     "text": [
      "Train loss: 0.1536,  Time left: 0:01:12.882967\n",
      "Save new model\n"
     ]
    },
    {
     "data": {
      "application/vnd.jupyter.widget-view+json": {
       "model_id": "2b3a249c688049d7bfbdebb06b4a5f42",
       "version_major": 2,
       "version_minor": 0
      },
      "text/plain": [
       "Epoch 16:   0%|          | 0/46 [00:00<?, ?it/s]"
      ]
     },
     "metadata": {},
     "output_type": "display_data"
    },
    {
     "name": "stdout",
     "output_type": "stream",
     "text": [
      "Train loss: 0.1250,  Time left: 0:01:12.048411\n",
      "Save new model\n"
     ]
    },
    {
     "data": {
      "application/vnd.jupyter.widget-view+json": {
       "model_id": "2daa2d51d22a4bdab74239853258f676",
       "version_major": 2,
       "version_minor": 0
      },
      "text/plain": [
       "Epoch 17:   0%|          | 0/46 [00:00<?, ?it/s]"
      ]
     },
     "metadata": {},
     "output_type": "display_data"
    },
    {
     "name": "stdout",
     "output_type": "stream",
     "text": [
      "Train loss: 0.1518,  Time left: 0:01:10.785518\n"
     ]
    },
    {
     "data": {
      "application/vnd.jupyter.widget-view+json": {
       "model_id": "82b31700b7bb4d92a54d8499bc4af287",
       "version_major": 2,
       "version_minor": 0
      },
      "text/plain": [
       "Epoch 18:   0%|          | 0/46 [00:00<?, ?it/s]"
      ]
     },
     "metadata": {},
     "output_type": "display_data"
    },
    {
     "name": "stdout",
     "output_type": "stream",
     "text": [
      "Train loss: 0.1161,  Time left: 0:01:10.546169\n",
      "Save new model\n"
     ]
    },
    {
     "data": {
      "application/vnd.jupyter.widget-view+json": {
       "model_id": "07caea8521b14cb387ea96ace0a22d81",
       "version_major": 2,
       "version_minor": 0
      },
      "text/plain": [
       "Epoch 19:   0%|          | 0/46 [00:00<?, ?it/s]"
      ]
     },
     "metadata": {},
     "output_type": "display_data"
    },
    {
     "name": "stdout",
     "output_type": "stream",
     "text": [
      "Train loss: 0.1162,  Time left: 0:01:09.749541\n"
     ]
    },
    {
     "data": {
      "application/vnd.jupyter.widget-view+json": {
       "model_id": "69a67a4f74ca468d80331b960f127deb",
       "version_major": 2,
       "version_minor": 0
      },
      "text/plain": [
       "Epoch 20:   0%|          | 0/46 [00:00<?, ?it/s]"
      ]
     },
     "metadata": {},
     "output_type": "display_data"
    },
    {
     "name": "stdout",
     "output_type": "stream",
     "text": [
      "Train loss: 0.1007,  Time left: 0:01:09.606628\n",
      "Save new model\n"
     ]
    },
    {
     "data": {
      "application/vnd.jupyter.widget-view+json": {
       "model_id": "dfdeafaaeb034f62849efeb53eddb42b",
       "version_major": 2,
       "version_minor": 0
      },
      "text/plain": [
       "Epoch 21:   0%|          | 0/46 [00:00<?, ?it/s]"
      ]
     },
     "metadata": {},
     "output_type": "display_data"
    },
    {
     "name": "stdout",
     "output_type": "stream",
     "text": [
      "Train loss: 0.1163,  Time left: 0:01:08.641165\n"
     ]
    },
    {
     "data": {
      "application/vnd.jupyter.widget-view+json": {
       "model_id": "827f8eb87943486f899c6fd50ddca486",
       "version_major": 2,
       "version_minor": 0
      },
      "text/plain": [
       "Epoch 22:   0%|          | 0/46 [00:00<?, ?it/s]"
      ]
     },
     "metadata": {},
     "output_type": "display_data"
    },
    {
     "name": "stdout",
     "output_type": "stream",
     "text": [
      "Train loss: 0.1105,  Time left: 0:01:07.297870\n"
     ]
    },
    {
     "data": {
      "application/vnd.jupyter.widget-view+json": {
       "model_id": "e39fab8d69e449e0bd3527ac56b1709a",
       "version_major": 2,
       "version_minor": 0
      },
      "text/plain": [
       "Epoch 23:   0%|          | 0/46 [00:00<?, ?it/s]"
      ]
     },
     "metadata": {},
     "output_type": "display_data"
    },
    {
     "name": "stdout",
     "output_type": "stream",
     "text": [
      "Train loss: 0.0867,  Time left: 0:01:06.793650\n",
      "Save new model\n"
     ]
    },
    {
     "data": {
      "application/vnd.jupyter.widget-view+json": {
       "model_id": "0d9efcca78134c66b7c96006c1ed7937",
       "version_major": 2,
       "version_minor": 0
      },
      "text/plain": [
       "Epoch 24:   0%|          | 0/46 [00:00<?, ?it/s]"
      ]
     },
     "metadata": {},
     "output_type": "display_data"
    },
    {
     "name": "stdout",
     "output_type": "stream",
     "text": [
      "Train loss: 0.0899,  Time left: 0:01:05.454541\n"
     ]
    },
    {
     "data": {
      "application/vnd.jupyter.widget-view+json": {
       "model_id": "1de9968bf40247f1a64b0d6b8effba7d",
       "version_major": 2,
       "version_minor": 0
      },
      "text/plain": [
       "Epoch 25:   0%|          | 0/46 [00:00<?, ?it/s]"
      ]
     },
     "metadata": {},
     "output_type": "display_data"
    },
    {
     "name": "stdout",
     "output_type": "stream",
     "text": [
      "Train loss: 0.0723,  Time left: 0:01:05.532696\n"
     ]
    },
    {
     "data": {
      "application/vnd.jupyter.widget-view+json": {
       "model_id": "65aa066e84c54eeeb0930df6821f4643",
       "version_major": 2,
       "version_minor": 0
      },
      "text/plain": [
       "Cross val:   0%|          | 0/5 [00:00<?, ?it/s]"
      ]
     },
     "metadata": {},
     "output_type": "display_data"
    },
    {
     "name": "stderr",
     "output_type": "stream",
     "text": [
      "Warning: less than 75% gpu memory available for training. Free: 15724.375 Total: 32501.125\n",
      "Warning: less than 75% gpu memory available for training. Free: 15724.375 Total: 32501.125\n",
      "Warning: less than 75% gpu memory available for training. Free: 15724.375 Total: 32501.125\n",
      "Warning: less than 75% gpu memory available for training. Free: 15724.375 Total: 32501.125\n",
      "Warning: less than 75% gpu memory available for training. Free: 15724.375 Total: 32501.125\n"
     ]
    },
    {
     "name": "stdout",
     "output_type": "stream",
     "text": [
      "Train R2: 0.8889,  Val R2: 0.5800, \n",
      "Save new model\n"
     ]
    },
    {
     "data": {
      "application/vnd.jupyter.widget-view+json": {
       "model_id": "6ca3466959934dd687ce7d2acbaaeb50",
       "version_major": 2,
       "version_minor": 0
      },
      "text/plain": [
       "Epoch 26:   0%|          | 0/46 [00:00<?, ?it/s]"
      ]
     },
     "metadata": {},
     "output_type": "display_data"
    },
    {
     "name": "stdout",
     "output_type": "stream",
     "text": [
      "Train loss: 0.0857,  Time left: 0:01:07.478221\n",
      "Save new model\n"
     ]
    },
    {
     "data": {
      "application/vnd.jupyter.widget-view+json": {
       "model_id": "bbf13e34ec494d8f814d29ba71a50fa0",
       "version_major": 2,
       "version_minor": 0
      },
      "text/plain": [
       "Epoch 27:   0%|          | 0/46 [00:00<?, ?it/s]"
      ]
     },
     "metadata": {},
     "output_type": "display_data"
    },
    {
     "name": "stdout",
     "output_type": "stream",
     "text": [
      "Train loss: 0.0683,  Time left: 0:01:03.749374\n",
      "Save new model\n"
     ]
    },
    {
     "data": {
      "application/vnd.jupyter.widget-view+json": {
       "model_id": "17df2da9ccde460a9e26db68526c2388",
       "version_major": 2,
       "version_minor": 0
      },
      "text/plain": [
       "Epoch 28:   0%|          | 0/46 [00:00<?, ?it/s]"
      ]
     },
     "metadata": {},
     "output_type": "display_data"
    },
    {
     "name": "stdout",
     "output_type": "stream",
     "text": [
      "Train loss: 0.0590,  Time left: 0:01:02.848680\n",
      "Save new model\n"
     ]
    },
    {
     "data": {
      "application/vnd.jupyter.widget-view+json": {
       "model_id": "9494dddb980144298de88ebe86b89e2c",
       "version_major": 2,
       "version_minor": 0
      },
      "text/plain": [
       "Epoch 29:   0%|          | 0/46 [00:00<?, ?it/s]"
      ]
     },
     "metadata": {},
     "output_type": "display_data"
    },
    {
     "name": "stdout",
     "output_type": "stream",
     "text": [
      "Train loss: 0.0558,  Time left: 0:01:02.038229\n",
      "Save new model\n"
     ]
    },
    {
     "data": {
      "application/vnd.jupyter.widget-view+json": {
       "model_id": "7a5d1aece148414089b9424a20917e05",
       "version_major": 2,
       "version_minor": 0
      },
      "text/plain": [
       "Epoch 30:   0%|          | 0/46 [00:00<?, ?it/s]"
      ]
     },
     "metadata": {},
     "output_type": "display_data"
    },
    {
     "name": "stdout",
     "output_type": "stream",
     "text": [
      "Train loss: 0.0755,  Time left: 0:01:01.176634\n"
     ]
    },
    {
     "data": {
      "application/vnd.jupyter.widget-view+json": {
       "model_id": "a918b2c80d4f46ea9917f5f008221407",
       "version_major": 2,
       "version_minor": 0
      },
      "text/plain": [
       "Epoch 31:   0%|          | 0/46 [00:00<?, ?it/s]"
      ]
     },
     "metadata": {},
     "output_type": "display_data"
    },
    {
     "name": "stdout",
     "output_type": "stream",
     "text": [
      "Train loss: 0.0492,  Time left: 0:00:59.671593\n",
      "Save new model\n"
     ]
    },
    {
     "data": {
      "application/vnd.jupyter.widget-view+json": {
       "model_id": "407e5cebd8254a40832424b6db46d7e1",
       "version_major": 2,
       "version_minor": 0
      },
      "text/plain": [
       "Epoch 32:   0%|          | 0/46 [00:00<?, ?it/s]"
      ]
     },
     "metadata": {},
     "output_type": "display_data"
    },
    {
     "name": "stdout",
     "output_type": "stream",
     "text": [
      "Train loss: 0.0796,  Time left: 0:00:58.869514\n"
     ]
    },
    {
     "data": {
      "application/vnd.jupyter.widget-view+json": {
       "model_id": "35348f1c91da47b8a7cded8647f2c0e4",
       "version_major": 2,
       "version_minor": 0
      },
      "text/plain": [
       "Epoch 33:   0%|          | 0/46 [00:00<?, ?it/s]"
      ]
     },
     "metadata": {},
     "output_type": "display_data"
    },
    {
     "name": "stdout",
     "output_type": "stream",
     "text": [
      "Train loss: 0.0754,  Time left: 0:00:58.828429\n"
     ]
    },
    {
     "data": {
      "application/vnd.jupyter.widget-view+json": {
       "model_id": "0106b8e9859e4aea810ccf52b3cc3c02",
       "version_major": 2,
       "version_minor": 0
      },
      "text/plain": [
       "Epoch 34:   0%|          | 0/46 [00:00<?, ?it/s]"
      ]
     },
     "metadata": {},
     "output_type": "display_data"
    },
    {
     "name": "stdout",
     "output_type": "stream",
     "text": [
      "Train loss: 0.0481,  Time left: 0:00:58.967827\n",
      "Save new model\n"
     ]
    },
    {
     "data": {
      "application/vnd.jupyter.widget-view+json": {
       "model_id": "3d614e3dd5f543a3ac1236a6f9e1fcdf",
       "version_major": 2,
       "version_minor": 0
      },
      "text/plain": [
       "Epoch 35:   0%|          | 0/46 [00:00<?, ?it/s]"
      ]
     },
     "metadata": {},
     "output_type": "display_data"
    },
    {
     "name": "stdout",
     "output_type": "stream",
     "text": [
      "Train loss: 0.0439,  Time left: 0:00:56.855536\n",
      "Save new model\n"
     ]
    },
    {
     "data": {
      "application/vnd.jupyter.widget-view+json": {
       "model_id": "5cf9b4079b894979bcfa1acd483cd091",
       "version_major": 2,
       "version_minor": 0
      },
      "text/plain": [
       "Epoch 36:   0%|          | 0/46 [00:00<?, ?it/s]"
      ]
     },
     "metadata": {},
     "output_type": "display_data"
    },
    {
     "name": "stdout",
     "output_type": "stream",
     "text": [
      "Train loss: 0.0470,  Time left: 0:00:55.461182\n"
     ]
    },
    {
     "data": {
      "application/vnd.jupyter.widget-view+json": {
       "model_id": "11a82b4d4d2e43c8a2669be87225590e",
       "version_major": 2,
       "version_minor": 0
      },
      "text/plain": [
       "Epoch 37:   0%|          | 0/46 [00:00<?, ?it/s]"
      ]
     },
     "metadata": {},
     "output_type": "display_data"
    },
    {
     "name": "stdout",
     "output_type": "stream",
     "text": [
      "Train loss: 0.0503,  Time left: 0:00:55.224149\n"
     ]
    },
    {
     "data": {
      "application/vnd.jupyter.widget-view+json": {
       "model_id": "5e4a95b1650440b093a9cddd2daf4950",
       "version_major": 2,
       "version_minor": 0
      },
      "text/plain": [
       "Epoch 38:   0%|          | 0/46 [00:00<?, ?it/s]"
      ]
     },
     "metadata": {},
     "output_type": "display_data"
    },
    {
     "name": "stdout",
     "output_type": "stream",
     "text": [
      "Train loss: 0.0334,  Time left: 0:00:53.078190\n",
      "Save new model\n"
     ]
    },
    {
     "data": {
      "application/vnd.jupyter.widget-view+json": {
       "model_id": "f0e08cb666d04c8f8bb85580adfda9fc",
       "version_major": 2,
       "version_minor": 0
      },
      "text/plain": [
       "Epoch 39:   0%|          | 0/46 [00:00<?, ?it/s]"
      ]
     },
     "metadata": {},
     "output_type": "display_data"
    },
    {
     "name": "stdout",
     "output_type": "stream",
     "text": [
      "Train loss: 0.0440,  Time left: 0:00:53.399026\n"
     ]
    },
    {
     "data": {
      "application/vnd.jupyter.widget-view+json": {
       "model_id": "d31df8340ab94932b88def46c77a4ef4",
       "version_major": 2,
       "version_minor": 0
      },
      "text/plain": [
       "Epoch 40:   0%|          | 0/46 [00:00<?, ?it/s]"
      ]
     },
     "metadata": {},
     "output_type": "display_data"
    },
    {
     "name": "stdout",
     "output_type": "stream",
     "text": [
      "Train loss: 0.0461,  Time left: 0:00:52.117810\n"
     ]
    },
    {
     "data": {
      "application/vnd.jupyter.widget-view+json": {
       "model_id": "7a4b61907fad445a8fb6dc6afa8b1b80",
       "version_major": 2,
       "version_minor": 0
      },
      "text/plain": [
       "Epoch 41:   0%|          | 0/46 [00:00<?, ?it/s]"
      ]
     },
     "metadata": {},
     "output_type": "display_data"
    },
    {
     "name": "stdout",
     "output_type": "stream",
     "text": [
      "Train loss: 0.0373,  Time left: 0:00:51.013844\n"
     ]
    },
    {
     "data": {
      "application/vnd.jupyter.widget-view+json": {
       "model_id": "09b3d0ed58dd45eda609b83c8dfcdabe",
       "version_major": 2,
       "version_minor": 0
      },
      "text/plain": [
       "Epoch 42:   0%|          | 0/46 [00:00<?, ?it/s]"
      ]
     },
     "metadata": {},
     "output_type": "display_data"
    },
    {
     "name": "stdout",
     "output_type": "stream",
     "text": [
      "Train loss: 0.0701,  Time left: 0:00:50.844903\n"
     ]
    },
    {
     "data": {
      "application/vnd.jupyter.widget-view+json": {
       "model_id": "ad7e171291774ce8859686b160baf4e0",
       "version_major": 2,
       "version_minor": 0
      },
      "text/plain": [
       "Epoch 43:   0%|          | 0/46 [00:00<?, ?it/s]"
      ]
     },
     "metadata": {},
     "output_type": "display_data"
    },
    {
     "name": "stdout",
     "output_type": "stream",
     "text": [
      "Train loss: 0.0476,  Time left: 0:00:49.500029\n"
     ]
    },
    {
     "data": {
      "application/vnd.jupyter.widget-view+json": {
       "model_id": "d1ba67c66f6341f68167bb9f55ab57bd",
       "version_major": 2,
       "version_minor": 0
      },
      "text/plain": [
       "Epoch 44:   0%|          | 0/46 [00:00<?, ?it/s]"
      ]
     },
     "metadata": {},
     "output_type": "display_data"
    },
    {
     "name": "stdout",
     "output_type": "stream",
     "text": [
      "Train loss: 0.0405,  Time left: 0:00:48.859556\n"
     ]
    },
    {
     "data": {
      "application/vnd.jupyter.widget-view+json": {
       "model_id": "fafd9f2e2f11428aa042184f3f2168fc",
       "version_major": 2,
       "version_minor": 0
      },
      "text/plain": [
       "Epoch 45:   0%|          | 0/46 [00:00<?, ?it/s]"
      ]
     },
     "metadata": {},
     "output_type": "display_data"
    },
    {
     "name": "stdout",
     "output_type": "stream",
     "text": [
      "Train loss: 0.0425,  Time left: 0:00:48.724895\n"
     ]
    },
    {
     "data": {
      "application/vnd.jupyter.widget-view+json": {
       "model_id": "a59a89f4c31b45cf9b42196086405a3b",
       "version_major": 2,
       "version_minor": 0
      },
      "text/plain": [
       "Epoch 46:   0%|          | 0/46 [00:00<?, ?it/s]"
      ]
     },
     "metadata": {},
     "output_type": "display_data"
    },
    {
     "name": "stdout",
     "output_type": "stream",
     "text": [
      "Train loss: 0.0354,  Time left: 0:00:47.427129\n"
     ]
    },
    {
     "data": {
      "application/vnd.jupyter.widget-view+json": {
       "model_id": "a2d1befbd06a45f286193dc06ee55245",
       "version_major": 2,
       "version_minor": 0
      },
      "text/plain": [
       "Epoch 47:   0%|          | 0/46 [00:00<?, ?it/s]"
      ]
     },
     "metadata": {},
     "output_type": "display_data"
    },
    {
     "name": "stdout",
     "output_type": "stream",
     "text": [
      "Train loss: 0.0349,  Time left: 0:00:46.059993\n"
     ]
    },
    {
     "data": {
      "application/vnd.jupyter.widget-view+json": {
       "model_id": "c0567e78f2594841845b6a7b8f6f1b18",
       "version_major": 2,
       "version_minor": 0
      },
      "text/plain": [
       "Epoch 48:   0%|          | 0/46 [00:00<?, ?it/s]"
      ]
     },
     "metadata": {},
     "output_type": "display_data"
    },
    {
     "name": "stdout",
     "output_type": "stream",
     "text": [
      "Train loss: 0.0332,  Time left: 0:00:45.898923\n",
      "Save new model\n"
     ]
    },
    {
     "data": {
      "application/vnd.jupyter.widget-view+json": {
       "model_id": "bc2074f4063d4b4ea3bc82737a4cdfa5",
       "version_major": 2,
       "version_minor": 0
      },
      "text/plain": [
       "Epoch 49:   0%|          | 0/46 [00:00<?, ?it/s]"
      ]
     },
     "metadata": {},
     "output_type": "display_data"
    },
    {
     "name": "stdout",
     "output_type": "stream",
     "text": [
      "Train loss: 0.0425,  Time left: 0:00:44.633329\n"
     ]
    },
    {
     "data": {
      "application/vnd.jupyter.widget-view+json": {
       "model_id": "79d983e065f34dd9b3c79ea13bb5b4a7",
       "version_major": 2,
       "version_minor": 0
      },
      "text/plain": [
       "Epoch 50:   0%|          | 0/46 [00:00<?, ?it/s]"
      ]
     },
     "metadata": {},
     "output_type": "display_data"
    },
    {
     "name": "stdout",
     "output_type": "stream",
     "text": [
      "Train loss: 0.0461,  Time left: 0:00:43.732119\n"
     ]
    },
    {
     "data": {
      "application/vnd.jupyter.widget-view+json": {
       "model_id": "81a7cc15e3104d0c8c5e223f0451e5b1",
       "version_major": 2,
       "version_minor": 0
      },
      "text/plain": [
       "Cross val:   0%|          | 0/5 [00:00<?, ?it/s]"
      ]
     },
     "metadata": {},
     "output_type": "display_data"
    },
    {
     "name": "stderr",
     "output_type": "stream",
     "text": [
      "Warning: less than 75% gpu memory available for training. Free: 15724.375 Total: 32501.125\n",
      "Warning: less than 75% gpu memory available for training. Free: 15724.375 Total: 32501.125\n",
      "Warning: less than 75% gpu memory available for training. Free: 15724.375 Total: 32501.125\n",
      "Warning: less than 75% gpu memory available for training. Free: 15724.375 Total: 32501.125\n",
      "Warning: less than 75% gpu memory available for training. Free: 15724.375 Total: 32501.125\n"
     ]
    },
    {
     "name": "stdout",
     "output_type": "stream",
     "text": [
      "Train R2: 0.8880,  Val R2: 0.5766, \n"
     ]
    },
    {
     "data": {
      "application/vnd.jupyter.widget-view+json": {
       "model_id": "76eb6195167f430a893770851d13cfc2",
       "version_major": 2,
       "version_minor": 0
      },
      "text/plain": [
       "Epoch 51:   0%|          | 0/46 [00:00<?, ?it/s]"
      ]
     },
     "metadata": {},
     "output_type": "display_data"
    },
    {
     "name": "stdout",
     "output_type": "stream",
     "text": [
      "Train loss: 0.0313,  Time left: 0:00:43.674224\n",
      "Save new model\n"
     ]
    },
    {
     "data": {
      "application/vnd.jupyter.widget-view+json": {
       "model_id": "b48c793220ba4dc69ab06a57960b86e6",
       "version_major": 2,
       "version_minor": 0
      },
      "text/plain": [
       "Epoch 52:   0%|          | 0/46 [00:00<?, ?it/s]"
      ]
     },
     "metadata": {},
     "output_type": "display_data"
    },
    {
     "name": "stdout",
     "output_type": "stream",
     "text": [
      "Train loss: 0.0376,  Time left: 0:00:41.967922\n"
     ]
    },
    {
     "data": {
      "application/vnd.jupyter.widget-view+json": {
       "model_id": "d1c507daeaf74e8c830d190708a5a1c2",
       "version_major": 2,
       "version_minor": 0
      },
      "text/plain": [
       "Epoch 53:   0%|          | 0/46 [00:00<?, ?it/s]"
      ]
     },
     "metadata": {},
     "output_type": "display_data"
    },
    {
     "name": "stdout",
     "output_type": "stream",
     "text": [
      "Train loss: 0.0634,  Time left: 0:00:40.913997\n"
     ]
    },
    {
     "data": {
      "application/vnd.jupyter.widget-view+json": {
       "model_id": "24573cb59878425897cc1a207be596c0",
       "version_major": 2,
       "version_minor": 0
      },
      "text/plain": [
       "Epoch 54:   0%|          | 0/46 [00:00<?, ?it/s]"
      ]
     },
     "metadata": {},
     "output_type": "display_data"
    },
    {
     "name": "stdout",
     "output_type": "stream",
     "text": [
      "Train loss: 0.0336,  Time left: 0:00:40.131608\n"
     ]
    },
    {
     "data": {
      "application/vnd.jupyter.widget-view+json": {
       "model_id": "a5d6ac9048ee4c11b95acc63f73017fc",
       "version_major": 2,
       "version_minor": 0
      },
      "text/plain": [
       "Epoch 55:   0%|          | 0/46 [00:00<?, ?it/s]"
      ]
     },
     "metadata": {},
     "output_type": "display_data"
    },
    {
     "name": "stdout",
     "output_type": "stream",
     "text": [
      "Train loss: 0.0609,  Time left: 0:00:39.222854\n"
     ]
    },
    {
     "data": {
      "application/vnd.jupyter.widget-view+json": {
       "model_id": "9bdc70c672554cc7b2bac5f33db8e205",
       "version_major": 2,
       "version_minor": 0
      },
      "text/plain": [
       "Epoch 56:   0%|          | 0/46 [00:00<?, ?it/s]"
      ]
     },
     "metadata": {},
     "output_type": "display_data"
    },
    {
     "name": "stdout",
     "output_type": "stream",
     "text": [
      "Train loss: 0.0556,  Time left: 0:00:38.266725\n"
     ]
    },
    {
     "data": {
      "application/vnd.jupyter.widget-view+json": {
       "model_id": "f4deb32febfb4f0fb85da160711fc488",
       "version_major": 2,
       "version_minor": 0
      },
      "text/plain": [
       "Epoch 57:   0%|          | 0/46 [00:00<?, ?it/s]"
      ]
     },
     "metadata": {},
     "output_type": "display_data"
    },
    {
     "name": "stdout",
     "output_type": "stream",
     "text": [
      "Train loss: 0.0343,  Time left: 0:00:37.473014\n"
     ]
    },
    {
     "data": {
      "application/vnd.jupyter.widget-view+json": {
       "model_id": "eea45b371fb64f8b8f2b951de3c98ca5",
       "version_major": 2,
       "version_minor": 0
      },
      "text/plain": [
       "Epoch 58:   0%|          | 0/46 [00:00<?, ?it/s]"
      ]
     },
     "metadata": {},
     "output_type": "display_data"
    },
    {
     "name": "stdout",
     "output_type": "stream",
     "text": [
      "Train loss: 0.0343,  Time left: 0:00:36.175791\n"
     ]
    },
    {
     "data": {
      "application/vnd.jupyter.widget-view+json": {
       "model_id": "955598521048419cb7241bbee92c683e",
       "version_major": 2,
       "version_minor": 0
      },
      "text/plain": [
       "Epoch 59:   0%|          | 0/46 [00:00<?, ?it/s]"
      ]
     },
     "metadata": {},
     "output_type": "display_data"
    },
    {
     "name": "stdout",
     "output_type": "stream",
     "text": [
      "Train loss: 0.0411,  Time left: 0:00:36.926025\n"
     ]
    },
    {
     "data": {
      "application/vnd.jupyter.widget-view+json": {
       "model_id": "f81905344a6a437e9f1a0786947d4c9e",
       "version_major": 2,
       "version_minor": 0
      },
      "text/plain": [
       "Epoch 60:   0%|          | 0/46 [00:00<?, ?it/s]"
      ]
     },
     "metadata": {},
     "output_type": "display_data"
    },
    {
     "name": "stdout",
     "output_type": "stream",
     "text": [
      "Train loss: 0.0506,  Time left: 0:00:35.449533\n"
     ]
    },
    {
     "data": {
      "application/vnd.jupyter.widget-view+json": {
       "model_id": "5ab51c59eb3f4fbbbef6ba771b39e653",
       "version_major": 2,
       "version_minor": 0
      },
      "text/plain": [
       "Epoch 61:   0%|          | 0/46 [00:00<?, ?it/s]"
      ]
     },
     "metadata": {},
     "output_type": "display_data"
    },
    {
     "name": "stdout",
     "output_type": "stream",
     "text": [
      "Train loss: 0.0454,  Time left: 0:00:33.564348\n"
     ]
    },
    {
     "data": {
      "application/vnd.jupyter.widget-view+json": {
       "model_id": "b04408881f094006aeb2d22a027cca82",
       "version_major": 2,
       "version_minor": 0
      },
      "text/plain": [
       "Epoch 62:   0%|          | 0/46 [00:00<?, ?it/s]"
      ]
     },
     "metadata": {},
     "output_type": "display_data"
    },
    {
     "name": "stdout",
     "output_type": "stream",
     "text": [
      "Train loss: 0.0340,  Time left: 0:00:32.340295\n"
     ]
    },
    {
     "data": {
      "application/vnd.jupyter.widget-view+json": {
       "model_id": "eacd5effbced427c9eac9bdb1e977987",
       "version_major": 2,
       "version_minor": 0
      },
      "text/plain": [
       "Epoch 63:   0%|          | 0/46 [00:00<?, ?it/s]"
      ]
     },
     "metadata": {},
     "output_type": "display_data"
    },
    {
     "name": "stdout",
     "output_type": "stream",
     "text": [
      "Train loss: 0.0250,  Time left: 0:00:32.843880\n",
      "Save new model\n"
     ]
    },
    {
     "data": {
      "application/vnd.jupyter.widget-view+json": {
       "model_id": "d348515db3f84ec6856601c2c923ccf4",
       "version_major": 2,
       "version_minor": 0
      },
      "text/plain": [
       "Epoch 64:   0%|          | 0/46 [00:00<?, ?it/s]"
      ]
     },
     "metadata": {},
     "output_type": "display_data"
    },
    {
     "name": "stdout",
     "output_type": "stream",
     "text": [
      "Train loss: 0.0297,  Time left: 0:00:31.406565\n"
     ]
    },
    {
     "data": {
      "application/vnd.jupyter.widget-view+json": {
       "model_id": "15bab61461af48b09d832eb1e6916f7e",
       "version_major": 2,
       "version_minor": 0
      },
      "text/plain": [
       "Epoch 65:   0%|          | 0/46 [00:00<?, ?it/s]"
      ]
     },
     "metadata": {},
     "output_type": "display_data"
    },
    {
     "name": "stdout",
     "output_type": "stream",
     "text": [
      "Train loss: 0.0262,  Time left: 0:00:30.560938\n"
     ]
    },
    {
     "data": {
      "application/vnd.jupyter.widget-view+json": {
       "model_id": "f9a4cb4498ae43ffbdf660aa0984908e",
       "version_major": 2,
       "version_minor": 0
      },
      "text/plain": [
       "Epoch 66:   0%|          | 0/46 [00:00<?, ?it/s]"
      ]
     },
     "metadata": {},
     "output_type": "display_data"
    },
    {
     "name": "stdout",
     "output_type": "stream",
     "text": [
      "Train loss: 0.0382,  Time left: 0:00:29.302106\n"
     ]
    },
    {
     "data": {
      "application/vnd.jupyter.widget-view+json": {
       "model_id": "8c58e0fa6c534db495dfa87af7fe9f5e",
       "version_major": 2,
       "version_minor": 0
      },
      "text/plain": [
       "Epoch 67:   0%|          | 0/46 [00:00<?, ?it/s]"
      ]
     },
     "metadata": {},
     "output_type": "display_data"
    },
    {
     "name": "stdout",
     "output_type": "stream",
     "text": [
      "Train loss: 0.0332,  Time left: 0:00:28.452011\n"
     ]
    },
    {
     "data": {
      "application/vnd.jupyter.widget-view+json": {
       "model_id": "941d007ba1854c7da1c2ab3718cc55dd",
       "version_major": 2,
       "version_minor": 0
      },
      "text/plain": [
       "Epoch 68:   0%|          | 0/46 [00:00<?, ?it/s]"
      ]
     },
     "metadata": {},
     "output_type": "display_data"
    },
    {
     "name": "stdout",
     "output_type": "stream",
     "text": [
      "Train loss: 0.0260,  Time left: 0:00:27.801781\n"
     ]
    },
    {
     "data": {
      "application/vnd.jupyter.widget-view+json": {
       "model_id": "133c2a3c287a4654bed49e42a81bb759",
       "version_major": 2,
       "version_minor": 0
      },
      "text/plain": [
       "Epoch 69:   0%|          | 0/46 [00:00<?, ?it/s]"
      ]
     },
     "metadata": {},
     "output_type": "display_data"
    },
    {
     "name": "stdout",
     "output_type": "stream",
     "text": [
      "Train loss: 0.0259,  Time left: 0:00:26.765496\n"
     ]
    },
    {
     "data": {
      "application/vnd.jupyter.widget-view+json": {
       "model_id": "af2f65a1be154506bc7a3d781a65b9fd",
       "version_major": 2,
       "version_minor": 0
      },
      "text/plain": [
       "Epoch 70:   0%|          | 0/46 [00:00<?, ?it/s]"
      ]
     },
     "metadata": {},
     "output_type": "display_data"
    },
    {
     "name": "stdout",
     "output_type": "stream",
     "text": [
      "Train loss: 0.0374,  Time left: 0:00:26.010246\n"
     ]
    },
    {
     "data": {
      "application/vnd.jupyter.widget-view+json": {
       "model_id": "d34768369a644e549b587f12c205fe2d",
       "version_major": 2,
       "version_minor": 0
      },
      "text/plain": [
       "Epoch 71:   0%|          | 0/46 [00:00<?, ?it/s]"
      ]
     },
     "metadata": {},
     "output_type": "display_data"
    },
    {
     "name": "stdout",
     "output_type": "stream",
     "text": [
      "Train loss: 0.0182,  Time left: 0:00:24.982360\n",
      "Save new model\n"
     ]
    },
    {
     "data": {
      "application/vnd.jupyter.widget-view+json": {
       "model_id": "04738381ce974fd2912e9dcba4006705",
       "version_major": 2,
       "version_minor": 0
      },
      "text/plain": [
       "Epoch 72:   0%|          | 0/46 [00:00<?, ?it/s]"
      ]
     },
     "metadata": {},
     "output_type": "display_data"
    },
    {
     "name": "stdout",
     "output_type": "stream",
     "text": [
      "Train loss: 0.0402,  Time left: 0:00:23.910460\n"
     ]
    },
    {
     "data": {
      "application/vnd.jupyter.widget-view+json": {
       "model_id": "e063f9ef888d4db9bfa3f74776d6747e",
       "version_major": 2,
       "version_minor": 0
      },
      "text/plain": [
       "Epoch 73:   0%|          | 0/46 [00:00<?, ?it/s]"
      ]
     },
     "metadata": {},
     "output_type": "display_data"
    },
    {
     "name": "stdout",
     "output_type": "stream",
     "text": [
      "Train loss: 0.0316,  Time left: 0:00:23.642683\n"
     ]
    },
    {
     "data": {
      "application/vnd.jupyter.widget-view+json": {
       "model_id": "ca91b967a0204427bed23e2b0a842fe4",
       "version_major": 2,
       "version_minor": 0
      },
      "text/plain": [
       "Epoch 74:   0%|          | 0/46 [00:00<?, ?it/s]"
      ]
     },
     "metadata": {},
     "output_type": "display_data"
    },
    {
     "name": "stdout",
     "output_type": "stream",
     "text": [
      "Train loss: 0.0258,  Time left: 0:00:22.623890\n"
     ]
    },
    {
     "data": {
      "application/vnd.jupyter.widget-view+json": {
       "model_id": "d9b5873959ea48178a6dde74d1bb0e2f",
       "version_major": 2,
       "version_minor": 0
      },
      "text/plain": [
       "Epoch 75:   0%|          | 0/46 [00:00<?, ?it/s]"
      ]
     },
     "metadata": {},
     "output_type": "display_data"
    },
    {
     "name": "stdout",
     "output_type": "stream",
     "text": [
      "Train loss: 0.0703,  Time left: 0:00:21.294284\n"
     ]
    },
    {
     "data": {
      "application/vnd.jupyter.widget-view+json": {
       "model_id": "3dec35a4cb5742d0928aebec34495e28",
       "version_major": 2,
       "version_minor": 0
      },
      "text/plain": [
       "Cross val:   0%|          | 0/5 [00:00<?, ?it/s]"
      ]
     },
     "metadata": {},
     "output_type": "display_data"
    },
    {
     "name": "stderr",
     "output_type": "stream",
     "text": [
      "Warning: less than 75% gpu memory available for training. Free: 14482.375 Total: 32501.125\n",
      "Warning: less than 75% gpu memory available for training. Free: 14482.375 Total: 32501.125\n",
      "Warning: less than 75% gpu memory available for training. Free: 14482.375 Total: 32501.125\n",
      "Warning: less than 75% gpu memory available for training. Free: 14482.375 Total: 32501.125\n",
      "Warning: less than 75% gpu memory available for training. Free: 14482.375 Total: 32501.125\n"
     ]
    },
    {
     "name": "stdout",
     "output_type": "stream",
     "text": [
      "Train R2: 0.9064,  Val R2: 0.5770, \n"
     ]
    },
    {
     "data": {
      "application/vnd.jupyter.widget-view+json": {
       "model_id": "c24768803bd9454d95d376f0c09a4649",
       "version_major": 2,
       "version_minor": 0
      },
      "text/plain": [
       "Epoch 76:   0%|          | 0/46 [00:00<?, ?it/s]"
      ]
     },
     "metadata": {},
     "output_type": "display_data"
    },
    {
     "name": "stdout",
     "output_type": "stream",
     "text": [
      "Train loss: 0.0331,  Time left: 0:00:21.886711\n"
     ]
    },
    {
     "data": {
      "application/vnd.jupyter.widget-view+json": {
       "model_id": "abeced761b03481da7b45e2a836e899b",
       "version_major": 2,
       "version_minor": 0
      },
      "text/plain": [
       "Epoch 77:   0%|          | 0/46 [00:00<?, ?it/s]"
      ]
     },
     "metadata": {},
     "output_type": "display_data"
    },
    {
     "name": "stdout",
     "output_type": "stream",
     "text": [
      "Train loss: 0.0292,  Time left: 0:00:20.328152\n"
     ]
    },
    {
     "data": {
      "application/vnd.jupyter.widget-view+json": {
       "model_id": "ee9fcb42cfda4324ab4fddb9dc0182d6",
       "version_major": 2,
       "version_minor": 0
      },
      "text/plain": [
       "Epoch 78:   0%|          | 0/46 [00:00<?, ?it/s]"
      ]
     },
     "metadata": {},
     "output_type": "display_data"
    },
    {
     "name": "stdout",
     "output_type": "stream",
     "text": [
      "Train loss: 0.0269,  Time left: 0:00:19.108741\n"
     ]
    },
    {
     "data": {
      "application/vnd.jupyter.widget-view+json": {
       "model_id": "b00747b9504c45f0a6fbfd9038ba44b9",
       "version_major": 2,
       "version_minor": 0
      },
      "text/plain": [
       "Epoch 79:   0%|          | 0/46 [00:00<?, ?it/s]"
      ]
     },
     "metadata": {},
     "output_type": "display_data"
    },
    {
     "name": "stdout",
     "output_type": "stream",
     "text": [
      "Train loss: 0.0293,  Time left: 0:00:18.179305\n"
     ]
    },
    {
     "data": {
      "application/vnd.jupyter.widget-view+json": {
       "model_id": "c5dae4988ca0464092b9810cec26c333",
       "version_major": 2,
       "version_minor": 0
      },
      "text/plain": [
       "Epoch 80:   0%|          | 0/46 [00:00<?, ?it/s]"
      ]
     },
     "metadata": {},
     "output_type": "display_data"
    },
    {
     "name": "stdout",
     "output_type": "stream",
     "text": [
      "Train loss: 0.0350,  Time left: 0:00:17.363701\n"
     ]
    },
    {
     "data": {
      "application/vnd.jupyter.widget-view+json": {
       "model_id": "2c9f5cbc38fe4e88b0855f1b855adc9e",
       "version_major": 2,
       "version_minor": 0
      },
      "text/plain": [
       "Epoch 81:   0%|          | 0/46 [00:00<?, ?it/s]"
      ]
     },
     "metadata": {},
     "output_type": "display_data"
    },
    {
     "name": "stdout",
     "output_type": "stream",
     "text": [
      "Train loss: 0.0217,  Time left: 0:00:16.619954\n"
     ]
    },
    {
     "data": {
      "application/vnd.jupyter.widget-view+json": {
       "model_id": "fffcf388d0444c6ea0dc1a572f9a7e10",
       "version_major": 2,
       "version_minor": 0
      },
      "text/plain": [
       "Epoch 82:   0%|          | 0/46 [00:00<?, ?it/s]"
      ]
     },
     "metadata": {},
     "output_type": "display_data"
    },
    {
     "name": "stdout",
     "output_type": "stream",
     "text": [
      "Train loss: 0.0348,  Time left: 0:00:15.542058\n"
     ]
    },
    {
     "data": {
      "application/vnd.jupyter.widget-view+json": {
       "model_id": "7398c41f4ca245cda37b7d4ea7c5f411",
       "version_major": 2,
       "version_minor": 0
      },
      "text/plain": [
       "Epoch 83:   0%|          | 0/46 [00:00<?, ?it/s]"
      ]
     },
     "metadata": {},
     "output_type": "display_data"
    },
    {
     "name": "stdout",
     "output_type": "stream",
     "text": [
      "Train loss: 0.0263,  Time left: 0:00:14.672510\n"
     ]
    },
    {
     "data": {
      "application/vnd.jupyter.widget-view+json": {
       "model_id": "2c143db2e4aa47f29cff3ccbaf9ad443",
       "version_major": 2,
       "version_minor": 0
      },
      "text/plain": [
       "Epoch 84:   0%|          | 0/46 [00:00<?, ?it/s]"
      ]
     },
     "metadata": {},
     "output_type": "display_data"
    },
    {
     "name": "stdout",
     "output_type": "stream",
     "text": [
      "Train loss: 0.0268,  Time left: 0:00:14.094093\n"
     ]
    },
    {
     "data": {
      "application/vnd.jupyter.widget-view+json": {
       "model_id": "88955cc6b34a4d1391f603922cdcb8d3",
       "version_major": 2,
       "version_minor": 0
      },
      "text/plain": [
       "Epoch 85:   0%|          | 0/46 [00:00<?, ?it/s]"
      ]
     },
     "metadata": {},
     "output_type": "display_data"
    },
    {
     "name": "stdout",
     "output_type": "stream",
     "text": [
      "Train loss: 0.0186,  Time left: 0:00:13.248568\n"
     ]
    },
    {
     "data": {
      "application/vnd.jupyter.widget-view+json": {
       "model_id": "e08e96ced4eb4a46a50bf90e8317f299",
       "version_major": 2,
       "version_minor": 0
      },
      "text/plain": [
       "Epoch 86:   0%|          | 0/46 [00:00<?, ?it/s]"
      ]
     },
     "metadata": {},
     "output_type": "display_data"
    },
    {
     "name": "stdout",
     "output_type": "stream",
     "text": [
      "Train loss: 0.0188,  Time left: 0:00:12.534282\n"
     ]
    },
    {
     "data": {
      "application/vnd.jupyter.widget-view+json": {
       "model_id": "8cee76b9678d4938b2891391ff7ecfb5",
       "version_major": 2,
       "version_minor": 0
      },
      "text/plain": [
       "Epoch 87:   0%|          | 0/46 [00:00<?, ?it/s]"
      ]
     },
     "metadata": {},
     "output_type": "display_data"
    },
    {
     "name": "stdout",
     "output_type": "stream",
     "text": [
      "Train loss: 0.0226,  Time left: 0:00:11.423488\n"
     ]
    },
    {
     "data": {
      "application/vnd.jupyter.widget-view+json": {
       "model_id": "94d0da0d33af475099cdc95a49f939bf",
       "version_major": 2,
       "version_minor": 0
      },
      "text/plain": [
       "Epoch 88:   0%|          | 0/46 [00:00<?, ?it/s]"
      ]
     },
     "metadata": {},
     "output_type": "display_data"
    },
    {
     "name": "stdout",
     "output_type": "stream",
     "text": [
      "Train loss: 0.0244,  Time left: 0:00:10.520714\n"
     ]
    },
    {
     "data": {
      "application/vnd.jupyter.widget-view+json": {
       "model_id": "2b10fb1bf3034bd285d645c7698c9dea",
       "version_major": 2,
       "version_minor": 0
      },
      "text/plain": [
       "Epoch 89:   0%|          | 0/46 [00:00<?, ?it/s]"
      ]
     },
     "metadata": {},
     "output_type": "display_data"
    },
    {
     "name": "stdout",
     "output_type": "stream",
     "text": [
      "Train loss: 0.0439,  Time left: 0:00:09.625018\n"
     ]
    },
    {
     "data": {
      "application/vnd.jupyter.widget-view+json": {
       "model_id": "b95ed47c906f4892a3040b95511174b9",
       "version_major": 2,
       "version_minor": 0
      },
      "text/plain": [
       "Epoch 90:   0%|          | 0/46 [00:00<?, ?it/s]"
      ]
     },
     "metadata": {},
     "output_type": "display_data"
    },
    {
     "name": "stdout",
     "output_type": "stream",
     "text": [
      "Train loss: 0.0785,  Time left: 0:00:08.793290\n"
     ]
    },
    {
     "data": {
      "application/vnd.jupyter.widget-view+json": {
       "model_id": "1df7de2df2fa4371bdfa747aeb976d44",
       "version_major": 2,
       "version_minor": 0
      },
      "text/plain": [
       "Epoch 91:   0%|          | 0/46 [00:00<?, ?it/s]"
      ]
     },
     "metadata": {},
     "output_type": "display_data"
    },
    {
     "name": "stdout",
     "output_type": "stream",
     "text": [
      "Train loss: 0.0325,  Time left: 0:00:07.665985\n"
     ]
    },
    {
     "data": {
      "application/vnd.jupyter.widget-view+json": {
       "model_id": "eb987aae7d60422190fd813143ef10e5",
       "version_major": 2,
       "version_minor": 0
      },
      "text/plain": [
       "Epoch 92:   0%|          | 0/46 [00:00<?, ?it/s]"
      ]
     },
     "metadata": {},
     "output_type": "display_data"
    },
    {
     "name": "stdout",
     "output_type": "stream",
     "text": [
      "Train loss: 0.0325,  Time left: 0:00:06.780542\n"
     ]
    },
    {
     "data": {
      "application/vnd.jupyter.widget-view+json": {
       "model_id": "4555670a9e764f73887fd0af1babdbc4",
       "version_major": 2,
       "version_minor": 0
      },
      "text/plain": [
       "Epoch 93:   0%|          | 0/46 [00:00<?, ?it/s]"
      ]
     },
     "metadata": {},
     "output_type": "display_data"
    },
    {
     "name": "stdout",
     "output_type": "stream",
     "text": [
      "Train loss: 0.0226,  Time left: 0:00:06.045501\n"
     ]
    },
    {
     "data": {
      "application/vnd.jupyter.widget-view+json": {
       "model_id": "b0d0dfc66071491096c16027bea9e322",
       "version_major": 2,
       "version_minor": 0
      },
      "text/plain": [
       "Epoch 94:   0%|          | 0/46 [00:00<?, ?it/s]"
      ]
     },
     "metadata": {},
     "output_type": "display_data"
    },
    {
     "name": "stdout",
     "output_type": "stream",
     "text": [
      "Train loss: 0.0335,  Time left: 0:00:05.200955\n"
     ]
    },
    {
     "data": {
      "application/vnd.jupyter.widget-view+json": {
       "model_id": "aef8202f665d44dc867a3193d7523371",
       "version_major": 2,
       "version_minor": 0
      },
      "text/plain": [
       "Epoch 95:   0%|          | 0/46 [00:00<?, ?it/s]"
      ]
     },
     "metadata": {},
     "output_type": "display_data"
    },
    {
     "name": "stdout",
     "output_type": "stream",
     "text": [
      "Train loss: 0.0251,  Time left: 0:00:04.345185\n"
     ]
    },
    {
     "data": {
      "application/vnd.jupyter.widget-view+json": {
       "model_id": "08944f9ba57d470cbb546cd5af8f2666",
       "version_major": 2,
       "version_minor": 0
      },
      "text/plain": [
       "Epoch 96:   0%|          | 0/46 [00:00<?, ?it/s]"
      ]
     },
     "metadata": {},
     "output_type": "display_data"
    },
    {
     "name": "stdout",
     "output_type": "stream",
     "text": [
      "Train loss: 0.0305,  Time left: 0:00:03.579690\n"
     ]
    },
    {
     "data": {
      "application/vnd.jupyter.widget-view+json": {
       "model_id": "b1aabac8c9364262998993d41b8bde05",
       "version_major": 2,
       "version_minor": 0
      },
      "text/plain": [
       "Epoch 97:   0%|          | 0/46 [00:00<?, ?it/s]"
      ]
     },
     "metadata": {},
     "output_type": "display_data"
    },
    {
     "name": "stdout",
     "output_type": "stream",
     "text": [
      "Train loss: 0.0254,  Time left: 0:00:02.611770\n"
     ]
    },
    {
     "data": {
      "application/vnd.jupyter.widget-view+json": {
       "model_id": "6dc26650c29a47719f7a82d9ff2e4133",
       "version_major": 2,
       "version_minor": 0
      },
      "text/plain": [
       "Epoch 98:   0%|          | 0/46 [00:00<?, ?it/s]"
      ]
     },
     "metadata": {},
     "output_type": "display_data"
    },
    {
     "name": "stdout",
     "output_type": "stream",
     "text": [
      "Train loss: 0.0218,  Time left: 0:00:01.735835\n"
     ]
    },
    {
     "data": {
      "application/vnd.jupyter.widget-view+json": {
       "model_id": "8e572ec39b384771979657adbd974043",
       "version_major": 2,
       "version_minor": 0
      },
      "text/plain": [
       "Epoch 99:   0%|          | 0/46 [00:00<?, ?it/s]"
      ]
     },
     "metadata": {},
     "output_type": "display_data"
    },
    {
     "name": "stdout",
     "output_type": "stream",
     "text": [
      "Train loss: 0.0357,  Time left: 0:00:00.862865\n"
     ]
    },
    {
     "data": {
      "application/vnd.jupyter.widget-view+json": {
       "model_id": "e28f644190f341da9cb24436d32cbff4",
       "version_major": 2,
       "version_minor": 0
      },
      "text/plain": [
       "Epoch 100:   0%|          | 0/46 [00:00<?, ?it/s]"
      ]
     },
     "metadata": {},
     "output_type": "display_data"
    },
    {
     "name": "stdout",
     "output_type": "stream",
     "text": [
      "Train loss: 0.0268,  Time left: 0:00:00\n"
     ]
    },
    {
     "data": {
      "application/vnd.jupyter.widget-view+json": {
       "model_id": "feb0c457ee4b4b10b204a48b8fce35c7",
       "version_major": 2,
       "version_minor": 0
      },
      "text/plain": [
       "Cross val:   0%|          | 0/5 [00:00<?, ?it/s]"
      ]
     },
     "metadata": {},
     "output_type": "display_data"
    },
    {
     "name": "stderr",
     "output_type": "stream",
     "text": [
      "Warning: less than 75% gpu memory available for training. Free: 13238.375 Total: 32501.125\n",
      "Warning: less than 75% gpu memory available for training. Free: 13238.375 Total: 32501.125\n",
      "Warning: less than 75% gpu memory available for training. Free: 13238.375 Total: 32501.125\n",
      "Warning: less than 75% gpu memory available for training. Free: 13238.375 Total: 32501.125\n",
      "Warning: less than 75% gpu memory available for training. Free: 13238.375 Total: 32501.125\n"
     ]
    },
    {
     "name": "stdout",
     "output_type": "stream",
     "text": [
      "Train R2: 0.8751,  Val R2: 0.5509, \n"
     ]
    }
   ],
   "source": [
    "train_infomax(dataset, train_loader, test_loader, infomax_model, epochs, optimizer, model_save_path, device)"
   ]
  },
  {
   "cell_type": "markdown",
   "id": "17317d62-89f1-4975-8980-29f8b033f03c",
   "metadata": {},
   "source": [
    "# Test infomax"
   ]
  },
  {
   "cell_type": "code",
   "execution_count": 9,
   "id": "b2527951-d3b9-4906-abe5-ad6744f0b567",
   "metadata": {
    "execution": {
     "iopub.execute_input": "2024-07-22T10:29:25.321888Z",
     "iopub.status.busy": "2024-07-22T10:29:25.320288Z",
     "iopub.status.idle": "2024-07-22T10:29:25.405995Z",
     "shell.execute_reply": "2024-07-22T10:29:25.404850Z",
     "shell.execute_reply.started": "2024-07-22T10:29:25.321809Z"
    },
    "tags": []
   },
   "outputs": [
    {
     "data": {
      "text/plain": [
       "DeepGraphInfomax(256)"
      ]
     },
     "execution_count": 9,
     "metadata": {},
     "output_type": "execute_result"
    }
   ],
   "source": [
    "best_model = DeepGraphInfomax(\n",
    "    hidden_channels=256,\n",
    "    encoder=encoder,\n",
    "    summary=lambda z, *args, **kwargs: torch.sigmoid(z.mean(dim=0)),\n",
    "    corruption=corruption).to(device)\n",
    "\n",
    "best_model.load_state_dict(torch.load('../../chkps/infomax/best.pth'))\n",
    "best_model"
   ]
  },
  {
   "cell_type": "code",
   "execution_count": 10,
   "id": "838ef304-b6cf-45f3-9b2e-b32952ade571",
   "metadata": {
    "execution": {
     "iopub.execute_input": "2024-07-22T10:29:28.792664Z",
     "iopub.status.busy": "2024-07-22T10:29:28.791656Z",
     "iopub.status.idle": "2024-07-22T10:29:29.109287Z",
     "shell.execute_reply": "2024-07-22T10:29:29.108264Z",
     "shell.execute_reply.started": "2024-07-22T10:29:28.792628Z"
    },
    "tags": []
   },
   "outputs": [
    {
     "data": {
      "text/plain": [
       "tensor([[-7.5163e-01, -5.3483e-01, -6.0386e-01,  ...,  9.6470e-02,\n",
       "         -4.7937e-01, -5.8434e-01],\n",
       "        [-7.4996e-01, -5.3492e-01, -6.0150e-01,  ...,  9.7872e-02,\n",
       "         -4.7995e-01, -5.8485e-01],\n",
       "        [-7.5149e-01, -5.3359e-01, -6.0411e-01,  ...,  9.6902e-02,\n",
       "         -4.7820e-01, -5.8346e-01],\n",
       "        ...,\n",
       "        [-2.3972e-02, -5.6274e-03, -1.0282e-02,  ...,  1.7396e-02,\n",
       "         -3.2273e-02, -1.5609e-02],\n",
       "        [-2.5425e-02, -1.1862e-02, -8.2564e-03,  ..., -1.8004e-04,\n",
       "         -2.8554e-02, -1.1499e-02],\n",
       "        [-2.9272e-02, -8.6972e-03, -9.6327e-04,  ...,  2.1025e-02,\n",
       "         -3.0794e-02, -1.1608e-02]], device='cuda:0', grad_fn=<SliceBackward0>)"
      ]
     },
     "execution_count": 10,
     "metadata": {},
     "output_type": "execute_result"
    }
   ],
   "source": [
    "all_pos_z = best_model(dataset.x, dataset.edge_index, len(dataset.x))[0]\n",
    "all_pos_z"
   ]
  },
  {
   "cell_type": "code",
   "execution_count": 11,
   "id": "34b59855-7ae6-4917-87c3-8ad463fd4c23",
   "metadata": {
    "collapsed": true,
    "execution": {
     "iopub.execute_input": "2024-07-22T10:30:47.424505Z",
     "iopub.status.busy": "2024-07-22T10:30:47.422897Z",
     "iopub.status.idle": "2024-07-22T10:31:54.931339Z",
     "shell.execute_reply": "2024-07-22T10:31:54.930100Z",
     "shell.execute_reply.started": "2024-07-22T10:30:47.424444Z"
    },
    "jupyter": {
     "outputs_hidden": true
    },
    "tags": []
   },
   "outputs": [
    {
     "name": "stdout",
     "output_type": "stream",
     "text": [
      "Learning rate set to 0.082392\n"
     ]
    },
    {
     "name": "stderr",
     "output_type": "stream",
     "text": [
      "Warning: less than 75% gpu memory available for training. Free: 13238.375 Total: 32501.125\n"
     ]
    },
    {
     "name": "stdout",
     "output_type": "stream",
     "text": [
      "0:\tlearn: 23180993.1938068\ttest: 22199159.2174503\tbest: 22199159.2174503 (0)\ttotal: 29.9ms\tremaining: 14.9s\n",
      "10:\tlearn: 18433807.4075041\ttest: 18791256.9731595\tbest: 18791256.9731595 (10)\ttotal: 301ms\tremaining: 13.4s\n",
      "20:\tlearn: 15934817.3528054\ttest: 17575953.4036868\tbest: 17575953.4036868 (20)\ttotal: 541ms\tremaining: 12.3s\n",
      "30:\tlearn: 13450170.9753412\ttest: 16485537.6222906\tbest: 16485250.9899988 (29)\ttotal: 803ms\tremaining: 12.2s\n",
      "40:\tlearn: 12064938.9289316\ttest: 16029066.8224948\tbest: 16005149.3227845 (39)\ttotal: 1.06s\tremaining: 11.9s\n",
      "50:\tlearn: 10774789.9020116\ttest: 15491308.2948884\tbest: 15491308.2948884 (50)\ttotal: 1.32s\tremaining: 11.6s\n",
      "60:\tlearn: 9959174.0553341\ttest: 15200921.6857707\tbest: 15200921.6857707 (60)\ttotal: 1.57s\tremaining: 11.3s\n",
      "70:\tlearn: 9394312.3821640\ttest: 15114102.3277059\tbest: 15096087.4592357 (65)\ttotal: 1.82s\tremaining: 11s\n",
      "80:\tlearn: 8885261.4519856\ttest: 15151719.1072760\tbest: 15096087.4592357 (65)\ttotal: 2.08s\tremaining: 10.8s\n",
      "90:\tlearn: 8513054.1628680\ttest: 15016846.7196717\tbest: 15016846.7196717 (90)\ttotal: 2.34s\tremaining: 10.5s\n",
      "100:\tlearn: 8023444.8868808\ttest: 15063868.8805948\tbest: 15016846.7196717 (90)\ttotal: 2.6s\tremaining: 10.3s\n",
      "110:\tlearn: 7742034.8290417\ttest: 15054452.9172643\tbest: 14972884.2724970 (105)\ttotal: 2.86s\tremaining: 10s\n",
      "120:\tlearn: 7478815.3948384\ttest: 15066164.1843835\tbest: 14972884.2724970 (105)\ttotal: 3.11s\tremaining: 9.75s\n",
      "130:\tlearn: 7239477.9675243\ttest: 15122473.4346724\tbest: 14972884.2724970 (105)\ttotal: 3.37s\tremaining: 9.49s\n",
      "140:\tlearn: 7085982.6940413\ttest: 15169295.5578119\tbest: 14972884.2724970 (105)\ttotal: 3.63s\tremaining: 9.23s\n",
      "150:\tlearn: 6894446.0983312\ttest: 15231238.6978293\tbest: 14972884.2724970 (105)\ttotal: 3.88s\tremaining: 8.97s\n",
      "160:\tlearn: 6768947.9574383\ttest: 15250010.6616702\tbest: 14972884.2724970 (105)\ttotal: 4.14s\tremaining: 8.71s\n",
      "170:\tlearn: 6690689.6083073\ttest: 15317872.6974643\tbest: 14972884.2724970 (105)\ttotal: 4.39s\tremaining: 8.45s\n",
      "180:\tlearn: 6589614.6553264\ttest: 15340457.7727585\tbest: 14972884.2724970 (105)\ttotal: 4.65s\tremaining: 8.19s\n",
      "190:\tlearn: 6544366.0258993\ttest: 15380656.9480021\tbest: 14972884.2724970 (105)\ttotal: 4.9s\tremaining: 7.93s\n",
      "200:\tlearn: 6470388.5329025\ttest: 15444204.1496425\tbest: 14972884.2724970 (105)\ttotal: 5.16s\tremaining: 7.67s\n",
      "210:\tlearn: 6397447.6824726\ttest: 15508622.9643526\tbest: 14972884.2724970 (105)\ttotal: 5.41s\tremaining: 7.41s\n",
      "220:\tlearn: 6305878.4895991\ttest: 15518533.1615625\tbest: 14972884.2724970 (105)\ttotal: 5.66s\tremaining: 7.15s\n",
      "230:\tlearn: 6252117.2259722\ttest: 15509464.8610926\tbest: 14972884.2724970 (105)\ttotal: 5.92s\tremaining: 6.89s\n",
      "240:\tlearn: 6178562.1173309\ttest: 15529063.7509924\tbest: 14972884.2724970 (105)\ttotal: 6.17s\tremaining: 6.64s\n",
      "250:\tlearn: 6105931.3160369\ttest: 15522479.4418253\tbest: 14972884.2724970 (105)\ttotal: 6.43s\tremaining: 6.38s\n",
      "260:\tlearn: 6020118.2939568\ttest: 15544992.2069590\tbest: 14972884.2724970 (105)\ttotal: 6.69s\tremaining: 6.13s\n",
      "270:\tlearn: 6000497.3207586\ttest: 15553320.0239076\tbest: 14972884.2724970 (105)\ttotal: 6.95s\tremaining: 5.87s\n",
      "280:\tlearn: 5977421.1432556\ttest: 15582113.5252052\tbest: 14972884.2724970 (105)\ttotal: 7.2s\tremaining: 5.61s\n",
      "290:\tlearn: 5963586.7871683\ttest: 15580734.2877799\tbest: 14972884.2724970 (105)\ttotal: 7.45s\tremaining: 5.35s\n",
      "300:\tlearn: 5890248.4618410\ttest: 15559527.2631449\tbest: 14972884.2724970 (105)\ttotal: 7.71s\tremaining: 5.1s\n",
      "310:\tlearn: 5870386.3062441\ttest: 15556636.4250199\tbest: 14972884.2724970 (105)\ttotal: 7.96s\tremaining: 4.84s\n",
      "320:\tlearn: 5814066.0814924\ttest: 15566941.2231406\tbest: 14972884.2724970 (105)\ttotal: 8.22s\tremaining: 4.58s\n",
      "330:\tlearn: 5793467.6554813\ttest: 15557624.0669342\tbest: 14972884.2724970 (105)\ttotal: 8.47s\tremaining: 4.33s\n",
      "340:\tlearn: 5761695.7204595\ttest: 15546403.8021030\tbest: 14972884.2724970 (105)\ttotal: 8.73s\tremaining: 4.07s\n",
      "350:\tlearn: 5749090.5251488\ttest: 15536722.3644539\tbest: 14972884.2724970 (105)\ttotal: 8.98s\tremaining: 3.81s\n",
      "360:\tlearn: 5741076.0196163\ttest: 15518279.0812938\tbest: 14972884.2724970 (105)\ttotal: 9.23s\tremaining: 3.56s\n",
      "370:\tlearn: 5709524.5840055\ttest: 15505967.3357077\tbest: 14972884.2724970 (105)\ttotal: 9.49s\tremaining: 3.3s\n",
      "380:\tlearn: 5645120.0660109\ttest: 15503725.0337046\tbest: 14972884.2724970 (105)\ttotal: 9.76s\tremaining: 3.05s\n",
      "390:\tlearn: 5638475.5075067\ttest: 15498404.5759794\tbest: 14972884.2724970 (105)\ttotal: 10s\tremaining: 2.79s\n",
      "400:\tlearn: 5618982.1633048\ttest: 15466508.1396637\tbest: 14972884.2724970 (105)\ttotal: 10.3s\tremaining: 2.54s\n",
      "410:\tlearn: 5604271.2418213\ttest: 15465539.9715640\tbest: 14972884.2724970 (105)\ttotal: 10.5s\tremaining: 2.28s\n",
      "420:\tlearn: 5582330.0271686\ttest: 15463520.4833746\tbest: 14972884.2724970 (105)\ttotal: 10.8s\tremaining: 2.03s\n",
      "430:\tlearn: 5566602.9537436\ttest: 15440878.2933642\tbest: 14972884.2724970 (105)\ttotal: 11.1s\tremaining: 1.77s\n",
      "440:\tlearn: 5560413.0050979\ttest: 15431533.6923745\tbest: 14972884.2724970 (105)\ttotal: 11.3s\tremaining: 1.51s\n",
      "450:\tlearn: 5554366.0669651\ttest: 15402169.1797378\tbest: 14972884.2724970 (105)\ttotal: 11.6s\tremaining: 1.26s\n",
      "460:\tlearn: 5531094.7469497\ttest: 15377890.1926848\tbest: 14972884.2724970 (105)\ttotal: 11.8s\tremaining: 1s\n",
      "470:\tlearn: 5517958.1941353\ttest: 15362731.0963345\tbest: 14972884.2724970 (105)\ttotal: 12.1s\tremaining: 744ms\n",
      "480:\tlearn: 5501468.3748503\ttest: 15359715.1047658\tbest: 14972884.2724970 (105)\ttotal: 12.3s\tremaining: 488ms\n",
      "490:\tlearn: 5498641.3561895\ttest: 15357468.7688315\tbest: 14972884.2724970 (105)\ttotal: 12.6s\tremaining: 231ms\n",
      "499:\tlearn: 5496040.2235227\ttest: 15349271.1851447\tbest: 14972884.2724970 (105)\ttotal: 12.8s\tremaining: 0us\n",
      "bestTest = 14972884.27\n",
      "bestIteration = 105\n",
      "Shrink model to first 106 iterations.\n"
     ]
    },
    {
     "name": "stderr",
     "output_type": "stream",
     "text": [
      "Warning: less than 75% gpu memory available for training. Free: 13238.375 Total: 32501.125\n"
     ]
    },
    {
     "name": "stdout",
     "output_type": "stream",
     "text": [
      "Learning rate set to 0.082396\n",
      "0:\tlearn: 18522483.0376128\ttest: 36005453.4456050\tbest: 36005453.4456050 (0)\ttotal: 27.7ms\tremaining: 13.8s\n",
      "10:\tlearn: 13169144.0004024\ttest: 32574430.9676304\tbest: 32574430.9676304 (10)\ttotal: 296ms\tremaining: 13.2s\n",
      "20:\tlearn: 10523505.9027290\ttest: 31150386.8294347\tbest: 31150386.8294347 (20)\ttotal: 561ms\tremaining: 12.8s\n",
      "30:\tlearn: 9023651.1959946\ttest: 30546555.5062746\tbest: 30546555.5062746 (30)\ttotal: 828ms\tremaining: 12.5s\n",
      "40:\tlearn: 8156787.1382397\ttest: 30122592.7074113\tbest: 30122592.7074113 (40)\ttotal: 1.09s\tremaining: 12.2s\n",
      "50:\tlearn: 7610982.9233324\ttest: 30030624.7477193\tbest: 30014356.8231053 (48)\ttotal: 1.35s\tremaining: 11.9s\n",
      "60:\tlearn: 7218527.8455722\ttest: 29930915.5032350\tbest: 29900088.8332186 (57)\ttotal: 1.62s\tremaining: 11.7s\n",
      "70:\tlearn: 6940225.4531877\ttest: 29785682.4420055\tbest: 29778014.8750183 (68)\ttotal: 1.88s\tremaining: 11.3s\n",
      "80:\tlearn: 6726260.2290092\ttest: 29696430.5170988\tbest: 29696430.5170988 (80)\ttotal: 2.14s\tremaining: 11.1s\n",
      "90:\tlearn: 6577649.3608427\ttest: 29677029.1036352\tbest: 29675722.3367128 (88)\ttotal: 2.39s\tremaining: 10.8s\n",
      "100:\tlearn: 6454326.4456472\ttest: 29693418.4902396\tbest: 29675722.3367128 (88)\ttotal: 2.65s\tremaining: 10.5s\n",
      "110:\tlearn: 6330635.8778609\ttest: 29695720.0314615\tbest: 29675722.3367128 (88)\ttotal: 2.91s\tremaining: 10.2s\n",
      "120:\tlearn: 6206921.6330504\ttest: 29678270.3204667\tbest: 29675722.3367128 (88)\ttotal: 3.17s\tremaining: 9.94s\n",
      "130:\tlearn: 6139205.6841326\ttest: 29695563.7856831\tbest: 29675722.3367128 (88)\ttotal: 3.43s\tremaining: 9.66s\n",
      "140:\tlearn: 6008883.4010525\ttest: 29757293.9365955\tbest: 29675722.3367128 (88)\ttotal: 3.69s\tremaining: 9.41s\n",
      "150:\tlearn: 5892152.3889046\ttest: 29792579.8814211\tbest: 29675722.3367128 (88)\ttotal: 3.96s\tremaining: 9.16s\n",
      "160:\tlearn: 5850746.0112068\ttest: 29796109.0184227\tbest: 29675722.3367128 (88)\ttotal: 4.22s\tremaining: 8.89s\n",
      "170:\tlearn: 5779461.6758967\ttest: 29760042.4628008\tbest: 29675722.3367128 (88)\ttotal: 4.49s\tremaining: 8.63s\n",
      "180:\tlearn: 5751721.5460970\ttest: 29783182.5941472\tbest: 29675722.3367128 (88)\ttotal: 4.75s\tremaining: 8.37s\n",
      "190:\tlearn: 5718756.1498241\ttest: 29764394.9179388\tbest: 29675722.3367128 (88)\ttotal: 5.01s\tremaining: 8.1s\n",
      "200:\tlearn: 5689864.5011250\ttest: 29748878.2227542\tbest: 29675722.3367128 (88)\ttotal: 5.26s\tremaining: 7.83s\n",
      "210:\tlearn: 5652574.6660583\ttest: 29750423.0908136\tbest: 29675722.3367128 (88)\ttotal: 5.52s\tremaining: 7.56s\n",
      "220:\tlearn: 5612740.9665479\ttest: 29754273.3200634\tbest: 29675722.3367128 (88)\ttotal: 5.78s\tremaining: 7.29s\n",
      "230:\tlearn: 5576371.0842982\ttest: 29748456.6895706\tbest: 29675722.3367128 (88)\ttotal: 6.03s\tremaining: 7.03s\n",
      "240:\tlearn: 5554787.8034875\ttest: 29752419.9194099\tbest: 29675722.3367128 (88)\ttotal: 6.29s\tremaining: 6.76s\n",
      "250:\tlearn: 5510476.7840434\ttest: 29757515.1765393\tbest: 29675722.3367128 (88)\ttotal: 6.55s\tremaining: 6.5s\n",
      "260:\tlearn: 5485671.3185530\ttest: 29768169.6201827\tbest: 29675722.3367128 (88)\ttotal: 6.81s\tremaining: 6.23s\n",
      "270:\tlearn: 5451310.0400253\ttest: 29783415.2204229\tbest: 29675722.3367128 (88)\ttotal: 7.06s\tremaining: 5.97s\n",
      "280:\tlearn: 5432777.1853009\ttest: 29764753.0296637\tbest: 29675722.3367128 (88)\ttotal: 7.32s\tremaining: 5.71s\n",
      "290:\tlearn: 5417418.8250964\ttest: 29786172.9138481\tbest: 29675722.3367128 (88)\ttotal: 7.58s\tremaining: 5.44s\n",
      "300:\tlearn: 5379903.0899750\ttest: 29791057.1938206\tbest: 29675722.3367128 (88)\ttotal: 7.84s\tremaining: 5.18s\n",
      "310:\tlearn: 5364648.8901870\ttest: 29800667.6574837\tbest: 29675722.3367128 (88)\ttotal: 8.1s\tremaining: 4.92s\n",
      "320:\tlearn: 5346103.6064475\ttest: 29812302.5448372\tbest: 29675722.3367128 (88)\ttotal: 8.35s\tremaining: 4.66s\n",
      "330:\tlearn: 5320193.8707214\ttest: 29799575.6676115\tbest: 29675722.3367128 (88)\ttotal: 8.61s\tremaining: 4.4s\n",
      "340:\tlearn: 5296554.0972972\ttest: 29799576.7196441\tbest: 29675722.3367128 (88)\ttotal: 8.87s\tremaining: 4.13s\n",
      "350:\tlearn: 5277211.4011862\ttest: 29800918.0310253\tbest: 29675722.3367128 (88)\ttotal: 9.13s\tremaining: 3.88s\n",
      "360:\tlearn: 5246886.0733005\ttest: 29784097.2996620\tbest: 29675722.3367128 (88)\ttotal: 9.4s\tremaining: 3.62s\n",
      "370:\tlearn: 5193163.6309589\ttest: 29756841.9698836\tbest: 29675722.3367128 (88)\ttotal: 9.66s\tremaining: 3.36s\n",
      "380:\tlearn: 5166712.4446722\ttest: 29757421.4131449\tbest: 29675722.3367128 (88)\ttotal: 9.92s\tremaining: 3.1s\n",
      "390:\tlearn: 5115198.9982850\ttest: 29746869.5635524\tbest: 29675722.3367128 (88)\ttotal: 10.2s\tremaining: 2.84s\n",
      "400:\tlearn: 5077510.4106462\ttest: 29728043.1196189\tbest: 29675722.3367128 (88)\ttotal: 10.4s\tremaining: 2.58s\n",
      "410:\tlearn: 5049597.4526579\ttest: 29753709.6203138\tbest: 29675722.3367128 (88)\ttotal: 10.7s\tremaining: 2.32s\n",
      "420:\tlearn: 5040540.2370875\ttest: 29755940.1230156\tbest: 29675722.3367128 (88)\ttotal: 11s\tremaining: 2.06s\n",
      "430:\tlearn: 5014796.0051017\ttest: 29747706.3457249\tbest: 29675722.3367128 (88)\ttotal: 11.2s\tremaining: 1.8s\n",
      "440:\tlearn: 4994942.1878663\ttest: 29750271.3474358\tbest: 29675722.3367128 (88)\ttotal: 11.5s\tremaining: 1.54s\n",
      "450:\tlearn: 4979139.4216707\ttest: 29755820.0151786\tbest: 29675722.3367128 (88)\ttotal: 11.7s\tremaining: 1.27s\n",
      "460:\tlearn: 4958414.0599648\ttest: 29754427.1502898\tbest: 29675722.3367128 (88)\ttotal: 12s\tremaining: 1.01s\n",
      "470:\tlearn: 4923455.1890478\ttest: 29763474.3403780\tbest: 29675722.3367128 (88)\ttotal: 12.3s\tremaining: 755ms\n",
      "480:\tlearn: 4906828.3212343\ttest: 29768660.3805686\tbest: 29675722.3367128 (88)\ttotal: 12.5s\tremaining: 495ms\n",
      "490:\tlearn: 4892822.3553311\ttest: 29763499.6197759\tbest: 29675722.3367128 (88)\ttotal: 12.8s\tremaining: 234ms\n",
      "499:\tlearn: 4856345.8200512\ttest: 29758389.5849816\tbest: 29675722.3367128 (88)\ttotal: 13s\tremaining: 0us\n",
      "bestTest = 29675722.34\n",
      "bestIteration = 88\n",
      "Shrink model to first 89 iterations.\n"
     ]
    },
    {
     "name": "stderr",
     "output_type": "stream",
     "text": [
      "Warning: less than 75% gpu memory available for training. Free: 13238.375 Total: 32501.125\n"
     ]
    },
    {
     "name": "stdout",
     "output_type": "stream",
     "text": [
      "Learning rate set to 0.082364\n",
      "0:\tlearn: 24474407.5495094\ttest: 15673249.4139491\tbest: 15673249.4139491 (0)\ttotal: 27.1ms\tremaining: 13.5s\n",
      "10:\tlearn: 19095959.1876010\ttest: 11993621.3038638\tbest: 11993621.3038638 (10)\ttotal: 299ms\tremaining: 13.3s\n",
      "20:\tlearn: 16191513.2534989\ttest: 10485759.6316547\tbest: 10485759.6316547 (20)\ttotal: 554ms\tremaining: 12.6s\n",
      "30:\tlearn: 14158361.8519452\ttest: 9760916.5179305\tbest: 9760916.5179305 (30)\ttotal: 818ms\tremaining: 12.4s\n",
      "40:\tlearn: 12538500.4479533\ttest: 9245251.6010235\tbest: 9245251.6010235 (40)\ttotal: 1.08s\tremaining: 12.1s\n",
      "50:\tlearn: 11663933.5088257\ttest: 9084035.5042664\tbest: 9084035.5042664 (50)\ttotal: 1.34s\tremaining: 11.8s\n",
      "60:\tlearn: 10838571.7329019\ttest: 8804565.5520163\tbest: 8804565.5520163 (60)\ttotal: 1.6s\tremaining: 11.5s\n",
      "70:\tlearn: 10223370.7935565\ttest: 8720015.6330549\tbest: 8720015.6330549 (70)\ttotal: 1.86s\tremaining: 11.2s\n",
      "80:\tlearn: 9694767.9757371\ttest: 8691736.3572778\tbest: 8689489.3124493 (73)\ttotal: 2.11s\tremaining: 10.9s\n",
      "90:\tlearn: 9212262.9349091\ttest: 8705265.0121886\tbest: 8685103.7682617 (85)\ttotal: 2.37s\tremaining: 10.6s\n",
      "100:\tlearn: 8769273.9368201\ttest: 8633646.9915882\tbest: 8633646.9915882 (100)\ttotal: 2.63s\tremaining: 10.4s\n",
      "110:\tlearn: 8536498.3061341\ttest: 8640749.1014787\tbest: 8619055.9722827 (105)\ttotal: 2.89s\tremaining: 10.1s\n",
      "120:\tlearn: 8384966.4763589\ttest: 8630429.8468525\tbest: 8619055.9722827 (105)\ttotal: 3.15s\tremaining: 9.87s\n",
      "130:\tlearn: 8227681.8161741\ttest: 8649352.1745131\tbest: 8619055.9722827 (105)\ttotal: 3.41s\tremaining: 9.61s\n",
      "140:\tlearn: 8084276.3676842\ttest: 8646202.9670058\tbest: 8619055.9722827 (105)\ttotal: 3.67s\tremaining: 9.34s\n",
      "150:\tlearn: 7826594.1274279\ttest: 8656426.6750764\tbest: 8619055.9722827 (105)\ttotal: 3.93s\tremaining: 9.08s\n",
      "160:\tlearn: 7749473.0293956\ttest: 8652985.4470239\tbest: 8619055.9722827 (105)\ttotal: 4.19s\tremaining: 8.82s\n",
      "170:\tlearn: 7544443.6559153\ttest: 8626671.1146657\tbest: 8618964.1069720 (168)\ttotal: 4.45s\tremaining: 8.56s\n",
      "180:\tlearn: 7417411.0444077\ttest: 8615635.6816941\tbest: 8611688.8500752 (178)\ttotal: 4.71s\tremaining: 8.3s\n",
      "190:\tlearn: 7315382.3245078\ttest: 8642338.9201496\tbest: 8602938.5679950 (189)\ttotal: 4.97s\tremaining: 8.04s\n",
      "200:\tlearn: 7202629.1098129\ttest: 8653938.3815597\tbest: 8602938.5679950 (189)\ttotal: 5.23s\tremaining: 7.78s\n",
      "210:\tlearn: 7105816.3871171\ttest: 8669646.9019070\tbest: 8602938.5679950 (189)\ttotal: 5.49s\tremaining: 7.52s\n",
      "220:\tlearn: 6951674.1450580\ttest: 8701011.7124337\tbest: 8602938.5679950 (189)\ttotal: 5.75s\tremaining: 7.26s\n",
      "230:\tlearn: 6899755.6373632\ttest: 8704656.7011377\tbest: 8602938.5679950 (189)\ttotal: 6.01s\tremaining: 7s\n",
      "240:\tlearn: 6821502.3173259\ttest: 8685475.5405758\tbest: 8602938.5679950 (189)\ttotal: 6.27s\tremaining: 6.74s\n",
      "250:\tlearn: 6788467.8094755\ttest: 8684577.2118202\tbest: 8602938.5679950 (189)\ttotal: 6.53s\tremaining: 6.48s\n",
      "260:\tlearn: 6653513.0977494\ttest: 8688980.8023851\tbest: 8602938.5679950 (189)\ttotal: 6.79s\tremaining: 6.22s\n",
      "270:\tlearn: 6580209.2402822\ttest: 8695050.7545327\tbest: 8602938.5679950 (189)\ttotal: 7.05s\tremaining: 5.96s\n",
      "280:\tlearn: 6573713.4611664\ttest: 8694830.4263098\tbest: 8602938.5679950 (189)\ttotal: 7.31s\tremaining: 5.7s\n",
      "290:\tlearn: 6502527.0651905\ttest: 8709310.0203717\tbest: 8602938.5679950 (189)\ttotal: 7.56s\tremaining: 5.43s\n",
      "300:\tlearn: 6459494.1581420\ttest: 8717297.8169844\tbest: 8602938.5679950 (189)\ttotal: 7.82s\tremaining: 5.17s\n",
      "310:\tlearn: 6368884.1755007\ttest: 8724262.3242207\tbest: 8602938.5679950 (189)\ttotal: 8.07s\tremaining: 4.91s\n",
      "320:\tlearn: 6335856.6337086\ttest: 8716914.9953534\tbest: 8602938.5679950 (189)\ttotal: 8.33s\tremaining: 4.64s\n",
      "330:\tlearn: 6279433.5642991\ttest: 8711215.4335865\tbest: 8602938.5679950 (189)\ttotal: 8.59s\tremaining: 4.38s\n",
      "340:\tlearn: 6173559.6413651\ttest: 8717945.5625197\tbest: 8602938.5679950 (189)\ttotal: 8.85s\tremaining: 4.13s\n",
      "350:\tlearn: 6101535.0132554\ttest: 8723344.9660296\tbest: 8602938.5679950 (189)\ttotal: 9.11s\tremaining: 3.87s\n",
      "360:\tlearn: 6059146.4005159\ttest: 8719143.8977939\tbest: 8602938.5679950 (189)\ttotal: 9.36s\tremaining: 3.6s\n",
      "370:\tlearn: 6029169.0739815\ttest: 8725239.3462906\tbest: 8602938.5679950 (189)\ttotal: 9.62s\tremaining: 3.34s\n",
      "380:\tlearn: 5971130.0338789\ttest: 8730461.2612209\tbest: 8602938.5679950 (189)\ttotal: 9.88s\tremaining: 3.08s\n",
      "390:\tlearn: 5860528.8021061\ttest: 8721040.0763707\tbest: 8602938.5679950 (189)\ttotal: 10.1s\tremaining: 2.83s\n",
      "400:\tlearn: 5788412.5174286\ttest: 8734231.0465456\tbest: 8602938.5679950 (189)\ttotal: 10.4s\tremaining: 2.57s\n",
      "410:\tlearn: 5710175.5650491\ttest: 8741127.7133224\tbest: 8602938.5679950 (189)\ttotal: 10.7s\tremaining: 2.31s\n",
      "420:\tlearn: 5673518.9677238\ttest: 8745046.6012661\tbest: 8602938.5679950 (189)\ttotal: 10.9s\tremaining: 2.05s\n",
      "430:\tlearn: 5632531.8799541\ttest: 8742810.1656009\tbest: 8602938.5679950 (189)\ttotal: 11.2s\tremaining: 1.79s\n",
      "440:\tlearn: 5605373.6878178\ttest: 8749443.1540994\tbest: 8602938.5679950 (189)\ttotal: 11.4s\tremaining: 1.53s\n",
      "450:\tlearn: 5593019.0926313\ttest: 8745309.8296210\tbest: 8602938.5679950 (189)\ttotal: 11.7s\tremaining: 1.27s\n",
      "460:\tlearn: 5575128.2964176\ttest: 8744409.2555030\tbest: 8602938.5679950 (189)\ttotal: 11.9s\tremaining: 1.01s\n",
      "470:\tlearn: 5540408.7670516\ttest: 8751185.7976233\tbest: 8602938.5679950 (189)\ttotal: 12.2s\tremaining: 751ms\n",
      "480:\tlearn: 5483837.1505640\ttest: 8757601.1909045\tbest: 8602938.5679950 (189)\ttotal: 12.5s\tremaining: 492ms\n",
      "490:\tlearn: 5462382.7647994\ttest: 8749557.0456589\tbest: 8602938.5679950 (189)\ttotal: 12.7s\tremaining: 233ms\n",
      "499:\tlearn: 5416757.8781787\ttest: 8755519.7144570\tbest: 8602938.5679950 (189)\ttotal: 13s\tremaining: 0us\n",
      "bestTest = 8602938.568\n",
      "bestIteration = 189\n",
      "Shrink model to first 190 iterations.\n"
     ]
    },
    {
     "name": "stderr",
     "output_type": "stream",
     "text": [
      "Warning: less than 75% gpu memory available for training. Free: 13238.375 Total: 32501.125\n"
     ]
    },
    {
     "name": "stdout",
     "output_type": "stream",
     "text": [
      "Learning rate set to 0.082405\n",
      "0:\tlearn: 24430408.2021748\ttest: 18907446.2638442\tbest: 18907446.2638442 (0)\ttotal: 27.1ms\tremaining: 13.5s\n",
      "10:\tlearn: 19413544.6491356\ttest: 15700151.7517173\tbest: 15700151.7517173 (10)\ttotal: 295ms\tremaining: 13.1s\n",
      "20:\tlearn: 16148002.1327866\ttest: 13295886.6640651\tbest: 13295886.6640651 (20)\ttotal: 550ms\tremaining: 12.5s\n",
      "30:\tlearn: 14400710.7551561\ttest: 12068753.0893735\tbest: 12068753.0893735 (30)\ttotal: 811ms\tremaining: 12.3s\n",
      "40:\tlearn: 13057389.6199958\ttest: 11444951.7887630\tbest: 11444951.7887630 (40)\ttotal: 1.06s\tremaining: 11.9s\n",
      "50:\tlearn: 11791569.8104264\ttest: 11138579.3253891\tbest: 11138579.3253891 (50)\ttotal: 1.32s\tremaining: 11.7s\n",
      "60:\tlearn: 10462979.4923202\ttest: 11092558.3352140\tbest: 11020985.5959704 (54)\ttotal: 1.57s\tremaining: 11.3s\n",
      "70:\tlearn: 9748275.4892466\ttest: 11013479.3745886\tbest: 10980222.8315609 (67)\ttotal: 1.84s\tremaining: 11.1s\n",
      "80:\tlearn: 9009459.8407663\ttest: 11034850.0551015\tbest: 10980222.8315609 (67)\ttotal: 2.1s\tremaining: 10.8s\n",
      "90:\tlearn: 8594116.0739843\ttest: 11086389.1792328\tbest: 10980222.8315609 (67)\ttotal: 2.34s\tremaining: 10.5s\n",
      "100:\tlearn: 8238612.6712577\ttest: 11173965.9659768\tbest: 10980222.8315609 (67)\ttotal: 2.58s\tremaining: 10.2s\n",
      "110:\tlearn: 7946388.4115505\ttest: 11181689.8210127\tbest: 10980222.8315609 (67)\ttotal: 2.84s\tremaining: 9.96s\n",
      "120:\tlearn: 7677997.9633020\ttest: 11255235.5749534\tbest: 10980222.8315609 (67)\ttotal: 3.1s\tremaining: 9.71s\n",
      "130:\tlearn: 7444282.9672510\ttest: 11169147.2447770\tbest: 10980222.8315609 (67)\ttotal: 3.36s\tremaining: 9.46s\n",
      "140:\tlearn: 7256234.9561005\ttest: 11177324.4983584\tbest: 10980222.8315609 (67)\ttotal: 3.62s\tremaining: 9.21s\n",
      "150:\tlearn: 7063274.9281411\ttest: 11193905.9868927\tbest: 10980222.8315609 (67)\ttotal: 3.88s\tremaining: 8.96s\n",
      "160:\tlearn: 6934255.2571788\ttest: 11215300.3913176\tbest: 10980222.8315609 (67)\ttotal: 4.14s\tremaining: 8.71s\n",
      "170:\tlearn: 6816730.4926648\ttest: 11279514.2007440\tbest: 10980222.8315609 (67)\ttotal: 4.4s\tremaining: 8.46s\n",
      "180:\tlearn: 6674926.0450418\ttest: 11233250.5937394\tbest: 10980222.8315609 (67)\ttotal: 4.66s\tremaining: 8.21s\n",
      "190:\tlearn: 6610105.2858431\ttest: 11260466.9944224\tbest: 10980222.8315609 (67)\ttotal: 4.91s\tremaining: 7.95s\n",
      "200:\tlearn: 6555869.7168858\ttest: 11248365.4260306\tbest: 10980222.8315609 (67)\ttotal: 5.17s\tremaining: 7.69s\n",
      "210:\tlearn: 6488099.3074964\ttest: 11271727.9236611\tbest: 10980222.8315609 (67)\ttotal: 5.43s\tremaining: 7.44s\n",
      "220:\tlearn: 6406882.7726650\ttest: 11303225.0085319\tbest: 10980222.8315609 (67)\ttotal: 5.69s\tremaining: 7.18s\n",
      "230:\tlearn: 6328169.8048720\ttest: 11292685.4717249\tbest: 10980222.8315609 (67)\ttotal: 5.95s\tremaining: 6.92s\n",
      "240:\tlearn: 6286315.7721654\ttest: 11296846.0644743\tbest: 10980222.8315609 (67)\ttotal: 6.2s\tremaining: 6.67s\n",
      "250:\tlearn: 6246051.4722885\ttest: 11301295.0330421\tbest: 10980222.8315609 (67)\ttotal: 6.46s\tremaining: 6.41s\n",
      "260:\tlearn: 6212047.2115739\ttest: 11377400.7770922\tbest: 10980222.8315609 (67)\ttotal: 6.71s\tremaining: 6.14s\n",
      "270:\tlearn: 6185564.6658485\ttest: 11411973.4907763\tbest: 10980222.8315609 (67)\ttotal: 6.96s\tremaining: 5.88s\n",
      "280:\tlearn: 6173058.3911637\ttest: 11447972.4653351\tbest: 10980222.8315609 (67)\ttotal: 7.21s\tremaining: 5.62s\n",
      "290:\tlearn: 6116868.3513166\ttest: 11466087.0168463\tbest: 10980222.8315609 (67)\ttotal: 7.47s\tremaining: 5.36s\n",
      "300:\tlearn: 6101451.6338738\ttest: 11515040.1529819\tbest: 10980222.8315609 (67)\ttotal: 7.72s\tremaining: 5.11s\n",
      "310:\tlearn: 6085122.2287630\ttest: 11548210.1358983\tbest: 10980222.8315609 (67)\ttotal: 7.98s\tremaining: 4.85s\n",
      "320:\tlearn: 6057567.6804597\ttest: 11588752.7709541\tbest: 10980222.8315609 (67)\ttotal: 8.24s\tremaining: 4.6s\n",
      "330:\tlearn: 6005026.4494744\ttest: 11611311.8651447\tbest: 10980222.8315609 (67)\ttotal: 8.51s\tremaining: 4.34s\n",
      "340:\tlearn: 5942852.7264786\ttest: 11602102.1606512\tbest: 10980222.8315609 (67)\ttotal: 8.77s\tremaining: 4.09s\n",
      "350:\tlearn: 5921155.3968086\ttest: 11608481.7550261\tbest: 10980222.8315609 (67)\ttotal: 9.03s\tremaining: 3.83s\n",
      "360:\tlearn: 5880585.2630516\ttest: 11638167.3042033\tbest: 10980222.8315609 (67)\ttotal: 9.29s\tremaining: 3.58s\n",
      "370:\tlearn: 5803598.6600568\ttest: 11650128.6477064\tbest: 10980222.8315609 (67)\ttotal: 9.55s\tremaining: 3.32s\n",
      "380:\tlearn: 5783780.2606452\ttest: 11676066.1837595\tbest: 10980222.8315609 (67)\ttotal: 9.8s\tremaining: 3.06s\n",
      "390:\tlearn: 5744033.0232930\ttest: 11687114.4574817\tbest: 10980222.8315609 (67)\ttotal: 10.1s\tremaining: 2.81s\n",
      "400:\tlearn: 5713136.6624506\ttest: 11693244.5131204\tbest: 10980222.8315609 (67)\ttotal: 10.3s\tremaining: 2.55s\n",
      "410:\tlearn: 5690994.5018654\ttest: 11684771.2676001\tbest: 10980222.8315609 (67)\ttotal: 10.6s\tremaining: 2.29s\n",
      "420:\tlearn: 5658009.8846987\ttest: 11676807.2372787\tbest: 10980222.8315609 (67)\ttotal: 10.8s\tremaining: 2.03s\n",
      "430:\tlearn: 5637001.8735530\ttest: 11688374.3757031\tbest: 10980222.8315609 (67)\ttotal: 11.1s\tremaining: 1.78s\n",
      "440:\tlearn: 5613851.5746720\ttest: 11691359.4090693\tbest: 10980222.8315609 (67)\ttotal: 11.4s\tremaining: 1.52s\n",
      "450:\tlearn: 5603375.7105156\ttest: 11696543.7229388\tbest: 10980222.8315609 (67)\ttotal: 11.6s\tremaining: 1.26s\n",
      "460:\tlearn: 5589954.3002250\ttest: 11707897.8641829\tbest: 10980222.8315609 (67)\ttotal: 11.9s\tremaining: 1s\n",
      "470:\tlearn: 5569854.7403277\ttest: 11725740.6821071\tbest: 10980222.8315609 (67)\ttotal: 12.1s\tremaining: 747ms\n",
      "480:\tlearn: 5554137.1797946\ttest: 11727431.7788877\tbest: 10980222.8315609 (67)\ttotal: 12.4s\tremaining: 489ms\n",
      "490:\tlearn: 5530116.1816741\ttest: 11723908.4412401\tbest: 10980222.8315609 (67)\ttotal: 12.6s\tremaining: 232ms\n",
      "499:\tlearn: 5504371.7957902\ttest: 11716122.0814407\tbest: 10980222.8315609 (67)\ttotal: 12.9s\tremaining: 0us\n",
      "bestTest = 10980222.83\n",
      "bestIteration = 67\n",
      "Shrink model to first 68 iterations.\n"
     ]
    },
    {
     "name": "stderr",
     "output_type": "stream",
     "text": [
      "Warning: less than 75% gpu memory available for training. Free: 13238.375 Total: 32501.125\n"
     ]
    },
    {
     "name": "stdout",
     "output_type": "stream",
     "text": [
      "Learning rate set to 0.082388\n",
      "0:\tlearn: 24085033.1569570\ttest: 17994111.7432085\tbest: 17994111.7432085 (0)\ttotal: 27.1ms\tremaining: 13.5s\n",
      "10:\tlearn: 19383471.6544452\ttest: 15333184.8171614\tbest: 15333184.8171614 (10)\ttotal: 289ms\tremaining: 12.9s\n",
      "20:\tlearn: 16485229.1537087\ttest: 13655263.0216579\tbest: 13653918.4897520 (19)\ttotal: 538ms\tremaining: 12.3s\n",
      "30:\tlearn: 14444015.4161304\ttest: 12573234.2710754\tbest: 12571143.5293549 (29)\ttotal: 799ms\tremaining: 12.1s\n",
      "40:\tlearn: 13123566.3314144\ttest: 12149507.3683393\tbest: 12149507.3683393 (40)\ttotal: 1.06s\tremaining: 11.9s\n",
      "50:\tlearn: 11587737.9163929\ttest: 11753040.3415800\tbest: 11753040.3415800 (50)\ttotal: 1.32s\tremaining: 11.7s\n",
      "60:\tlearn: 10914711.7109127\ttest: 11823541.1460536\tbest: 11751167.8385414 (51)\ttotal: 1.56s\tremaining: 11.2s\n",
      "70:\tlearn: 10147445.1781379\ttest: 11763950.4762660\tbest: 11751167.8385414 (51)\ttotal: 1.81s\tremaining: 10.9s\n",
      "80:\tlearn: 9559648.9646827\ttest: 11613643.5516927\tbest: 11613492.9327780 (79)\ttotal: 2.05s\tremaining: 10.6s\n",
      "90:\tlearn: 9172411.4565952\ttest: 11512497.5251270\tbest: 11512497.5251270 (90)\ttotal: 2.29s\tremaining: 10.3s\n",
      "100:\tlearn: 8821274.5917804\ttest: 11413454.8482951\tbest: 11413454.8482951 (100)\ttotal: 2.55s\tremaining: 10.1s\n",
      "110:\tlearn: 8430023.6309873\ttest: 11263082.2094641\tbest: 11263082.2094641 (110)\ttotal: 2.79s\tremaining: 9.79s\n",
      "120:\tlearn: 8144712.5276708\ttest: 11288958.0634857\tbest: 11262376.3775289 (115)\ttotal: 3.05s\tremaining: 9.55s\n",
      "130:\tlearn: 7905052.3250308\ttest: 11278087.6590517\tbest: 11262376.3775289 (115)\ttotal: 3.31s\tremaining: 9.32s\n",
      "140:\tlearn: 7553748.1580645\ttest: 11213549.2705793\tbest: 11207320.7473659 (138)\ttotal: 3.57s\tremaining: 9.09s\n",
      "150:\tlearn: 7380164.8911857\ttest: 11139003.7221702\tbest: 11138694.2029914 (149)\ttotal: 3.83s\tremaining: 8.86s\n",
      "160:\tlearn: 7257729.8787537\ttest: 11127689.9924482\tbest: 11113586.4411011 (157)\ttotal: 4.09s\tremaining: 8.62s\n",
      "170:\tlearn: 7080960.5920998\ttest: 11115215.4303301\tbest: 11095702.4481249 (168)\ttotal: 4.35s\tremaining: 8.37s\n",
      "180:\tlearn: 7037866.0808751\ttest: 11115516.1190818\tbest: 11095702.4481249 (168)\ttotal: 4.61s\tremaining: 8.12s\n",
      "190:\tlearn: 6882368.8454640\ttest: 11074988.9072618\tbest: 11071675.1225111 (189)\ttotal: 4.87s\tremaining: 7.88s\n",
      "200:\tlearn: 6771863.3628887\ttest: 11042851.1811255\tbest: 11038406.1572414 (199)\ttotal: 5.13s\tremaining: 7.63s\n",
      "210:\tlearn: 6710230.6167990\ttest: 11047770.8384604\tbest: 11038406.1572414 (199)\ttotal: 5.39s\tremaining: 7.38s\n",
      "220:\tlearn: 6608639.6573953\ttest: 11034331.6008287\tbest: 11034331.6008287 (220)\ttotal: 5.65s\tremaining: 7.13s\n",
      "230:\tlearn: 6462562.2789885\ttest: 11079362.1634614\tbest: 11029303.2856693 (221)\ttotal: 5.91s\tremaining: 6.88s\n",
      "240:\tlearn: 6399672.1961198\ttest: 11070755.7047136\tbest: 11029303.2856693 (221)\ttotal: 6.17s\tremaining: 6.63s\n",
      "250:\tlearn: 6322503.8991015\ttest: 11089456.6757494\tbest: 11029303.2856693 (221)\ttotal: 6.43s\tremaining: 6.38s\n",
      "260:\tlearn: 6286021.5012823\ttest: 11076720.1575832\tbest: 11029303.2856693 (221)\ttotal: 6.68s\tremaining: 6.12s\n",
      "270:\tlearn: 6259777.0668215\ttest: 11074325.3834619\tbest: 11029303.2856693 (221)\ttotal: 6.94s\tremaining: 5.86s\n",
      "280:\tlearn: 6195729.3524300\ttest: 11053933.4910990\tbest: 11029303.2856693 (221)\ttotal: 7.2s\tremaining: 5.61s\n",
      "290:\tlearn: 6126399.9078082\ttest: 11040899.9620936\tbest: 11029303.2856693 (221)\ttotal: 7.46s\tremaining: 5.36s\n",
      "300:\tlearn: 6092941.4546049\ttest: 11015376.4754513\tbest: 11015303.1018858 (299)\ttotal: 7.71s\tremaining: 5.1s\n",
      "310:\tlearn: 5977229.8155384\ttest: 10988280.8010620\tbest: 10988280.8010620 (310)\ttotal: 7.97s\tremaining: 4.84s\n",
      "320:\tlearn: 5967084.6487221\ttest: 10984179.8305162\tbest: 10984179.8305162 (320)\ttotal: 8.22s\tremaining: 4.59s\n",
      "330:\tlearn: 5909949.0927197\ttest: 10975801.8280316\tbest: 10969314.0855240 (323)\ttotal: 8.48s\tremaining: 4.33s\n",
      "340:\tlearn: 5860017.1208923\ttest: 10963455.0250082\tbest: 10961969.1117144 (338)\ttotal: 8.74s\tremaining: 4.08s\n",
      "350:\tlearn: 5814620.7600828\ttest: 10980558.4445782\tbest: 10961969.1117144 (338)\ttotal: 8.99s\tremaining: 3.82s\n",
      "360:\tlearn: 5805030.5607609\ttest: 10980135.2909413\tbest: 10961969.1117144 (338)\ttotal: 9.25s\tremaining: 3.56s\n",
      "370:\tlearn: 5781338.0022109\ttest: 10970196.8033788\tbest: 10961969.1117144 (338)\ttotal: 9.51s\tremaining: 3.31s\n",
      "380:\tlearn: 5751649.4106960\ttest: 10972899.3292417\tbest: 10961968.7555269 (378)\ttotal: 9.77s\tremaining: 3.05s\n",
      "390:\tlearn: 5730353.9715251\ttest: 10966442.2694960\tbest: 10961968.7555269 (378)\ttotal: 10s\tremaining: 2.79s\n",
      "400:\tlearn: 5670286.9834816\ttest: 10947862.8489564\tbest: 10947862.8489564 (400)\ttotal: 10.3s\tremaining: 2.54s\n",
      "410:\tlearn: 5638235.1461931\ttest: 10960902.2784165\tbest: 10947862.8489564 (400)\ttotal: 10.5s\tremaining: 2.28s\n",
      "420:\tlearn: 5611312.5986335\ttest: 10955087.5474734\tbest: 10947862.8489564 (400)\ttotal: 10.8s\tremaining: 2.03s\n",
      "430:\tlearn: 5571954.2383388\ttest: 10975411.2201635\tbest: 10947862.8489564 (400)\ttotal: 11.1s\tremaining: 1.77s\n",
      "440:\tlearn: 5526899.4892796\ttest: 10985057.7994289\tbest: 10947862.8489564 (400)\ttotal: 11.3s\tremaining: 1.51s\n",
      "450:\tlearn: 5511635.8601276\ttest: 10973986.3441115\tbest: 10947862.8489564 (400)\ttotal: 11.6s\tremaining: 1.26s\n",
      "460:\tlearn: 5493267.7886842\ttest: 10962542.2023260\tbest: 10947862.8489564 (400)\ttotal: 11.8s\tremaining: 1s\n",
      "470:\tlearn: 5488249.3602592\ttest: 10963619.5600680\tbest: 10947862.8489564 (400)\ttotal: 12.1s\tremaining: 745ms\n",
      "480:\tlearn: 5431280.1574926\ttest: 10972114.3343615\tbest: 10947862.8489564 (400)\ttotal: 12.3s\tremaining: 488ms\n",
      "490:\tlearn: 5426096.5948936\ttest: 10984467.0442643\tbest: 10947862.8489564 (400)\ttotal: 12.6s\tremaining: 231ms\n",
      "499:\tlearn: 5399110.8639191\ttest: 10979089.0713600\tbest: 10947862.8489564 (400)\ttotal: 12.8s\tremaining: 0us\n",
      "bestTest = 10947862.85\n",
      "bestIteration = 400\n",
      "Shrink model to first 401 iterations.\n"
     ]
    }
   ],
   "source": [
    "train_r2, val_r2 = test_infomax(dataset, best_model)"
   ]
  },
  {
   "cell_type": "code",
   "execution_count": 12,
   "id": "2e3c8e68-c2f7-4fa8-9c81-c0163b6f714c",
   "metadata": {
    "execution": {
     "iopub.execute_input": "2024-07-22T10:31:54.935047Z",
     "iopub.status.busy": "2024-07-22T10:31:54.933610Z",
     "iopub.status.idle": "2024-07-22T10:31:54.957275Z",
     "shell.execute_reply": "2024-07-22T10:31:54.956059Z",
     "shell.execute_reply.started": "2024-07-22T10:31:54.934994Z"
    },
    "tags": []
   },
   "outputs": [
    {
     "name": "stdout",
     "output_type": "stream",
     "text": [
      "R2: 0.5890431001355115\n"
     ]
    }
   ],
   "source": [
    "print(f'R2: {val_r2}')"
   ]
  }
 ],
 "metadata": {
  "kernelspec": {
   "display_name": "DataSphere Kernel",
   "language": "python",
   "name": "python3"
  },
  "language_info": {
   "codemirror_mode": {
    "name": "ipython",
    "version": 3
   },
   "file_extension": ".py",
   "mimetype": "text/x-python",
   "name": "python",
   "nbconvert_exporter": "python",
   "pygments_lexer": "ipython3",
   "version": "3.10.12"
  }
 },
 "nbformat": 4,
 "nbformat_minor": 5
}
