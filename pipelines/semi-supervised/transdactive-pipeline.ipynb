{
 "cells": [
  {
   "cell_type": "code",
   "execution_count": null,
   "id": "09515961-d5ac-4e2d-b2f5-4997a3728903",
   "metadata": {
    "execution": {
     "iopub.status.busy": "2024-07-19T11:18:15.997756Z",
     "iopub.status.idle": "2024-07-19T11:18:15.998238Z",
     "shell.execute_reply": "2024-07-19T11:18:15.998117Z",
     "shell.execute_reply.started": "2024-07-19T11:18:15.998104Z"
    },
    "tags": []
   },
   "outputs": [],
   "source": [
    "%pip install pyg_lib torch_scatter torch_sparse torch_cluster torch_spline_conv -q -f https://data.pyg.org/whl/torch-2.0.1+cu118.html\n",
    "%pip install wandb optuna -qU"
   ]
  },
  {
   "cell_type": "markdown",
   "id": "ef0dd7f9-e885-4ade-bc06-a5fc83e02497",
   "metadata": {
    "execution": {
     "iopub.execute_input": "2024-07-19T13:10:33.223688Z",
     "iopub.status.busy": "2024-07-19T13:10:33.222700Z",
     "iopub.status.idle": "2024-07-19T13:10:33.235753Z",
     "shell.execute_reply": "2024-07-19T13:10:33.235203Z",
     "shell.execute_reply.started": "2024-07-19T13:10:33.223663Z"
    }
   },
   "source": [
    "# Semi-Supervised Transductive Learning Pipeline\n",
    "\n",
    "- **You can either use image embeddings  or not**\n",
    "- **To make results reproducable its reccomended to use CPU**"
   ]
  },
  {
   "cell_type": "markdown",
   "id": "8f21a218-241f-4f6d-93a7-0c77004d3d36",
   "metadata": {},
   "source": [
    "## Imports"
   ]
  },
  {
   "cell_type": "code",
   "execution_count": 1,
   "id": "7825fa05-8c41-4232-a327-94a82314b78f",
   "metadata": {
    "execution": {
     "iopub.execute_input": "2024-07-19T18:28:27.273006Z",
     "iopub.status.busy": "2024-07-19T18:28:27.272280Z",
     "iopub.status.idle": "2024-07-19T18:28:36.922456Z",
     "shell.execute_reply": "2024-07-19T18:28:36.921782Z",
     "shell.execute_reply.started": "2024-07-19T18:28:27.272980Z"
    },
    "tags": []
   },
   "outputs": [],
   "source": [
    "import numpy as np\n",
    "import optuna\n",
    "import pandas as pd\n",
    "import torch\n",
    "import sys\n",
    "import torch_geometric.transforms as T\n",
    "\n",
    "sys.path.append(\"../../src\")\n",
    "\n",
    "#here you can find utils that are used in each notebook\n",
    "from utils import set_seed, EarlyStoppingR2, train_CFG\n",
    "#here are some functions like train_one_epoch or cross_val\n",
    "from training_utils import train_one_epoch_transductive, val_one_epoch_transductive, train_transductive, cross_val_transductive\n",
    "#here optuna objective for all* pipelines\n",
    "from optuna_objectives import objective_transductive\n",
    "#here are models\n",
    "from models import TransductiveGCN, TransductiveGAT\n",
    "\n",
    "\n",
    "#* not all pipeline`s objectives are implemented yet"
   ]
  },
  {
   "cell_type": "markdown",
   "id": "7fc5bc22-e874-476a-b7ca-70f36336f586",
   "metadata": {},
   "source": [
    "## Setting up all session parameters"
   ]
  },
  {
   "cell_type": "code",
   "execution_count": 17,
   "id": "6336fbd5-37dc-49d1-8af8-6e1744649ca7",
   "metadata": {
    "execution": {
     "iopub.execute_input": "2024-07-19T18:38:09.721725Z",
     "iopub.status.busy": "2024-07-19T18:38:09.720841Z",
     "iopub.status.idle": "2024-07-19T18:38:09.732248Z",
     "shell.execute_reply": "2024-07-19T18:38:09.731643Z",
     "shell.execute_reply.started": "2024-07-19T18:38:09.721696Z"
    },
    "tags": []
   },
   "outputs": [],
   "source": [
    "# global params\n",
    "\n",
    "#IMPORTANT: USE THIS SEED\n",
    "SEED = 111\n",
    "device = torch.device(\"cpu\" if not torch.cuda.is_available() else \"cuda\")\n",
    "\n",
    "# use feature-propagation algo or not\n",
    "use_features_propagation = False\n",
    "\n",
    "# current region that you are working on\n",
    "region = 812\n",
    "\n",
    "regions_mapper = {\n",
    "        777 : \"Moscow\",\n",
    "        812 : \"Saint-Petersburg\",\n",
    "        287 : \"Kazan\",\n",
    "        473 : \"Sochi\"\n",
    "    }\n",
    "\n",
    "\n",
    "#paths params\n",
    "path_for_graph = f\"../../../data/graph_preprocessing/{regions_mapper[region]}/graph_with_cv_full.pickle\"\n",
    "checkpoints_path = \"../../chkps/inductive_gcn_pipeline\" #from the notebook directory, must start with ../../chkps/\n",
    "assert (os.path.exists(checkpoints_path)), \"path for checkoints must exists\"\n",
    "\n",
    "\n",
    "#model params\n",
    "hidden_dim = 64\n",
    "n_layers = 4\n",
    "n_head=2\n",
    "\n",
    "#training params setting\n",
    "optimizer_name = \"AdamW\" #(\"Adam\", \"AdamW\", \"RMSProp\")\n",
    "use_scheduler = True\n",
    "\n",
    "#early stopper params\n",
    "use_stopper = True\n",
    "stopper_patience = 100\n",
    "stopper_delta = 0.001\n",
    "\n",
    "verbose = 10\n",
    "\n",
    "num_epochs = 1000\n",
    "\n",
    "#number of epochs before starting using sheduler and stopper\n",
    "started_patience = 300\n",
    "\n",
    "#image embeddgings type (set to None if you`re not using it)\n",
    "image_embeddings_pipeline = \"basic\" #(\"basic\", \"efficient_all_channels\", \"efficient_delete_channels\")\n",
    "image_embedding_size = 1280\n",
    "\n",
    "image_embeddings_path = f\"../../data/image_embeddings/image_embeddings_{image_embeddings_pipeline}_{region}.pickle\"\n",
    "\n",
    "#image features\n",
    "add_image_features = True\n",
    "\n",
    "image_features_path = f\"../../data/image_embeddings/image_features_{region}.pickle\""
   ]
  },
  {
   "cell_type": "markdown",
   "id": "df992092-5d29-49d2-b221-6e0ce4383868",
   "metadata": {},
   "source": [
    "## Loading preprocessed Graph"
   ]
  },
  {
   "cell_type": "code",
   "execution_count": 18,
   "id": "e1acd7c0-5a53-4ea3-98d5-855e00fd9b88",
   "metadata": {
    "execution": {
     "iopub.execute_input": "2024-07-19T18:38:10.641570Z",
     "iopub.status.busy": "2024-07-19T18:38:10.640676Z",
     "iopub.status.idle": "2024-07-19T18:38:16.016125Z",
     "shell.execute_reply": "2024-07-19T18:38:16.015357Z",
     "shell.execute_reply.started": "2024-07-19T18:38:10.641543Z"
    },
    "tags": []
   },
   "outputs": [],
   "source": [
    "graph = torch.load(\n",
    "    path_for_graph\n",
    ").to(device, \"x\", \"edge_index\")\n",
    "\n",
    "if use_features_propagation:\n",
    "    graph.x[graph.x == -1] = torch.nan\n",
    "    graph = T.FeaturePropagation(missing_mask=torch.isnan(graph.x), num_iterations = 400)(graph)\n",
    "    \n",
    "    \n",
    "if image_embeddings_pipeline:\n",
    "    images = torch.load(\n",
    "        image_embeddings_path\n",
    "    ).to(device)\n",
    "\n",
    "    graph.image_embeds = images\n",
    "    \n",
    "if add_image_features:\n",
    "    image_features = torch.load(image_features_path)\n",
    "    graph.x = torch.cat([graph.x, image_features], dim=-1)"
   ]
  },
  {
   "cell_type": "markdown",
   "id": "1afac5b6-981a-4234-a16f-e2cb564ba6af",
   "metadata": {},
   "source": [
    "## Initializing model, optimizer"
   ]
  },
  {
   "cell_type": "code",
   "execution_count": 4,
   "id": "eb36e757-15cc-4db0-8528-87e10d57d1fe",
   "metadata": {
    "execution": {
     "iopub.execute_input": "2024-07-19T14:28:42.294847Z",
     "iopub.status.busy": "2024-07-19T14:28:42.294377Z",
     "iopub.status.idle": "2024-07-19T14:28:42.377253Z",
     "shell.execute_reply": "2024-07-19T14:28:42.376711Z",
     "shell.execute_reply.started": "2024-07-19T14:28:42.294827Z"
    },
    "tags": []
   },
   "outputs": [],
   "source": [
    "set_seed(SEED)\n",
    "\n",
    "# model\n",
    "# can be TransductiveGCN or TransductiveGAT\n",
    "# TransductiveGATnoIMGS will require one more param - head (number of heads in each conv)\n",
    "\n",
    "model = TransductiveGAT(\n",
    "    n_in=graph.num_features,\n",
    "    n_out=1,\n",
    "    hidden_dim=hidden_dim,\n",
    "    n_layers=n_layers,\n",
    "    head=n_head,\n",
    "    use_image = (True if image_embeddings_type is not None else False),\n",
    "    image_size = (image_embedding_size if image_embeddings_type is not None else False)\n",
    ").to(device)\n",
    "\n",
    "#optimizer\n",
    "optimizer = getattr(torch.optim, optimizer_name)(model.parameters(), lr=0.001771619056705244)\n",
    "\n",
    "#scheduler\n",
    "if use_scheduler:\n",
    "    scheduler = torch.optim.lr_scheduler.ReduceLROnPlateau(\n",
    "        optimizer=optimizer, factor=0.7, patience=30, threshold=0.01, min_lr=1e-5 / 5\n",
    "    )\n",
    "\n",
    "#loss function \n",
    "loss_fn = torch.nn.MSELoss()\n",
    "\n",
    "#EarlyStopper\n",
    "if use_stopper:\n",
    "    earlystopper = EarlyStoppingR2(\n",
    "        patience=stopper_patience,\n",
    "        verbose=False,\n",
    "        delta=stopper_delta,\n",
    "        path=checkpoints_path,\n",
    "        trace_func=print,\n",
    "        model_name=\"best_model_train.pt\"\n",
    "    )"
   ]
  },
  {
   "cell_type": "markdown",
   "id": "585ce0cb-9107-4002-8597-9ef5eb2f65d8",
   "metadata": {},
   "source": [
    "## Default basic training"
   ]
  },
  {
   "cell_type": "code",
   "execution_count": 1,
   "id": "561edc0a-8ae2-493d-8a35-1f81eb726970",
   "metadata": {
    "execution": {
     "iopub.execute_input": "2024-07-20T06:32:56.640163Z",
     "iopub.status.busy": "2024-07-20T06:32:56.638581Z",
     "iopub.status.idle": "2024-07-20T06:32:56.839139Z",
     "shell.execute_reply": "2024-07-20T06:32:56.837871Z",
     "shell.execute_reply.started": "2024-07-20T06:32:56.640118Z"
    },
    "tags": []
   },
   "outputs": [
    {
     "ename": "NameError",
     "evalue": "name 'train_CFG' is not defined",
     "output_type": "error",
     "traceback": [
      "\u001b[0;31m---------------------------------------------------------------------------\u001b[0m",
      "\u001b[0;31mNameError\u001b[0m                                 Traceback (most recent call last)",
      "\u001b[0;32m/tmp/ipykernel_2011/513389592.py\u001b[0m in \u001b[0;36m<cell line: 1>\u001b[0;34m()\u001b[0m\n\u001b[1;32m      4\u001b[0m \u001b[0;34m\u001b[0m\u001b[0m\n\u001b[1;32m      5\u001b[0m     \u001b[0;31m#using train_CFG class instead of dictionary\u001b[0m\u001b[0;34m\u001b[0m\u001b[0;34m\u001b[0m\u001b[0m\n\u001b[0;32m----> 6\u001b[0;31m     \u001b[0mtrain_cfg\u001b[0m \u001b[0;34m=\u001b[0m \u001b[0mtrain_CFG\u001b[0m\u001b[0;34m(\u001b[0m\u001b[0;34m)\u001b[0m\u001b[0;34m\u001b[0m\u001b[0;34m\u001b[0m\u001b[0m\n\u001b[0m\u001b[1;32m      7\u001b[0m \u001b[0;34m\u001b[0m\u001b[0m\n\u001b[1;32m      8\u001b[0m     \u001b[0mtrain_cfg\u001b[0m\u001b[0;34m(\u001b[0m\u001b[0;34m\"num_epochs\"\u001b[0m\u001b[0;34m,\u001b[0m \u001b[0mnum_epochs\u001b[0m\u001b[0;34m)\u001b[0m\u001b[0;34m\u001b[0m\u001b[0;34m\u001b[0m\u001b[0m\n",
      "\u001b[0;31mNameError\u001b[0m: name 'train_CFG' is not defined"
     ]
    }
   ],
   "source": [
    "if base_train := True:\n",
    "\n",
    "    #training\n",
    "    \n",
    "    #using train_CFG class instead of dictionary\n",
    "    train_cfg = train_CFG()\n",
    "    \n",
    "    train_cfg(\"num_epochs\", num_epochs)\n",
    "    train_cfg(\"verbose\", verbose)\n",
    "    train_cfg(\"train_mask\", \"train_mask\") # Train Mask name depending on its name in graph object\n",
    "    train_cfg(\"val_mask\", \"val_mask\") # Val Mask name depending on its name in graph object\n",
    "    \n",
    "    train_transductive(\n",
    "        dataset=graph, \n",
    "        model=model, \n",
    "        optimizer=optimizer, \n",
    "        loss_fn=loss_fn, \n",
    "        train_cfg=train_cfg, \n",
    "        scheduler=(scheduler if use_scheduler else None),\n",
    "        started_patience=started_patience,\n",
    "        earlystopper=(earlystopper if use_stopper else None),\n",
    "        use_image=True\n",
    "    )\n",
    "\n",
    "    # evaluation\n",
    "    _, result_r2 = val_one_epoch_transductive(graph, model, loss_fn, \"test_mask\")\n",
    "    print(result_r2)"
   ]
  },
  {
   "cell_type": "markdown",
   "id": "fb440359-5854-468a-a447-280d4f417d12",
   "metadata": {
    "execution": {
     "iopub.execute_input": "2024-07-19T13:13:22.526640Z",
     "iopub.status.busy": "2024-07-19T13:13:22.525818Z",
     "iopub.status.idle": "2024-07-19T13:13:22.547144Z",
     "shell.execute_reply": "2024-07-19T13:13:22.546595Z",
     "shell.execute_reply.started": "2024-07-19T13:13:22.526609Z"
    }
   },
   "source": [
    "## Stratified KFold Validation"
   ]
  },
  {
   "cell_type": "code",
   "execution_count": null,
   "id": "c6c7dd63-99b8-4649-903c-908aa8d69e73",
   "metadata": {
    "tags": []
   },
   "outputs": [],
   "source": [
    "# Using Stratified KFOLD splitting target on bins\n",
    "\n",
    "cv_cfg = train_CFG()\n",
    "cv_cfg(\"num_epochs\", num_epochs)\n",
    "cv_cfg(\"verbose\", verbose)\n",
    "cv_cfg(\"scheduler\", (True if use_scheduler else None))\n",
    "cv_cfg(\"stopper_patience\", stopper_patience)\n",
    "cv_cfg(\"stopper_delta\", stopper_delta)\n",
    "cv_cfg(\"started_patience\", started_patience)\n",
    "\n",
    "\n",
    "val_score = cross_val_transductive(\n",
    "    num_folds=5, \n",
    "    dataset=graph, \n",
    "    model_name=\"GAT\", #model architecture name\n",
    "    model_params=dict(\n",
    "        n_in=graph.num_features,\n",
    "        n_out=1,\n",
    "        hidden_dim=hidden_dim,\n",
    "        n_layers=n_layers,\n",
    "        head=n_head #depending on model architecture you`d like to use heads \n",
    "    ),\n",
    "    optimizer_params={\"lr\" : 0.001771619056705244}, \n",
    "    optimizer_name=optimizer_name,\n",
    "    cv_cfg=cv_cfg, \n",
    "    checkpoints_path=None, # checkpoints path\n",
    "    eval_test=False, # For now if set to \"True\" than all models evaluates using \"test_mask\" from graph\n",
    "    device=device,\n",
    "    use_image=True\n",
    ")"
   ]
  },
  {
   "cell_type": "markdown",
   "id": "c2c3d17c-bcd0-4cab-a866-820eeb2cd084",
   "metadata": {},
   "source": [
    "## Getting best params using Optuna"
   ]
  },
  {
   "cell_type": "code",
   "execution_count": null,
   "id": "c54b9902-095b-4746-a764-45717d8b760f",
   "metadata": {
    "tags": []
   },
   "outputs": [],
   "source": [
    "study = optuna.create_study(\n",
    "    direction=\"maximize\",\n",
    ")\n",
    "\n",
    "graph_no_fp = torch.load(\n",
    "    path_for_graph\n",
    ").to(device, \"x\", \"edge_index\")\n",
    "\n",
    "if image_embeddings_type:\n",
    "    images = torch.load(\n",
    "        image_embeddings_path\n",
    "    ).to(device)\n",
    "\n",
    "    graph_no_fp.image_embeds = images\n",
    "\n",
    "# Special dictionary with some params\n",
    "optimizing_params = dict(\n",
    "    fp_ds=graph, #This dataset will be used when trial suggest to use Feature Propagation\n",
    "    no_fp_ds=graph_no_fp,  #This dataset will be used when trial suggest to not use Feature Propagation\n",
    "    model_name=\"GAT\",\n",
    "    device=device,\n",
    "    use_image=True\n",
    ")\n",
    "\n",
    "#set number of trials (50 trials is sufficient for this task by default) and run!\n",
    "study.optimize(lambda x: objective_transductive(x, **optimizing_params), n_trials=100, show_progress_bar=True)"
   ]
  },
  {
   "cell_type": "code",
   "execution_count": 13,
   "id": "16917870-23d1-4981-9b41-40d468fca000",
   "metadata": {
    "execution": {
     "iopub.execute_input": "2024-07-19T13:01:05.508068Z",
     "iopub.status.busy": "2024-07-19T13:01:05.507451Z",
     "iopub.status.idle": "2024-07-19T13:01:05.518383Z",
     "shell.execute_reply": "2024-07-19T13:01:05.517662Z",
     "shell.execute_reply.started": "2024-07-19T13:01:05.508044Z"
    },
    "tags": []
   },
   "outputs": [
    {
     "data": {
      "text/plain": [
       "FrozenTrial(number=0, state=TrialState.COMPLETE, values=[-0.1137], datetime_start=datetime.datetime(2024, 7, 19, 12, 56, 25, 581867), datetime_complete=datetime.datetime(2024, 7, 19, 12, 57, 46, 397926), params={'n_layers': 3, 'hidden_dim': 256, 'lr_init': 0.004455890110995671, 'use_feature_propagation': False}, user_attrs={}, system_attrs={}, intermediate_values={}, distributions={'n_layers': IntDistribution(high=7, log=False, low=1, step=1), 'hidden_dim': CategoricalDistribution(choices=(32, 64, 128, 256)), 'lr_init': FloatDistribution(high=0.005, log=False, low=0.0001, step=None), 'use_feature_propagation': CategoricalDistribution(choices=(True, False))}, trial_id=0, value=None)"
      ]
     },
     "execution_count": 13,
     "metadata": {},
     "output_type": "execute_result"
    }
   ],
   "source": [
    "# Now, get best params and retrain model using them to reproduce the results\n",
    "\n",
    "print(\"Best params: \")\n",
    "print(study.best_params)\n",
    "\n",
    "print(\"Best score: \")\n",
    "print(study.best_score)"
   ]
  },
  {
   "cell_type": "code",
   "execution_count": null,
   "id": "54f6efff-bac9-4aa8-aafd-0b3bfe5ebd66",
   "metadata": {},
   "outputs": [],
   "source": []
  }
 ],
 "metadata": {
  "kernelspec": {
   "display_name": "DataSphere Kernel",
   "language": "python",
   "name": "python3"
  },
  "language_info": {
   "codemirror_mode": {
    "name": "ipython",
    "version": 3
   },
   "file_extension": ".py",
   "mimetype": "text/x-python",
   "name": "python",
   "nbconvert_exporter": "python",
   "pygments_lexer": "ipython3",
   "version": "3.10.12"
  }
 },
 "nbformat": 4,
 "nbformat_minor": 5
}
