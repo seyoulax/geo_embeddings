{
 "cells": [
  {
   "cell_type": "markdown",
   "id": "36584a22-0ffc-4a73-b5d5-200e4854c5a5",
   "metadata": {},
   "source": [
    "# Import"
   ]
  },
  {
   "cell_type": "code",
   "execution_count": 9,
   "id": "162ab412-382b-4a43-81eb-68662ba6b1d2",
   "metadata": {
    "execution": {
     "iopub.execute_input": "2024-07-19T20:36:27.911746Z",
     "iopub.status.busy": "2024-07-19T20:36:27.910691Z",
     "iopub.status.idle": "2024-07-19T20:36:34.906732Z",
     "shell.execute_reply": "2024-07-19T20:36:34.905689Z",
     "shell.execute_reply.started": "2024-07-19T20:36:27.911701Z"
    },
    "tags": []
   },
   "outputs": [
    {
     "name": "stdout",
     "output_type": "stream",
     "text": [
      "Defaulting to user installation because normal site-packages is not writeable\n",
      "Requirement already satisfied: cykhash in /home/jupyter/.local/lib/python3.10/site-packages (2.0.1)\n",
      "\n",
      "\u001b[1m[\u001b[0m\u001b[34;49mnotice\u001b[0m\u001b[1;39;49m]\u001b[0m\u001b[39;49m A new release of pip is available: \u001b[0m\u001b[31;49m23.0.1\u001b[0m\u001b[39;49m -> \u001b[0m\u001b[32;49m24.1.2\u001b[0m\n",
      "\u001b[1m[\u001b[0m\u001b[34;49mnotice\u001b[0m\u001b[1;39;49m]\u001b[0m\u001b[39;49m To update, run: \u001b[0m\u001b[32;49mpython3 -m pip install --upgrade pip\u001b[0m\n",
      "Defaulting to user installation because normal site-packages is not writeable\n",
      "Requirement already satisfied: pyrosm==0.6.2 in /home/jupyter/.local/lib/python3.10/site-packages (0.6.2)\n",
      "Requirement already satisfied: python-rapidjson in /home/jupyter/.local/lib/python3.10/site-packages (from pyrosm==0.6.2) (1.18)\n",
      "Requirement already satisfied: setuptools>=18.0 in /kernel/lib/python3.10/site-packages (from pyrosm==0.6.2) (65.5.0)\n",
      "Requirement already satisfied: geopandas>=0.12.0 in /usr/local/lib/python3.10/dist-packages (from pyrosm==0.6.2) (0.13.2)\n",
      "Requirement already satisfied: shapely>=2.0.1 in /usr/local/lib/python3.10/dist-packages (from pyrosm==0.6.2) (2.0.1)\n",
      "Requirement already satisfied: cykhash in /home/jupyter/.local/lib/python3.10/site-packages (from pyrosm==0.6.2) (2.0.1)\n",
      "Requirement already satisfied: pyrobuf in /home/jupyter/.local/lib/python3.10/site-packages (from pyrosm==0.6.2) (0.9.3)\n",
      "Requirement already satisfied: fiona>=1.8.19 in /usr/local/lib/python3.10/dist-packages (from geopandas>=0.12.0->pyrosm==0.6.2) (1.9.4.post1)\n",
      "Requirement already satisfied: packaging in /usr/local/lib/python3.10/dist-packages (from geopandas>=0.12.0->pyrosm==0.6.2) (23.1)\n",
      "Requirement already satisfied: pandas>=1.1.0 in /usr/local/lib/python3.10/dist-packages (from geopandas>=0.12.0->pyrosm==0.6.2) (1.5.3)\n",
      "Requirement already satisfied: pyproj>=3.0.1 in /usr/local/lib/python3.10/dist-packages (from geopandas>=0.12.0->pyrosm==0.6.2) (3.6.0)\n",
      "Requirement already satisfied: numpy>=1.14 in /usr/local/lib/python3.10/dist-packages (from shapely>=2.0.1->pyrosm==0.6.2) (1.22.4)\n",
      "Requirement already satisfied: jinja2>=2.8 in /usr/local/lib/python3.10/dist-packages (from pyrobuf->pyrosm==0.6.2) (3.1.2)\n",
      "Requirement already satisfied: cython>=0.23 in /kernel/lib/python3.10/site-packages (from pyrobuf->pyrosm==0.6.2) (3.0.10)\n",
      "Requirement already satisfied: attrs>=19.2.0 in /usr/local/lib/python3.10/dist-packages (from fiona>=1.8.19->geopandas>=0.12.0->pyrosm==0.6.2) (23.1.0)\n",
      "Requirement already satisfied: certifi in /usr/local/lib/python3.10/dist-packages (from fiona>=1.8.19->geopandas>=0.12.0->pyrosm==0.6.2) (2023.7.22)\n",
      "Requirement already satisfied: click~=8.0 in /usr/local/lib/python3.10/dist-packages (from fiona>=1.8.19->geopandas>=0.12.0->pyrosm==0.6.2) (8.1.6)\n",
      "Requirement already satisfied: click-plugins>=1.0 in /usr/local/lib/python3.10/dist-packages (from fiona>=1.8.19->geopandas>=0.12.0->pyrosm==0.6.2) (1.1.1)\n",
      "Requirement already satisfied: cligj>=0.5 in /usr/local/lib/python3.10/dist-packages (from fiona>=1.8.19->geopandas>=0.12.0->pyrosm==0.6.2) (0.7.2)\n",
      "Requirement already satisfied: six in /usr/lib/python3/dist-packages (from fiona>=1.8.19->geopandas>=0.12.0->pyrosm==0.6.2) (1.16.0)\n",
      "Requirement already satisfied: MarkupSafe>=2.0 in /usr/local/lib/python3.10/dist-packages (from jinja2>=2.8->pyrobuf->pyrosm==0.6.2) (2.1.3)\n",
      "Requirement already satisfied: python-dateutil>=2.8.1 in /usr/local/lib/python3.10/dist-packages (from pandas>=1.1.0->geopandas>=0.12.0->pyrosm==0.6.2) (2.8.2)\n",
      "Requirement already satisfied: pytz>=2020.1 in /usr/local/lib/python3.10/dist-packages (from pandas>=1.1.0->geopandas>=0.12.0->pyrosm==0.6.2) (2022.7.1)\n",
      "\n",
      "\u001b[1m[\u001b[0m\u001b[34;49mnotice\u001b[0m\u001b[1;39;49m]\u001b[0m\u001b[39;49m A new release of pip is available: \u001b[0m\u001b[31;49m23.0.1\u001b[0m\u001b[39;49m -> \u001b[0m\u001b[32;49m24.1.2\u001b[0m\n",
      "\u001b[1m[\u001b[0m\u001b[34;49mnotice\u001b[0m\u001b[1;39;49m]\u001b[0m\u001b[39;49m To update, run: \u001b[0m\u001b[32;49mpython3 -m pip install --upgrade pip\u001b[0m\n",
      "Defaulting to user installation because normal site-packages is not writeable\n",
      "Requirement already satisfied: pyrosm in /home/jupyter/.local/lib/python3.10/site-packages (0.6.2)\n",
      "Requirement already satisfied: python-rapidjson in /home/jupyter/.local/lib/python3.10/site-packages (from pyrosm) (1.18)\n",
      "Requirement already satisfied: setuptools>=18.0 in /kernel/lib/python3.10/site-packages (from pyrosm) (65.5.0)\n",
      "Requirement already satisfied: geopandas>=0.12.0 in /usr/local/lib/python3.10/dist-packages (from pyrosm) (0.13.2)\n",
      "Requirement already satisfied: shapely>=2.0.1 in /usr/local/lib/python3.10/dist-packages (from pyrosm) (2.0.1)\n",
      "Requirement already satisfied: cykhash in /home/jupyter/.local/lib/python3.10/site-packages (from pyrosm) (2.0.1)\n",
      "Requirement already satisfied: pyrobuf in /home/jupyter/.local/lib/python3.10/site-packages (from pyrosm) (0.9.3)\n",
      "Requirement already satisfied: fiona>=1.8.19 in /usr/local/lib/python3.10/dist-packages (from geopandas>=0.12.0->pyrosm) (1.9.4.post1)\n",
      "Requirement already satisfied: packaging in /usr/local/lib/python3.10/dist-packages (from geopandas>=0.12.0->pyrosm) (23.1)\n",
      "Requirement already satisfied: pandas>=1.1.0 in /usr/local/lib/python3.10/dist-packages (from geopandas>=0.12.0->pyrosm) (1.5.3)\n",
      "Requirement already satisfied: pyproj>=3.0.1 in /usr/local/lib/python3.10/dist-packages (from geopandas>=0.12.0->pyrosm) (3.6.0)\n",
      "Requirement already satisfied: numpy>=1.14 in /usr/local/lib/python3.10/dist-packages (from shapely>=2.0.1->pyrosm) (1.22.4)\n",
      "Requirement already satisfied: jinja2>=2.8 in /usr/local/lib/python3.10/dist-packages (from pyrobuf->pyrosm) (3.1.2)\n",
      "Requirement already satisfied: cython>=0.23 in /kernel/lib/python3.10/site-packages (from pyrobuf->pyrosm) (3.0.10)\n",
      "Requirement already satisfied: attrs>=19.2.0 in /usr/local/lib/python3.10/dist-packages (from fiona>=1.8.19->geopandas>=0.12.0->pyrosm) (23.1.0)\n",
      "Requirement already satisfied: certifi in /usr/local/lib/python3.10/dist-packages (from fiona>=1.8.19->geopandas>=0.12.0->pyrosm) (2023.7.22)\n",
      "Requirement already satisfied: click~=8.0 in /usr/local/lib/python3.10/dist-packages (from fiona>=1.8.19->geopandas>=0.12.0->pyrosm) (8.1.6)\n",
      "Requirement already satisfied: click-plugins>=1.0 in /usr/local/lib/python3.10/dist-packages (from fiona>=1.8.19->geopandas>=0.12.0->pyrosm) (1.1.1)\n",
      "Requirement already satisfied: cligj>=0.5 in /usr/local/lib/python3.10/dist-packages (from fiona>=1.8.19->geopandas>=0.12.0->pyrosm) (0.7.2)\n",
      "Requirement already satisfied: six in /usr/lib/python3/dist-packages (from fiona>=1.8.19->geopandas>=0.12.0->pyrosm) (1.16.0)\n",
      "Requirement already satisfied: MarkupSafe>=2.0 in /usr/local/lib/python3.10/dist-packages (from jinja2>=2.8->pyrobuf->pyrosm) (2.1.3)\n",
      "Requirement already satisfied: python-dateutil>=2.8.1 in /usr/local/lib/python3.10/dist-packages (from pandas>=1.1.0->geopandas>=0.12.0->pyrosm) (2.8.2)\n",
      "Requirement already satisfied: pytz>=2020.1 in /usr/local/lib/python3.10/dist-packages (from pandas>=1.1.0->geopandas>=0.12.0->pyrosm) (2022.7.1)\n",
      "\n",
      "\u001b[1m[\u001b[0m\u001b[34;49mnotice\u001b[0m\u001b[1;39;49m]\u001b[0m\u001b[39;49m A new release of pip is available: \u001b[0m\u001b[31;49m23.0.1\u001b[0m\u001b[39;49m -> \u001b[0m\u001b[32;49m24.1.2\u001b[0m\n",
      "\u001b[1m[\u001b[0m\u001b[34;49mnotice\u001b[0m\u001b[1;39;49m]\u001b[0m\u001b[39;49m To update, run: \u001b[0m\u001b[32;49mpython3 -m pip install --upgrade pip\u001b[0m\n",
      "Defaulting to user installation because normal site-packages is not writeable\n",
      "\u001b[31mERROR: Could not find a version that satisfies the requirement pyrosm_proto (from versions: none)\u001b[0m\u001b[31m\n",
      "\u001b[0m\u001b[31mERROR: No matching distribution found for pyrosm_proto\u001b[0m\u001b[31m\n",
      "\u001b[0m\n",
      "\u001b[1m[\u001b[0m\u001b[34;49mnotice\u001b[0m\u001b[1;39;49m]\u001b[0m\u001b[39;49m A new release of pip is available: \u001b[0m\u001b[31;49m23.0.1\u001b[0m\u001b[39;49m -> \u001b[0m\u001b[32;49m24.1.2\u001b[0m\n",
      "\u001b[1m[\u001b[0m\u001b[34;49mnotice\u001b[0m\u001b[1;39;49m]\u001b[0m\u001b[39;49m To update, run: \u001b[0m\u001b[32;49mpython3 -m pip install --upgrade pip\u001b[0m\n"
     ]
    }
   ],
   "source": [
    "%pip install cykhash\n",
    "%pip install pyrosm==0.6.2\n",
    "%pip install pyrosm\n",
    "%pip install pyrosm_proto"
   ]
  },
  {
   "cell_type": "code",
   "execution_count": 10,
   "id": "efbccff3-f777-4bbf-ba7b-fff79c97b0c1",
   "metadata": {
    "execution": {
     "iopub.execute_input": "2024-07-19T21:02:50.892258Z",
     "iopub.status.busy": "2024-07-19T21:02:50.891209Z",
     "iopub.status.idle": "2024-07-19T21:02:50.968881Z",
     "shell.execute_reply": "2024-07-19T21:02:50.967684Z",
     "shell.execute_reply.started": "2024-07-19T21:02:50.892216Z"
    },
    "tags": []
   },
   "outputs": [
    {
     "name": "stdout",
     "output_type": "stream",
     "text": [
      "rasterio version: 1.3.10\n"
     ]
    },
    {
     "ename": "ModuleNotFoundError",
     "evalue": "No module named 'pyrosm_proto'",
     "output_type": "error",
     "traceback": [
      "\u001b[0;31m---------------------------------------------------------------------------\u001b[0m",
      "\u001b[0;31mModuleNotFoundError\u001b[0m                       Traceback (most recent call last)",
      "\u001b[0;32m/tmp/ipykernel_14236/4162625616.py\u001b[0m in \u001b[0;36m<cell line: 23>\u001b[0;34m()\u001b[0m\n\u001b[1;32m     21\u001b[0m \u001b[0;34m\u001b[0m\u001b[0m\n\u001b[1;32m     22\u001b[0m \u001b[0;32mimport\u001b[0m \u001b[0mpandas\u001b[0m \u001b[0;32mas\u001b[0m \u001b[0mpd\u001b[0m\u001b[0;34m\u001b[0m\u001b[0;34m\u001b[0m\u001b[0m\n\u001b[0;32m---> 23\u001b[0;31m \u001b[0;32mfrom\u001b[0m \u001b[0mpyrosm\u001b[0m \u001b[0;32mimport\u001b[0m \u001b[0mOSM\u001b[0m\u001b[0;34m,\u001b[0m \u001b[0mget_data\u001b[0m\u001b[0;34m\u001b[0m\u001b[0;34m\u001b[0m\u001b[0m\n\u001b[0m\u001b[1;32m     24\u001b[0m \u001b[0;32mfrom\u001b[0m \u001b[0mgeopy\u001b[0m\u001b[0;34m.\u001b[0m\u001b[0mdistance\u001b[0m \u001b[0;32mimport\u001b[0m \u001b[0mgeodesic\u001b[0m\u001b[0;34m\u001b[0m\u001b[0;34m\u001b[0m\u001b[0m\n\u001b[1;32m     25\u001b[0m \u001b[0;34m\u001b[0m\u001b[0m\n",
      "\u001b[0;32m~/.local/lib/python3.10/site-packages/pyrosm/__init__.py\u001b[0m in \u001b[0;36m<module>\u001b[0;34m\u001b[0m\n\u001b[0;32m----> 1\u001b[0;31m \u001b[0;32mfrom\u001b[0m \u001b[0mpyrosm\u001b[0m\u001b[0;34m.\u001b[0m\u001b[0mdata\u001b[0m \u001b[0;32mimport\u001b[0m \u001b[0mget_data\u001b[0m\u001b[0;34m,\u001b[0m \u001b[0mget_path\u001b[0m  \u001b[0;31m# drop get_path in the future\u001b[0m\u001b[0;34m\u001b[0m\u001b[0;34m\u001b[0m\u001b[0m\n\u001b[0m\u001b[1;32m      2\u001b[0m \u001b[0;32mfrom\u001b[0m \u001b[0mpyrosm\u001b[0m\u001b[0;34m.\u001b[0m\u001b[0mpyrosm\u001b[0m \u001b[0;32mimport\u001b[0m \u001b[0mOSM\u001b[0m\u001b[0;34m\u001b[0m\u001b[0;34m\u001b[0m\u001b[0m\n",
      "\u001b[0;32m~/.local/lib/python3.10/site-packages/pyrosm/data/__init__.py\u001b[0m in \u001b[0;36m<module>\u001b[0;34m\u001b[0m\n\u001b[1;32m      1\u001b[0m \u001b[0;32mimport\u001b[0m \u001b[0mos\u001b[0m\u001b[0;34m\u001b[0m\u001b[0;34m\u001b[0m\u001b[0m\n\u001b[0;32m----> 2\u001b[0;31m \u001b[0;32mfrom\u001b[0m \u001b[0mpyrosm\u001b[0m\u001b[0;34m.\u001b[0m\u001b[0mutils\u001b[0m\u001b[0;34m.\u001b[0m\u001b[0mdownload\u001b[0m \u001b[0;32mimport\u001b[0m \u001b[0mdownload\u001b[0m\u001b[0;34m\u001b[0m\u001b[0;34m\u001b[0m\u001b[0m\n\u001b[0m\u001b[1;32m      3\u001b[0m from pyrosm.data.geofabrik import (\n\u001b[1;32m      4\u001b[0m     \u001b[0mAfrica\u001b[0m\u001b[0;34m,\u001b[0m\u001b[0;34m\u001b[0m\u001b[0;34m\u001b[0m\u001b[0m\n\u001b[1;32m      5\u001b[0m     \u001b[0mAntarctica\u001b[0m\u001b[0;34m,\u001b[0m\u001b[0;34m\u001b[0m\u001b[0;34m\u001b[0m\u001b[0m\n",
      "\u001b[0;32m~/.local/lib/python3.10/site-packages/pyrosm/utils/__init__.py\u001b[0m in \u001b[0;36m<module>\u001b[0;34m\u001b[0m\n\u001b[1;32m      1\u001b[0m \u001b[0;32mfrom\u001b[0m \u001b[0mshapely\u001b[0m \u001b[0;32mimport\u001b[0m \u001b[0mops\u001b[0m\u001b[0;34m\u001b[0m\u001b[0;34m\u001b[0m\u001b[0m\n\u001b[1;32m      2\u001b[0m \u001b[0;32mfrom\u001b[0m \u001b[0mshapely\u001b[0m\u001b[0;34m.\u001b[0m\u001b[0mgeometry\u001b[0m \u001b[0;32mimport\u001b[0m \u001b[0mMultiLineString\u001b[0m\u001b[0;34m,\u001b[0m \u001b[0mPolygon\u001b[0m\u001b[0;34m,\u001b[0m \u001b[0mMultiPolygon\u001b[0m\u001b[0;34m,\u001b[0m \u001b[0mbox\u001b[0m\u001b[0;34m\u001b[0m\u001b[0;34m\u001b[0m\u001b[0m\n\u001b[0;32m----> 3\u001b[0;31m \u001b[0;32mfrom\u001b[0m \u001b[0mpyrosm_proto\u001b[0m \u001b[0;32mimport\u001b[0m \u001b[0mBlobHeader\u001b[0m\u001b[0;34m,\u001b[0m \u001b[0mBlob\u001b[0m\u001b[0;34m,\u001b[0m \u001b[0mHeaderBlock\u001b[0m\u001b[0;34m\u001b[0m\u001b[0;34m\u001b[0m\u001b[0m\n\u001b[0m\u001b[1;32m      4\u001b[0m \u001b[0;32mfrom\u001b[0m \u001b[0mpyrosm\u001b[0m\u001b[0;34m.\u001b[0m\u001b[0mexceptions\u001b[0m \u001b[0;32mimport\u001b[0m \u001b[0mPBFNotImplemented\u001b[0m\u001b[0;34m\u001b[0m\u001b[0;34m\u001b[0m\u001b[0m\n\u001b[1;32m      5\u001b[0m \u001b[0;32mimport\u001b[0m \u001b[0mzlib\u001b[0m\u001b[0;34m\u001b[0m\u001b[0;34m\u001b[0m\u001b[0m\n",
      "\u001b[0;31mModuleNotFoundError\u001b[0m: No module named 'pyrosm_proto'"
     ]
    }
   ],
   "source": [
    "import pickle\n",
    "import networkx as nx\n",
    "import geopandas as gpd\n",
    "from tqdm import tqdm\n",
    "\n",
    "import rasterio\n",
    "import rasterio.mask\n",
    "from rasterio.enums import Resampling\n",
    "print(f'rasterio version: {rasterio.__version__}')\n",
    "\n",
    "import os\n",
    "import matplotlib.pyplot as plt\n",
    "\n",
    "from shapely.geometry import Point\n",
    "import pandas as pd\n",
    "import zipfile\n",
    "import shutil\n",
    "\n",
    "import torch\n",
    "import numpy as np\n",
    "\n",
    "import pandas as pd\n",
    "from pyrosm import OSM, get_data\n",
    "from geopy.distance import geodesic\n",
    "\n",
    "from sklearn.neighbors import BallTree\n",
    "import numpy as np"
   ]
  },
  {
   "cell_type": "markdown",
   "id": "97f5e65c-2d75-4e19-84ae-105a265e6c94",
   "metadata": {},
   "source": [
    "# Functions"
   ]
  },
  {
   "cell_type": "code",
   "execution_count": null,
   "id": "e3b2d2f4-c721-4de2-91bb-ad544261c9ed",
   "metadata": {
    "execution": {
     "iopub.status.busy": "2024-07-19T20:30:13.973759Z",
     "iopub.status.idle": "2024-07-19T20:30:13.974229Z",
     "shell.execute_reply": "2024-07-19T20:30:13.974041Z",
     "shell.execute_reply.started": "2024-07-19T20:30:13.974019Z"
    },
    "tags": []
   },
   "outputs": [],
   "source": [
    "def get_geometry_df(path2graph):\n",
    "    \"\"\"\n",
    "    Extract geometry information from a graph and return as a GeoDataFrame.\n",
    "    \n",
    "    Args:\n",
    "    path2graph (str): Path to the graph file (pickle format).\n",
    "\n",
    "    Returns:\n",
    "    GeoDataFrame: Contains zone_id and geometry of nodes with EPSG:4326 CRS.\n",
    "    \"\"\"\n",
    "    with open(path2graph, 'rb') as f:\n",
    "        G = pickle.load(f)\n",
    "\n",
    "    geometry = nx.get_node_attributes(G, 'geometry')\n",
    "    geometry_df = gpd.GeoDataFrame(data={'zone_id': geometry.keys(), 'geometry': geometry.values()},\n",
    "                                   geometry='geometry', crs='epsg:4326')\n",
    "    \n",
    "    return geometry_df\n",
    "\n",
    "\n",
    "def get_imgs_lst(geometry_df, dataset):\n",
    "    \"\"\"\n",
    "    Generate a list of image arrays by masking the dataset with geometries.\n",
    "\n",
    "    Args:\n",
    "    geometry_df (GeoDataFrame): DataFrame containing geometries.\n",
    "    dataset (rasterio.DatasetReader): Raster dataset to mask.\n",
    "\n",
    "    Returns:\n",
    "    list: List of image arrays corresponding to the geometries.\n",
    "    \"\"\"\n",
    "    c, e = 0, 1\n",
    "    imgs_lst = []\n",
    "\n",
    "    for i in tqdm(geometry_df.values, desc='Get images'):\n",
    "        poly = gpd.GeoDataFrame(data=[0], geometry=[i[1]], crs='epsg:4326')\n",
    "\n",
    "        try:\n",
    "            out_image, out_transform = rasterio.mask.mask(dataset,\n",
    "                                                          [poly.geometry.values[0]],\n",
    "                                                          crop=True)\n",
    "            imgs_lst.append(out_image.tolist())\n",
    "            c += 1\n",
    "        except Exception as er:\n",
    "            print(f'Не удалось обработать изображение №{e}')\n",
    "            print(er)\n",
    "            e += 1\n",
    "    return imgs_lst\n",
    "\n",
    "\n",
    "def resize_array(arr, target_shape):\n",
    "    \"\"\"\n",
    "    Resize a 3D numpy array to a target shape, padding with zeros if necessary.\n",
    "\n",
    "    Args:\n",
    "    arr (numpy.ndarray): Input array to be resized.\n",
    "    target_shape (tuple): Target shape (depth, height, width).\n",
    "\n",
    "    Returns:\n",
    "    numpy.ndarray: Resized array with the target shape.\n",
    "    \"\"\"\n",
    "    # Resize or pad depth (axis 0)\n",
    "    if arr.shape[0] > target_shape[0]:\n",
    "        arr = arr[:target_shape[0], :, :]\n",
    "    else:\n",
    "        pad_width = [(0, target_shape[0] - arr.shape[0]), (0, 0), (0, 0)]\n",
    "        arr = np.pad(arr, pad_width, mode='constant', constant_values=0)\n",
    "\n",
    "    # Resize or pad height (axis 1)\n",
    "    if arr.shape[1] > target_shape[1]:\n",
    "        arr = arr[:, :target_shape[1], :]\n",
    "    else:\n",
    "        pad_width = [(0, 0), (0, target_shape[1] - arr.shape[1]), (0, 0)]\n",
    "        arr = np.pad(arr, pad_width, mode='constant', constant_values=0)\n",
    "\n",
    "    # Resize or pad width (axis 2)\n",
    "    if arr.shape[2] > target_shape[2]:\n",
    "        arr = arr[:, :, :target_shape[2]]\n",
    "    else:\n",
    "        pad_width = [(0, 0), (0, 0), (0, target_shape[2] - arr.shape[2])]\n",
    "        arr = np.pad(arr, pad_width, mode='constant', constant_values=0)\n",
    "\n",
    "    return arr\n"
   ]
  },
  {
   "cell_type": "markdown",
   "id": "65083cfa-ba9c-45c1-968b-291763b9f248",
   "metadata": {},
   "source": [
    "# Placing Images in a Graph"
   ]
  },
  {
   "cell_type": "code",
   "execution_count": 4,
   "id": "f1b373a6-ec80-484c-8869-ac72849ac20e",
   "metadata": {
    "execution": {
     "iopub.execute_input": "2024-07-19T20:31:02.470242Z",
     "iopub.status.busy": "2024-07-19T20:31:02.468896Z",
     "iopub.status.idle": "2024-07-19T20:31:02.549165Z",
     "shell.execute_reply": "2024-07-19T20:31:02.548226Z",
     "shell.execute_reply.started": "2024-07-19T20:31:02.470204Z"
    },
    "tags": []
   },
   "outputs": [],
   "source": [
    "# List of city codes and corresponding dictionary\n",
    "city_codes = ['287', '812', '777', '473']\n",
    "code2name = {'777': 'Moscow', '812': 'Saint-Petersburg', '473': 'Sochi', '287': 'Kazan'}\n",
    "\n",
    "# Paths to required folders\n",
    "path2graphs = '/home/jupyter/datasphere/s3/s3-sirius/sirius_2024_participants/data/graphs'\n",
    "path2tiffs = '/home/jupyter/datasphere/s3/s3-sirius/sirius_2024_participants/data/raster_data'\n",
    "path2datasets = '../../../data/graph_preprocessing'\n",
    "path2save = '../../data/graph_with_images'"
   ]
  },
  {
   "cell_type": "code",
   "execution_count": 5,
   "id": "bbfeb332-f04c-4e49-b65a-278c1155c5fd",
   "metadata": {
    "execution": {
     "iopub.execute_input": "2024-07-19T20:31:19.460316Z",
     "iopub.status.busy": "2024-07-19T20:31:19.459198Z",
     "iopub.status.idle": "2024-07-19T20:31:19.480895Z",
     "shell.execute_reply": "2024-07-19T20:31:19.480204Z",
     "shell.execute_reply.started": "2024-07-19T20:31:19.460275Z"
    }
   },
   "outputs": [],
   "source": [
    "# If the images are in the zip, create and unzip them\n",
    "\n",
    "if not os.path.exists(path2save):\n",
    "    os.mkdir(path2save)\n",
    "\n",
    "\n",
    "if tiff_in_zip := False:\n",
    "    path2dir = f'{path2tiffs}/raster_data'\n",
    "    os.mkdir(path2dir)\n",
    "    for code in tqdm(city_codes):\n",
    "        pathzip = f'{path2tiffs}/city_{code}.tiff.zip'\n",
    "\n",
    "        with zipfile.ZipFile(pathzip) as zip_file:\n",
    "            for member in zip_file.namelist():\n",
    "                filename = os.path.basename(member)\n",
    "                if not filename:\n",
    "                    continue\n",
    "                source = zip_file.open(member)\n",
    "                target = open(os.path.join(path2dir, filename), \"wb\")\n",
    "                with source, target:\n",
    "                    shutil.copyfileobj(source, target)"
   ]
  },
  {
   "cell_type": "code",
   "execution_count": null,
   "id": "4e9ca8b3-78bb-4b7d-a1d8-b3784542c4c1",
   "metadata": {},
   "outputs": [],
   "source": [
    "for code in city_codes:\n",
    "    print(f'The processing of {code2name[code]} begins')\n",
    "    \n",
    "    path2graph = f'{path2graphs}/graph_{code}_buffer_5_road_connected.gpickle'\n",
    "    path2tiff = f'{path2tiffs}/raster_data/city_{code}.tiff'\n",
    "    \n",
    "    geometry_df = get_geometry_df(path2graph)\n",
    "    raster_dataset = rasterio.open(path2tiff)\n",
    "    dataset = torch.load(f'{path2dataset}/graph_with_cv_full_{code}.pickle')\n",
    "    \n",
    "    imgs_lst = get_imgs_lst(geometry_df, raster_dataset)\n",
    "    imgs_lst_correct = [resize_array(np.array(i), (12, 52, 52)) for i in tqdm(imgs_lst, desc='Image resizing')]\n",
    "    dataset.imgs = torch.tensor(imgs_lst_correct)\n",
    "\n",
    "    torch.save(dataset, f'{path2save}/graph_with_cv_full_and_images_{code}.pickle')\n",
    "    print(f'The new {code2name[code]} graph has been preserved')"
   ]
  }
 ],
 "metadata": {
  "kernelspec": {
   "display_name": "DataSphere Kernel",
   "language": "python",
   "name": "python3"
  },
  "language_info": {
   "codemirror_mode": {
    "name": "ipython",
    "version": 3
   },
   "file_extension": ".py",
   "mimetype": "text/x-python",
   "name": "python",
   "nbconvert_exporter": "python",
   "pygments_lexer": "ipython3",
   "version": "3.10.12"
  }
 },
 "nbformat": 4,
 "nbformat_minor": 5
}
