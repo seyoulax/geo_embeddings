{
 "cells": [
  {
   "cell_type": "code",
   "execution_count": 3,
   "metadata": {
    "colab": {
     "base_uri": "https://localhost:8080/",
     "height": 287
    },
    "execution": {
     "iopub.execute_input": "2024-07-19T17:13:44.916271Z",
     "iopub.status.busy": "2024-07-19T17:13:44.914905Z",
     "iopub.status.idle": "2024-07-19T17:13:44.935221Z",
     "shell.execute_reply": "2024-07-19T17:13:44.934387Z",
     "shell.execute_reply.started": "2024-07-19T17:13:44.916229Z"
    },
    "id": "eqkT33idr6T8",
    "outputId": "26d0819f-0cba-43b4-8efe-5724a6869e89",
    "tags": []
   },
   "outputs": [],
   "source": [
    "import pandas as pd, numpy as np, matplotlib.pyplot as plt, time\n",
    "from tqdm.notebook import tqdm\n",
    "\n",
    "import os\n",
    "import sys\n",
    "import torch.nn.functional as F\n",
    "import torchvision.transforms as transforms\n",
    "import torch.nn as nn\n",
    "import torch\n",
    "import torch.optim as optim\n",
    "\n",
    "sys.path.append(\"../src\")\n",
    "\n",
    "#here you can find utils that are used in each notebook\n",
    "from utils import set_seed, EarlyStoppingR2, train_CFG"
   ]
  },
  {
   "cell_type": "markdown",
   "metadata": {
    "id": "0kBjNYIDslFe"
   },
   "source": [
    "# Data Processing"
   ]
  },
  {
   "cell_type": "code",
   "execution_count": 4,
   "metadata": {
    "execution": {
     "iopub.execute_input": "2024-07-19T17:13:45.561093Z",
     "iopub.status.busy": "2024-07-19T17:13:45.559972Z",
     "iopub.status.idle": "2024-07-19T17:13:59.774171Z",
     "shell.execute_reply": "2024-07-19T17:13:59.773275Z",
     "shell.execute_reply.started": "2024-07-19T17:13:45.561053Z"
    },
    "id": "yRdm4yAKu1ya",
    "tags": []
   },
   "outputs": [],
   "source": [
    "region = 777\n",
    "\n",
    "regions_mapper = {\n",
    "    777 : \"Moscow\",\n",
    "    812 : \"Saint-Petersburg\",\n",
    "    287 : \"Kazan\",\n",
    "    473 : \"Sochi\"\n",
    "}\n",
    "\n",
    "pipeline = \"efficient_delete_channels\" #(\"basic\", \"efficient_all_channels\", \"efficient_delete_channels\")\n",
    "\n",
    "# path to graph with images\n",
    "path_to_graph = f\"/home/jupyter/datasphere/s3/s3-sirius/sirius_2024_participants/twwist/graph_with_cv_full_and_images/graph_with_cv_full_and_images_{region}_with_image_features.pickle\"\n",
    "path_to_save = f\"../data/image_embeddings/image_embeddings_{pipeline}_{region}.pickle\"\n",
    "\n",
    "#loading with torch\n",
    "graph = torch.load(path_to_graph)\n",
    "\n",
    "ys = graph.y\n",
    "mask_to_null_ys = (ys != -1)\n",
    "\n",
    "xs = graph.imgs[mask_to_null_ys]\n",
    "ys = ys[mask_to_null_ys].tolist()"
   ]
  },
  {
   "cell_type": "code",
   "execution_count": null,
   "metadata": {},
   "outputs": [],
   "source": [
    "def images_features(dataset):\n",
    "    a = []\n",
    "    data = {}\n",
    "    for i in dataset.imgs:\n",
    "        a.append(i)\n",
    "    m1 = np.zeros_like(dataset.imgs[199][0]) \n",
    "    m1[26:, 26:] = 1      \n",
    "\n",
    "    m2 = np.zeros_like(dataset.imgs[199][0]) \n",
    "    m2[26:, :27] = 1    \n",
    "\n",
    "    m3 = np.zeros_like(dataset.imgs[199][0])  \n",
    "    m3[:27:, :27] = 1   \n",
    "\n",
    "    m4 = np.zeros_like(dataset.imgs[199][0]) #1\n",
    "    m4[:27:, 26:] = 1 \n",
    "    \n",
    "    \n",
    "    for i in range(len(a)):\n",
    "        for j in range(12):\n",
    "            if i not in data:\n",
    "                data[i] = [(dataset.imgs[i][j] * m1 > 0).sum().item()]\n",
    "            else:\n",
    "                data[i] += [(dataset.imgs[i][j] * m1 > 0).sum().item()]\n",
    "            data[i] += [(dataset.imgs[i][j] * m2 > 0).sum().item()]\n",
    "            data[i] += [(dataset.imgs[i][j] * m3 > 0).sum().item()]\n",
    "            data[i] += [(dataset.imgs[i][j] * m4 > 0).sum().item()]\n",
    "    \n",
    "    for i in range(len(a)):\n",
    "        for j in range(12):\n",
    "            if i not in data:\n",
    "                data[i] = [(dataset.imgs[i][j] > 0).sum().item()]\n",
    "            else:\n",
    "                data[i] += [(dataset.imgs[i][j] > 0).sum().item()]\n",
    "    \n",
    "    df = pd.DataFrame.from_dict(data, orient=\"index\")\n",
    "    res = df.apply(pd.Series.explode)\n",
    "    \n",
    "    res.columns = ['num', 'm10','m20','m3','m40','m11', 'm21', 'm31', 'm41',\n",
    "                   'm12','m22','m32','m42','m13','m23','m33','m43','m14','m24',\n",
    "                   'm34','m44','m15','m25','m35', 'm16','m26','m36','m46','m17',\n",
    "                   'm27','m37','m47','m18','m28','m38','m48','m19','m29','m39',\n",
    "                   'm49','m110','m210','m310','m410','m111','m211','m311','m411',\n",
    "                   'summ0', 'summ1', 'summ2','summ3','summ4','summ5','summ6',\n",
    "                   'summ7','summ8','summ9','summ10','summ11']\n",
    "    \n",
    "    return torch.FloatTensor(res.values) / (52 * 52)\n",
    "\n",
    "resulted_features = images_features(graph)\n"
   ]
  },
  {
   "cell_type": "code",
   "execution_count": 3,
   "metadata": {
    "execution": {
     "iopub.execute_input": "2024-07-19T17:05:54.954637Z",
     "iopub.status.busy": "2024-07-19T17:05:54.953581Z",
     "iopub.status.idle": "2024-07-19T17:06:01.216460Z",
     "shell.execute_reply": "2024-07-19T17:06:01.215554Z",
     "shell.execute_reply.started": "2024-07-19T17:05:54.954601Z"
    },
    "tags": []
   },
   "outputs": [
    {
     "name": "stdout",
     "output_type": "stream",
     "text": [
      "\n",
      "\u001b[1m[\u001b[0m\u001b[34;49mnotice\u001b[0m\u001b[1;39;49m]\u001b[0m\u001b[39;49m A new release of pip is available: \u001b[0m\u001b[31;49m23.0.1\u001b[0m\u001b[39;49m -> \u001b[0m\u001b[32;49m24.1.2\u001b[0m\n",
      "\u001b[1m[\u001b[0m\u001b[34;49mnotice\u001b[0m\u001b[1;39;49m]\u001b[0m\u001b[39;49m To update, run: \u001b[0m\u001b[32;49mpython3 -m pip install --upgrade pip\u001b[0m\n"
     ]
    }
   ],
   "source": [
    "if \"efficient\" in pipeline:\n",
    "    %pip install timm -q\n",
    "    import timm"
   ]
  },
  {
   "cell_type": "code",
   "execution_count": 8,
   "metadata": {
    "execution": {
     "iopub.execute_input": "2024-07-19T17:07:35.076590Z",
     "iopub.status.busy": "2024-07-19T17:07:35.075665Z",
     "iopub.status.idle": "2024-07-19T17:07:35.098556Z",
     "shell.execute_reply": "2024-07-19T17:07:35.097742Z",
     "shell.execute_reply.started": "2024-07-19T17:07:35.076555Z"
    },
    "id": "7xapvXMJwNKe",
    "tags": []
   },
   "outputs": [],
   "source": [
    "class RasterDataset(torch.utils.data.Dataset):\n",
    "    def __init__(self, images, y):\n",
    "\n",
    "        self.images = images\n",
    "        self.y = y\n",
    "\n",
    "    def __len__(self):\n",
    "        return len(self.images)\n",
    "\n",
    "    def __getitem__(self, idx):\n",
    "        \n",
    "        img = self.images[idx]\n",
    "        y = self.y[idx]\n",
    "        \n",
    "        return img, y\n",
    "    \n",
    "\n",
    "class TimmRasterDataset(torch.utils.data.Dataset):\n",
    "    def __init__(self, images, y, timm_transform):\n",
    "\n",
    "        self.images = images.to(torch.float32)\n",
    "        self.y = y\n",
    "        self.transform = transforms.Resize((224, 224), antialias=True)\n",
    "\n",
    "    def __len__(self):\n",
    "        return len(self.images)\n",
    "\n",
    "    def __getitem__(self, idx):\n",
    "        \n",
    "        image = self.transform(self.images[idx])\n",
    "        \n",
    "        return image"
   ]
  },
  {
   "cell_type": "code",
   "execution_count": 9,
   "metadata": {
    "execution": {
     "iopub.execute_input": "2024-07-19T17:07:35.203438Z",
     "iopub.status.busy": "2024-07-19T17:07:35.202207Z",
     "iopub.status.idle": "2024-07-19T17:07:35.705492Z",
     "shell.execute_reply": "2024-07-19T17:07:35.704645Z",
     "shell.execute_reply.started": "2024-07-19T17:07:35.203392Z"
    },
    "id": "7u6idAX-w_eS",
    "tags": []
   },
   "outputs": [],
   "source": [
    "if pipeline == \"basic\":\n",
    "    full_dataset = RasterDataset(xs, ys)\n",
    "else:\n",
    "    \n",
    "    if pipeline == \"efficient_delete_channels\":\n",
    "        # throwing out some trash channels\n",
    "        graph.imgs = graph.imgs[:, [0, 3, 4, 5, 6, 7, 8, 9, 10]]\n",
    "    \n",
    "    full_dataset = TimmRasterDataset(graph.imgs, graph.y, transforms)"
   ]
  },
  {
   "cell_type": "code",
   "execution_count": 10,
   "metadata": {
    "execution": {
     "iopub.execute_input": "2024-07-19T17:07:35.708182Z",
     "iopub.status.busy": "2024-07-19T17:07:35.707292Z",
     "iopub.status.idle": "2024-07-19T17:07:35.745324Z",
     "shell.execute_reply": "2024-07-19T17:07:35.744512Z",
     "shell.execute_reply.started": "2024-07-19T17:07:35.708135Z"
    },
    "id": "vPHDNKuqduwR",
    "tags": []
   },
   "outputs": [],
   "source": [
    "if not os.path.exists(\"../chkps/image_checkpoints\"):\n",
    "    !mkdir ../chkps/image_checkpoints\n",
    "\n",
    "class cfg:\n",
    "    num_epochs = 100\n",
    "    device = torch.device('cuda' if torch.cuda.is_available() else 'cpu')\n",
    "    \n",
    "cfg = cfg()"
   ]
  },
  {
   "cell_type": "markdown",
   "metadata": {},
   "source": [
    "# Timm model\n"
   ]
  },
  {
   "cell_type": "code",
   "execution_count": 11,
   "metadata": {
    "execution": {
     "iopub.execute_input": "2024-07-19T17:07:37.054823Z",
     "iopub.status.busy": "2024-07-19T17:07:37.053894Z",
     "iopub.status.idle": "2024-07-19T17:07:38.558091Z",
     "shell.execute_reply": "2024-07-19T17:07:38.557282Z",
     "shell.execute_reply.started": "2024-07-19T17:07:37.054785Z"
    },
    "tags": []
   },
   "outputs": [
    {
     "name": "stderr",
     "output_type": "stream",
     "text": [
      "Unexpected keys (bn2.bias, bn2.num_batches_tracked, bn2.running_mean, bn2.running_var, bn2.weight, classifier.bias, classifier.weight, conv_head.weight) found while loading pretrained weights. This may be expected if model is being adapted.\n"
     ]
    }
   ],
   "source": [
    "feature_extractor = timm.create_model('efficientnet_b0.ra_in1k',\n",
    "        pretrained=True,\n",
    "        features_only=True,\n",
    "        in_chans=1,\n",
    "        out_indices=[2]\n",
    ").to(cfg.device)\n",
    "\n",
    "model = timm.create_model('efficientnet_b0.ra_in1k',\n",
    "        pretrained=True,\n",
    "        features_only=False,\n",
    "        in_chans=12,\n",
    ").to(cfg.device)\n",
    "\n",
    "dataloader_all_images = torch.utils.data.DataLoader(\n",
    "    full_dataset, \n",
    "    batch_size=1, \n",
    "    shuffle=False, \n",
    "    num_workers=4, \n",
    "    pin_memory=True\n",
    ")\n",
    "\n",
    "use_feature_exctractor = (False if pipeline == \"efficient_all_channels\" else True) "
   ]
  },
  {
   "cell_type": "code",
   "execution_count": 12,
   "metadata": {
    "execution": {
     "iopub.execute_input": "2024-07-19T17:07:38.560148Z",
     "iopub.status.busy": "2024-07-19T17:07:38.559410Z",
     "iopub.status.idle": "2024-07-19T17:09:38.773810Z",
     "shell.execute_reply": "2024-07-19T17:09:38.773028Z",
     "shell.execute_reply.started": "2024-07-19T17:07:38.560113Z"
    },
    "tags": []
   },
   "outputs": [
    {
     "data": {
      "application/vnd.jupyter.widget-view+json": {
       "model_id": "aa643dc8cda5492e8821ec38461047b1",
       "version_major": 2,
       "version_minor": 0
      },
      "text/plain": [
       "  0%|          | 0/11557 [00:00<?, ?it/s]"
      ]
     },
     "metadata": {},
     "output_type": "display_data"
    }
   ],
   "source": [
    "model.eval()\n",
    "\n",
    "t = nn.AvgPool2d(kernel_size=(28, 28))\n",
    "\n",
    "image_embeds = []\n",
    "\n",
    "with torch.no_grad():\n",
    "    for images in tqdm(dataloader_all_images):\n",
    "        if use_feature_exctractor:\n",
    "            images = images.flatten(end_dim=1).unsqueeze(1)\n",
    "            output = feature_extractor(images.to(cfg.device))[0]\n",
    "            output = t(output).flatten(start_dim=1)\n",
    "            output = torch.cat([x for x in output], dim=0)\n",
    "        else:\n",
    "            output = model.forward_features(images.to(cfg.device))\n",
    "            output = model.forward_head(output, pre_logits=True)\n",
    "        image_embeds.append(output)\n",
    "        del output\n",
    "        torch.cuda.empty_cache()"
   ]
  },
  {
   "cell_type": "code",
   "execution_count": 13,
   "metadata": {
    "execution": {
     "iopub.execute_input": "2024-07-19T17:09:38.776258Z",
     "iopub.status.busy": "2024-07-19T17:09:38.775285Z",
     "iopub.status.idle": "2024-07-19T17:09:39.169240Z",
     "shell.execute_reply": "2024-07-19T17:09:39.168414Z",
     "shell.execute_reply.started": "2024-07-19T17:09:38.776217Z"
    },
    "tags": []
   },
   "outputs": [],
   "source": [
    "image_embeds = torch.cat(image_embeds, dim=0).view(len(image_embeds), -1)\n",
    "torch.save(image_embeds.cpu(), path_to_save)"
   ]
  },
  {
   "cell_type": "markdown",
   "metadata": {
    "id": "SH8tI-_a2zpy",
    "tags": []
   },
   "source": [
    "# Base Model"
   ]
  },
  {
   "cell_type": "code",
   "execution_count": 123,
   "metadata": {
    "execution": {
     "iopub.execute_input": "2024-07-11T09:27:46.157669Z",
     "iopub.status.busy": "2024-07-11T09:27:46.156377Z",
     "iopub.status.idle": "2024-07-11T09:27:46.181339Z",
     "shell.execute_reply": "2024-07-11T09:27:46.180445Z",
     "shell.execute_reply.started": "2024-07-11T09:27:46.157618Z"
    },
    "id": "mrHUazT00EBb",
    "tags": []
   },
   "outputs": [],
   "source": [
    "class RasterCNN(nn.Module):\n",
    "    def __init__(self, in_channels):\n",
    "        super().__init__()\n",
    "        \n",
    "        self.conv1 = nn.Conv2d(in_channels, 64, 5, padding=(0, 0))\n",
    "        self.bn1 = nn.BatchNorm2d(64)\n",
    "        self.conv2 = nn.Conv2d(64, 64, 5, padding=(0, 0))\n",
    "        self.bn2 = nn.BatchNorm2d(64)\n",
    "        self.conv3 = nn.Conv2d(64, 128, 3, padding=(0, 0))\n",
    "        self.bn3 = nn.BatchNorm2d(128)\n",
    "        self.conv4 = nn.Conv2d(128, 128, 3, padding=(0, 0))\n",
    "        self.bn4 = nn.BatchNorm2d(128)\n",
    "        self.pool = nn.AvgPool2d(kernel_size=40, stride=1, padding=0)\n",
    "        self.fc1 = nn.Linear(128, 64)\n",
    "        self.fc2 = nn.Linear(64, 1)\n",
    "\n",
    "        self.dropout = nn.Dropout(0.25)\n",
    "        \n",
    "    def forward(self, x, return_hidden=False):\n",
    "        \n",
    "        x = F.relu(self.conv1(x))\n",
    "        x = self.bn1(x)\n",
    "\n",
    "\n",
    "        x = F.relu(self.bn2(self.conv2(x)))\n",
    "        x = self.dropout(x)\n",
    "\n",
    "        x = F.relu(self.bn3(self.conv3(x)))\n",
    "        x = self.dropout(x)\n",
    "\n",
    "\n",
    "        x = F.relu(self.bn4(self.conv4(x)))\n",
    "        x = self.dropout(x)\n",
    "        x = self.pool(x)\n",
    "        x = torch.flatten(x, 1)\n",
    "        \n",
    "        if return_hidden: hidden_state = x\n",
    "\n",
    "        x = F.relu(self.fc1(x))\n",
    "        x = self.dropout(x)\n",
    "        x = self.fc2(x)\n",
    "        \n",
    "        return x if not return_hidden else (x, hidden_state)"
   ]
  },
  {
   "cell_type": "code",
   "execution_count": null,
   "metadata": {},
   "outputs": [],
   "source": [
    "train_set, val_set = torch.utils.data.random_split(full_dataset, [0.9, 0.1])\n",
    "\n",
    "batch_size = 64\n",
    "\n",
    "dataloader_train = torch.utils.data.DataLoader(\n",
    "    train_set, \n",
    "    batch_size=batch_size, \n",
    "    shuffle=True, \n",
    "    num_workers=4, \n",
    "    pin_memory=True\n",
    ")\n",
    "dataloader_val = torch.utils.data.DataLoader(\n",
    "    val_set, \n",
    "    batch_size=batch_size, \n",
    "    shuffle=False, \n",
    "    num_workers=4, \n",
    "    pin_memory=True\n",
    ")"
   ]
  },
  {
   "cell_type": "code",
   "execution_count": null,
   "metadata": {
    "colab": {
     "base_uri": "https://localhost:8080/"
    },
    "id": "SLE4sWBF4Ezv",
    "outputId": "e475bf98-d1bc-4dee-c355-cf6c0b3d02b0",
    "tags": []
   },
   "outputs": [],
   "source": [
    "seed_everything(42)\n",
    "\n",
    "model = RasterCNN(12).to(cfg.device)\n",
    "print(f\"Number of parameters: {sum(p.numel() for p in model.parameters())}\")\n",
    "criterion = nn.MSELoss()\n",
    "optimizer = optim.AdamW(model.parameters(), lr=7e-4)\n",
    "scheduler = torch.optim.lr_scheduler.CyclicLR(\n",
    "    optimizer, \n",
    "    base_lr=4e-5, \n",
    "    max_lr=2e-4, \n",
    "    cycle_momentum = False, \n",
    "    step_size_up=20,\n",
    ")\n",
    "\n",
    "\n",
    "best_metric = float('inf')\n",
    "best_epoch = -1\n",
    "\n",
    "for epoch in range(cfg.num_epochs):\n",
    "\n",
    "    loss_i_train = []\n",
    "    r2_i_train = []\n",
    "    \n",
    "    model.train()\n",
    "    \n",
    "    for images, targets in tqdm(dataloader_train, desc='Training'):\n",
    "\n",
    "        images = images.to(cfg.device)\n",
    "        targets = targets.to(cfg.device)\n",
    "\n",
    "        optimizer.zero_grad()\n",
    "\n",
    "        outputs = model(images.float()).squeeze()\n",
    "        loss = criterion(outputs, targets.float())\n",
    "        loss.backward()\n",
    "        optimizer.step()\n",
    "\n",
    "        loss_i_train.append(loss.item() ** 0.5)\n",
    "        r2_i_train.append(\n",
    "            r2_score(targets.cpu(), outputs.detach().cpu())\n",
    "        )\n",
    "\n",
    "    print(f\"Epoch: {epoch}, Train rmse: {np.mean(loss_i_train)} r2: {np.mean(r2_i_train)}\")\n",
    "\n",
    "    loss_i_val = []\n",
    "    r2_i_val = []\n",
    "    \n",
    "    model.eval()\n",
    "\n",
    "    with torch.no_grad():\n",
    "        for images, targets in dataloader_val:\n",
    "\n",
    "            images = images.to(cfg.device)\n",
    "            targets = targets.to(cfg.device)\n",
    "\n",
    "            outputs = model(images.float()).squeeze()\n",
    "            \n",
    "            loss_i_val.append(loss.item() ** 0.5)\n",
    "            r2_i_val.append(\n",
    "                r2_score(targets.cpu(), outputs.detach().cpu())\n",
    "            )\n",
    "\n",
    "    print(f\"Validation rmse: [{np.mean(loss_i_val)}], r2: [{np.mean(r2_i_val)}]\")\n",
    "\n",
    "    if np.mean(loss_i_val) - best_metric < -1e6 / 2:\n",
    "        best_metric = np.mean(loss_i_val)\n",
    "        best_epoch = epoch\n",
    "        folder_path = \"../chkps/image_embeddings/\"\n",
    "        \n",
    "        if epoch != 0:\n",
    "\n",
    "            torch.save(model, f'{folder_path}/weights_{epoch}_{round(best_metric, 5)}.pt')\n",
    "\n",
    "\n",
    "print('Finished Training')"
   ]
  },
  {
   "cell_type": "code",
   "execution_count": 139,
   "metadata": {
    "execution": {
     "iopub.execute_input": "2024-07-11T09:36:46.777772Z",
     "iopub.status.busy": "2024-07-11T09:36:46.776507Z",
     "iopub.status.idle": "2024-07-11T09:36:46.814294Z",
     "shell.execute_reply": "2024-07-11T09:36:46.813391Z",
     "shell.execute_reply.started": "2024-07-11T09:36:46.777719Z"
    },
    "tags": []
   },
   "outputs": [],
   "source": [
    "all_images_dataset = RasterDataset(graph.imgs, graph.y)\n",
    "\n",
    "dataloader_all_images = torch.utils.data.DataLoader(\n",
    "    all_images_dataset, \n",
    "    batch_size=1, \n",
    "    shuffle=False, \n",
    "    num_workers=4, \n",
    "    pin_memory=True\n",
    ")\n",
    "\n",
    "hidden_states = []\n",
    "\n",
    "best_model = torch.load(f'{folder_path}/weights_{best_epoch}_{round(best_metric, 5)}.pt')"
   ]
  },
  {
   "cell_type": "code",
   "execution_count": 140,
   "metadata": {
    "execution": {
     "iopub.execute_input": "2024-07-11T09:36:47.279531Z",
     "iopub.status.busy": "2024-07-11T09:36:47.278223Z",
     "iopub.status.idle": "2024-07-11T09:37:08.743831Z",
     "shell.execute_reply": "2024-07-11T09:37:08.742968Z",
     "shell.execute_reply.started": "2024-07-11T09:36:47.279489Z"
    },
    "tags": []
   },
   "outputs": [
    {
     "data": {
      "application/vnd.jupyter.widget-view+json": {
       "model_id": "ab4fa8c6502a45afa5b9b34874be9940",
       "version_major": 2,
       "version_minor": 0
      },
      "text/plain": [
       "  0%|          | 0/11557 [00:00<?, ?it/s]"
      ]
     },
     "metadata": {},
     "output_type": "display_data"
    }
   ],
   "source": [
    "best_model.eval()\n",
    "with torch.no_grad():\n",
    "    for image, _ in tqdm(dataloader_all_images):\n",
    "        _, h = best_model(image.to(cfg.device).float(), return_hidden=True)\n",
    "        hidden_states.append(h.squeeze(0))"
   ]
  },
  {
   "cell_type": "code",
   "execution_count": 141,
   "metadata": {
    "execution": {
     "iopub.execute_input": "2024-07-11T09:37:19.445459Z",
     "iopub.status.busy": "2024-07-11T09:37:19.444529Z",
     "iopub.status.idle": "2024-07-11T09:37:19.497957Z",
     "shell.execute_reply": "2024-07-11T09:37:19.497013Z",
     "shell.execute_reply.started": "2024-07-11T09:37:19.445411Z"
    },
    "tags": []
   },
   "outputs": [],
   "source": [
    "hidden_states = torch.cat(hidden_states, dim=0).view(-1, hidden_states[0].shape[0])\n",
    "hidden_states = hidden_states.to(torch.device('cpu'))\n",
    "torch.save(graph, path_to_save)"
   ]
  },
  {
   "cell_type": "code",
   "execution_count": 16,
   "metadata": {
    "execution": {
     "iopub.execute_input": "2024-07-19T17:40:13.651805Z",
     "iopub.status.busy": "2024-07-19T17:40:13.650966Z",
     "iopub.status.idle": "2024-07-19T17:40:13.668997Z",
     "shell.execute_reply": "2024-07-19T17:40:13.667921Z",
     "shell.execute_reply.started": "2024-07-19T17:40:13.651778Z"
    },
    "tags": []
   },
   "outputs": [
    {
     "name": "stderr",
     "output_type": "stream",
     "text": [
      "UsageError: %%python is a cell magic, but the cell body is empty.\n"
     ]
    }
   ],
   "source": [
    "%%python image_preprocessing.py"
   ]
  },
  {
   "cell_type": "code",
   "execution_count": null,
   "metadata": {
    "execution": {
     "iopub.execute_input": "2024-07-19T18:04:37.356155Z",
     "iopub.status.busy": "2024-07-19T18:04:37.354982Z"
    },
    "tags": []
   },
   "outputs": [
    {
     "name": "stdout",
     "output_type": "stream",
     "text": [
      "starting loading graph\n"
     ]
    },
    {
     "ename": "FileNotFoundError",
     "evalue": "[Errno 2] No such file or directory: '/home/jupyter/datasphere/s3/s3sirius/sirius_2024_participants/twwist/graph_with_cv_full_and_images/images_graph_777.pickle'",
     "output_type": "error",
     "traceback": [
      "\u001b[0;31m---------------------------------------------------------------------------\u001b[0m",
      "\u001b[0;31mFileNotFoundError\u001b[0m                         Traceback (most recent call last)",
      "\u001b[0;32m/tmp/ipykernel_46480/3752869778.py\u001b[0m in \u001b[0;36m<cell line: 90>\u001b[0;34m()\u001b[0m\n\u001b[1;32m     88\u001b[0m \u001b[0mprint\u001b[0m\u001b[0;34m(\u001b[0m\u001b[0;34m\"starting loading graph\"\u001b[0m\u001b[0;34m)\u001b[0m\u001b[0;34m\u001b[0m\u001b[0;34m\u001b[0m\u001b[0m\n\u001b[1;32m     89\u001b[0m \u001b[0;31m#loading with torch\u001b[0m\u001b[0;34m\u001b[0m\u001b[0;34m\u001b[0m\u001b[0m\n\u001b[0;32m---> 90\u001b[0;31m \u001b[0mgraph\u001b[0m \u001b[0;34m=\u001b[0m \u001b[0mtorch\u001b[0m\u001b[0;34m.\u001b[0m\u001b[0mload\u001b[0m\u001b[0;34m(\u001b[0m\u001b[0mpath_to_graph\u001b[0m\u001b[0;34m)\u001b[0m\u001b[0;34m\u001b[0m\u001b[0;34m\u001b[0m\u001b[0m\n\u001b[0m\u001b[1;32m     91\u001b[0m \u001b[0mxs\u001b[0m \u001b[0;34m=\u001b[0m \u001b[0mgraph\u001b[0m\u001b[0;34m.\u001b[0m\u001b[0mimgs\u001b[0m\u001b[0;34m[\u001b[0m\u001b[0;34m(\u001b[0m\u001b[0mgraph\u001b[0m\u001b[0;34m.\u001b[0m\u001b[0my\u001b[0m \u001b[0;34m!=\u001b[0m \u001b[0;34m-\u001b[0m\u001b[0;36m1\u001b[0m\u001b[0;34m)\u001b[0m\u001b[0;34m]\u001b[0m\u001b[0;34m\u001b[0m\u001b[0;34m\u001b[0m\u001b[0m\n\u001b[1;32m     92\u001b[0m \u001b[0mys\u001b[0m \u001b[0;34m=\u001b[0m \u001b[0mys\u001b[0m\u001b[0;34m[\u001b[0m\u001b[0;34m(\u001b[0m\u001b[0mgraph\u001b[0m\u001b[0;34m.\u001b[0m\u001b[0my\u001b[0m \u001b[0;34m!=\u001b[0m \u001b[0;34m-\u001b[0m\u001b[0;36m1\u001b[0m\u001b[0;34m)\u001b[0m\u001b[0;34m]\u001b[0m\u001b[0;34m.\u001b[0m\u001b[0mtolist\u001b[0m\u001b[0;34m(\u001b[0m\u001b[0;34m)\u001b[0m\u001b[0;34m\u001b[0m\u001b[0;34m\u001b[0m\u001b[0m\n",
      "\u001b[0;32m/usr/local/lib/python3.10/dist-packages/torch/serialization.py\u001b[0m in \u001b[0;36mload\u001b[0;34m(f, map_location, pickle_module, weights_only, **pickle_load_args)\u001b[0m\n\u001b[1;32m    789\u001b[0m         \u001b[0mpickle_load_args\u001b[0m\u001b[0;34m[\u001b[0m\u001b[0;34m'encoding'\u001b[0m\u001b[0;34m]\u001b[0m \u001b[0;34m=\u001b[0m \u001b[0;34m'utf-8'\u001b[0m\u001b[0;34m\u001b[0m\u001b[0;34m\u001b[0m\u001b[0m\n\u001b[1;32m    790\u001b[0m \u001b[0;34m\u001b[0m\u001b[0m\n\u001b[0;32m--> 791\u001b[0;31m     \u001b[0;32mwith\u001b[0m \u001b[0m_open_file_like\u001b[0m\u001b[0;34m(\u001b[0m\u001b[0mf\u001b[0m\u001b[0;34m,\u001b[0m \u001b[0;34m'rb'\u001b[0m\u001b[0;34m)\u001b[0m \u001b[0;32mas\u001b[0m \u001b[0mopened_file\u001b[0m\u001b[0;34m:\u001b[0m\u001b[0;34m\u001b[0m\u001b[0;34m\u001b[0m\u001b[0m\n\u001b[0m\u001b[1;32m    792\u001b[0m         \u001b[0;32mif\u001b[0m \u001b[0m_is_zipfile\u001b[0m\u001b[0;34m(\u001b[0m\u001b[0mopened_file\u001b[0m\u001b[0;34m)\u001b[0m\u001b[0;34m:\u001b[0m\u001b[0;34m\u001b[0m\u001b[0;34m\u001b[0m\u001b[0m\n\u001b[1;32m    793\u001b[0m             \u001b[0;31m# The zipfile reader is going to advance the current file position.\u001b[0m\u001b[0;34m\u001b[0m\u001b[0;34m\u001b[0m\u001b[0m\n",
      "\u001b[0;32m/usr/local/lib/python3.10/dist-packages/torch/serialization.py\u001b[0m in \u001b[0;36m_open_file_like\u001b[0;34m(name_or_buffer, mode)\u001b[0m\n\u001b[1;32m    269\u001b[0m \u001b[0;32mdef\u001b[0m \u001b[0m_open_file_like\u001b[0m\u001b[0;34m(\u001b[0m\u001b[0mname_or_buffer\u001b[0m\u001b[0;34m,\u001b[0m \u001b[0mmode\u001b[0m\u001b[0;34m)\u001b[0m\u001b[0;34m:\u001b[0m\u001b[0;34m\u001b[0m\u001b[0;34m\u001b[0m\u001b[0m\n\u001b[1;32m    270\u001b[0m     \u001b[0;32mif\u001b[0m \u001b[0m_is_path\u001b[0m\u001b[0;34m(\u001b[0m\u001b[0mname_or_buffer\u001b[0m\u001b[0;34m)\u001b[0m\u001b[0;34m:\u001b[0m\u001b[0;34m\u001b[0m\u001b[0;34m\u001b[0m\u001b[0m\n\u001b[0;32m--> 271\u001b[0;31m         \u001b[0;32mreturn\u001b[0m \u001b[0m_open_file\u001b[0m\u001b[0;34m(\u001b[0m\u001b[0mname_or_buffer\u001b[0m\u001b[0;34m,\u001b[0m \u001b[0mmode\u001b[0m\u001b[0;34m)\u001b[0m\u001b[0;34m\u001b[0m\u001b[0;34m\u001b[0m\u001b[0m\n\u001b[0m\u001b[1;32m    272\u001b[0m     \u001b[0;32melse\u001b[0m\u001b[0;34m:\u001b[0m\u001b[0;34m\u001b[0m\u001b[0;34m\u001b[0m\u001b[0m\n\u001b[1;32m    273\u001b[0m         \u001b[0;32mif\u001b[0m \u001b[0;34m'w'\u001b[0m \u001b[0;32min\u001b[0m \u001b[0mmode\u001b[0m\u001b[0;34m:\u001b[0m\u001b[0;34m\u001b[0m\u001b[0;34m\u001b[0m\u001b[0m\n",
      "\u001b[0;32m/usr/local/lib/python3.10/dist-packages/torch/serialization.py\u001b[0m in \u001b[0;36m__init__\u001b[0;34m(self, name, mode)\u001b[0m\n\u001b[1;32m    250\u001b[0m \u001b[0;32mclass\u001b[0m \u001b[0m_open_file\u001b[0m\u001b[0;34m(\u001b[0m\u001b[0m_opener\u001b[0m\u001b[0;34m)\u001b[0m\u001b[0;34m:\u001b[0m\u001b[0;34m\u001b[0m\u001b[0;34m\u001b[0m\u001b[0m\n\u001b[1;32m    251\u001b[0m     \u001b[0;32mdef\u001b[0m \u001b[0m__init__\u001b[0m\u001b[0;34m(\u001b[0m\u001b[0mself\u001b[0m\u001b[0;34m,\u001b[0m \u001b[0mname\u001b[0m\u001b[0;34m,\u001b[0m \u001b[0mmode\u001b[0m\u001b[0;34m)\u001b[0m\u001b[0;34m:\u001b[0m\u001b[0;34m\u001b[0m\u001b[0;34m\u001b[0m\u001b[0m\n\u001b[0;32m--> 252\u001b[0;31m         \u001b[0msuper\u001b[0m\u001b[0;34m(\u001b[0m\u001b[0;34m)\u001b[0m\u001b[0;34m.\u001b[0m\u001b[0m__init__\u001b[0m\u001b[0;34m(\u001b[0m\u001b[0mopen\u001b[0m\u001b[0;34m(\u001b[0m\u001b[0mname\u001b[0m\u001b[0;34m,\u001b[0m \u001b[0mmode\u001b[0m\u001b[0;34m)\u001b[0m\u001b[0;34m)\u001b[0m\u001b[0;34m\u001b[0m\u001b[0;34m\u001b[0m\u001b[0m\n\u001b[0m\u001b[1;32m    253\u001b[0m \u001b[0;34m\u001b[0m\u001b[0m\n\u001b[1;32m    254\u001b[0m     \u001b[0;32mdef\u001b[0m \u001b[0m__exit__\u001b[0m\u001b[0;34m(\u001b[0m\u001b[0mself\u001b[0m\u001b[0;34m,\u001b[0m \u001b[0;34m*\u001b[0m\u001b[0margs\u001b[0m\u001b[0;34m)\u001b[0m\u001b[0;34m:\u001b[0m\u001b[0;34m\u001b[0m\u001b[0;34m\u001b[0m\u001b[0m\n",
      "\u001b[0;31mFileNotFoundError\u001b[0m: [Errno 2] No such file or directory: '/home/jupyter/datasphere/s3/s3sirius/sirius_2024_participants/twwist/graph_with_cv_full_and_images/images_graph_777.pickle'"
     ]
    }
   ],
   "source": [
    "import pandas as pd, numpy as np, matplotlib.pyplot as plt, time\n",
    "from tqdm.notebook import tqdm\n",
    "\n",
    "import os\n",
    "import sys\n",
    "import timm\n",
    "import torch\n",
    "import argparse \n",
    "import numpy as np\n",
    "import pandas as pd\n",
    "import torch.nn as nn\n",
    "import torch.optim as optim\n",
    "import torch.nn.functional as F\n",
    "import torchvision.transforms as transforms\n",
    "\n",
    "sys.path.append(\"../src\")\n",
    "\n",
    "#here you can find utils that are used in each notebook\n",
    "from utils import set_seed, EarlyStoppingR2, train_CFG\n",
    "from datasets import RasterDataset, TimmRasterDataset\n",
    "from models import RasterCNN\n",
    "\n",
    "def get_images_features(dataset):\n",
    "    a = []\n",
    "    data = {}\n",
    "    for i in dataset.imgs:\n",
    "        a.append(i)\n",
    "    m1 = np.zeros_like(dataset.imgs[199][0]) \n",
    "    m1[26:, 26:] = 1      \n",
    "\n",
    "    m2 = np.zeros_like(dataset.imgs[199][0]) \n",
    "    m2[26:, :27] = 1    \n",
    "\n",
    "    m3 = np.zeros_like(dataset.imgs[199][0])  \n",
    "    m3[:27:, :27] = 1   \n",
    "\n",
    "    m4 = np.zeros_like(dataset.imgs[199][0]) #1\n",
    "    m4[:27:, 26:] = 1 \n",
    "    \n",
    "    \n",
    "    for i in range(len(a)):\n",
    "        for j in range(12):\n",
    "            if i not in data:\n",
    "                data[i] = [(dataset.imgs[i][j] * m1 > 0).sum().item()]\n",
    "            else:\n",
    "                data[i] += [(dataset.imgs[i][j] * m1 > 0).sum().item()]\n",
    "            data[i] += [(dataset.imgs[i][j] * m2 > 0).sum().item()]\n",
    "            data[i] += [(dataset.imgs[i][j] * m3 > 0).sum().item()]\n",
    "            data[i] += [(dataset.imgs[i][j] * m4 > 0).sum().item()]\n",
    "    \n",
    "    for i in range(len(a)):\n",
    "        for j in range(12):\n",
    "            if i not in data:\n",
    "                data[i] = [(dataset.imgs[i][j] > 0).sum().item()]\n",
    "            else:\n",
    "                data[i] += [(dataset.imgs[i][j] > 0).sum().item()]\n",
    "    \n",
    "    df = pd.DataFrame.from_dict(data, orient=\"index\")\n",
    "    res = df.apply(pd.Series.explode)\n",
    "    \n",
    "    res.columns = ['num', 'm10','m20','m3','m40','m11', 'm21', 'm31', 'm41',\n",
    "                   'm12','m22','m32','m42','m13','m23','m33','m43','m14','m24',\n",
    "                   'm34','m44','m15','m25','m35', 'm16','m26','m36','m46','m17',\n",
    "                   'm27','m37','m47','m18','m28','m38','m48','m19','m29','m39',\n",
    "                   'm49','m110','m210','m310','m410','m111','m211','m311','m411',\n",
    "                   'summ0', 'summ1', 'summ2','summ3','summ4','summ5','summ6',\n",
    "                   'summ7','summ8','summ9','summ10','summ11']\n",
    "    return torch.FloatTensor(res.values) / (52 * 52)\n",
    "\n",
    "class cfg:\n",
    "    num_epochs = 100\n",
    "    device = torch.device('cuda' if torch.cuda.is_available() else 'cpu')\n",
    "cfg = cfg()\n",
    "\n",
    "\n",
    "pipeline = \"efficient_all_channels\"\n",
    "region = 777\n",
    "path_to_graph = \"/home/jupyter/datasphere/s3/s3sirius/sirius_2024_participants/twwist/graph_with_cv_full_and_images/\"\n",
    "\n",
    "path_to_save = \"../data/image_embeddings/\"\n",
    "path_to_chkps = \"../chkps/image_embeddings/\"\n",
    "\n",
    "# path_to_graph = os.path.join(args.path_to_graph, f\"images_graph_{args.region}.pickle\")\n",
    "path_to_graph = os.path.join(path_to_graph, f\"images_graph_{region}.pickle\")\n",
    "path_to_save = os.path.join(path_to_save, f\"image_embeddings_{pipeline}_{region}.pickle\")\n",
    "# path_to_save = os.path.join(args.path_to_save, f\"image_embeddings_{args.pipeline}_{args.region}.pickle\")\n",
    "\n",
    "print(\"starting loading graph\")\n",
    "#loading with torch\n",
    "graph = torch.load(path_to_graph)\n",
    "xs = graph.imgs[(graph.y != -1)]\n",
    "ys = ys[(graph.y != -1)].tolist()\n",
    "print(\"loaded graph successfully\")\n",
    "\n",
    "# if not os.path.exists(f\"{args.path_to_save}/image_features_{region}.pickle\"):\n",
    "if not os.path.exists(f\"{path_to_save}/image_features_{region}.pickle\"):\n",
    "    \n",
    "    print(\"starting creating image features\")\n",
    "    image_features = get_images_features(graph)\n",
    "    \n",
    "    # torch.save(image_features, f\"{args.path_to_save}/image_features_{region}.pickle\")\n",
    "    torch.save(image_features, f\"{path_to_save}/image_features_{region}.pickle\")\n",
    "    print(\"image features saved\")\n",
    "\n",
    "# if args.pipeline == \"basic\":\n",
    "if pipeline == \"basic\":\n",
    "\n",
    "    full_dataset = RasterDataset(xs, ys)\n",
    "else:\n",
    "    \n",
    "    # if args.pipeline == \"efficient_delete_channels\":\n",
    "    if pipeline == \"efficient_delete_channels\":\n",
    "        # throwing out some trash channels\n",
    "        graph.imgs = graph.imgs[:, [0, 3, 4, 5, 6, 7, 8, 9, 10]]\n",
    "    \n",
    "    full_dataset = TimmRasterDataset(graph.imgs, graph.y, transforms)\n",
    "\n",
    "\n",
    "feature_extractor = timm.create_model('efficientnet_b0.ra_in1k',\n",
    "        pretrained=True,\n",
    "        features_only=True,\n",
    "        in_chans=1,\n",
    "        out_indices=[2]\n",
    ").to(cfg.device)\n",
    "\n",
    "# if \"efficient\" in args.pipeline:\n",
    "if \"efficient\" in pipeline:\n",
    "\n",
    "    model = timm.create_model('efficientnet_b0.ra_in1k',\n",
    "            pretrained=True,\n",
    "            features_only=False,\n",
    "            in_chans=12\n",
    "    ).to(cfg.device)\n",
    "\n",
    "    dataloader_all_images = torch.utils.data.DataLoader(\n",
    "        full_dataset, \n",
    "        batch_size=1, \n",
    "        shuffle=False, \n",
    "        num_workers=4, \n",
    "        pin_memory=True\n",
    "    )\n",
    "\n",
    "    # use_feature_exctractor = (False if args.pipeline == \"efficient_all_channels\" else True)\n",
    "    use_feature_exctractor = (False if pipeline == \"efficient_all_channels\" else True)\n",
    "\n",
    "    model.eval()\n",
    "\n",
    "    t = nn.AvgPool2d(kernel_size=(28, 28))\n",
    "\n",
    "    #resulted image embeddins\n",
    "    image_embeds = []\n",
    "\n",
    "    with torch.no_grad():\n",
    "        for images in tqdm(dataloader_all_images):\n",
    "            if use_feature_exctractor:\n",
    "                images = images.flatten(end_dim=1).unsqueeze(1)\n",
    "                output = feature_extractor(images.to(cfg.device))[0]\n",
    "                output = t(output).flatten(start_dim=1)\n",
    "                output = torch.cat([x for x in output], dim=0)\n",
    "            else:\n",
    "                output = model.forward_features(images.to(cfg.device))\n",
    "                output = model.forward_head(output, pre_logits=True)\n",
    "            image_embeds.append(output)\n",
    "            \n",
    "    image_embeds = torch.cat(image_embeds, dim=0).view(len(image_embeds), -1)\n",
    "    # torch.save(image_embeds.cpu(), args.path_to_save)\n",
    "    torch.save(image_embeds.cpu(), path_to_save)\n",
    "\n",
    "else:\n",
    "    \n",
    "    train_set, val_set = torch.utils.data.random_split(full_dataset, [0.9, 0.1])\n",
    "\n",
    "    batch_size = 64\n",
    "\n",
    "    dataloader_train = torch.utils.data.DataLoader(\n",
    "        train_set, \n",
    "        batch_size=batch_size, \n",
    "        shuffle=True, \n",
    "    )\n",
    "    dataloader_val = torch.utils.data.DataLoader(\n",
    "        val_set, \n",
    "        batch_size=batch_size, \n",
    "        shuffle=False, \n",
    "    )\n",
    "    \n",
    "    model = RasterCNN(12).to(cfg.device)\n",
    "    print(f\"Number of parameters: {sum(p.numel() for p in model.parameters())}\")\n",
    "    criterion = nn.MSELoss()\n",
    "    optimizer = optim.AdamW(model.parameters(), lr=7e-4)\n",
    "    scheduler = torch.optim.lr_scheduler.CyclicLR(\n",
    "        optimizer, \n",
    "        base_lr=4e-5, \n",
    "        max_lr=2e-4, \n",
    "        cycle_momentum = False, \n",
    "        step_size_up=20,\n",
    "    )\n",
    "    \n",
    "    set_seed(111)\n",
    "\n",
    "    best_metric = float('inf')\n",
    "    best_epoch = -1\n",
    "\n",
    "    for epoch in range(cfg.num_epochs):\n",
    "\n",
    "        loss_i_train = []\n",
    "        r2_i_train = []\n",
    "\n",
    "        model.train()\n",
    "\n",
    "        for images, targets in tqdm(dataloader_train, desc='Training'):\n",
    "\n",
    "            images = images.to(cfg.device)\n",
    "            targets = targets.to(cfg.device)\n",
    "\n",
    "            optimizer.zero_grad()\n",
    "\n",
    "            outputs = model(images.float()).squeeze()\n",
    "            loss = criterion(outputs, targets.float())\n",
    "            loss.backward()\n",
    "            optimizer.step()\n",
    "\n",
    "            loss_i_train.append(loss.item() ** 0.5)\n",
    "            r2_i_train.append(\n",
    "                r2_score(targets.cpu(), outputs.detach().cpu())\n",
    "            )\n",
    "\n",
    "        print(f\"Epoch: {epoch}, Train rmse: {np.mean(loss_i_train)} r2: {np.mean(r2_i_train)}\")\n",
    "\n",
    "        loss_i_val = []\n",
    "        r2_i_val = []\n",
    "\n",
    "        model.eval()\n",
    "\n",
    "        with torch.no_grad():\n",
    "            for images, targets in dataloader_val:\n",
    "\n",
    "                images = images.to(cfg.device)\n",
    "                targets = targets.to(cfg.device)\n",
    "\n",
    "                outputs = model(images.float()).squeeze()\n",
    "\n",
    "                loss_i_val.append(loss.item() ** 0.5)\n",
    "                r2_i_val.append(\n",
    "                    r2_score(targets.cpu(), outputs.detach().cpu())\n",
    "                )\n",
    "\n",
    "        print(f\"Validation rmse: [{np.mean(loss_i_val)}], r2: [{np.mean(r2_i_val)}]\")\n",
    "\n",
    "        if np.mean(loss_i_val) - best_metric < -1e6 / 2:\n",
    "            best_metric = np.mean(loss_i_val)\n",
    "            best_epoch = epoch\n",
    "\n",
    "            if epoch != 0:\n",
    "\n",
    "                # torch.save(model, f'{args.path_to_chkps}/weights_{epoch}_{round(best_metric, 5)}.pt')\n",
    "                torch.save(model, f'{path_to_chkps}/weights_{epoch}_{round(best_metric, 5)}.pt')\n",
    "\n",
    "\n",
    "    print('Finished Training')\n",
    "    \n",
    "    all_images_dataset = RasterDataset(graph.imgs, graph.y)\n",
    "\n",
    "    dataloader_all_images = torch.utils.data.DataLoader(\n",
    "        all_images_dataset, \n",
    "        batch_size=1,\n",
    "        shuffle=False\n",
    "    )\n",
    "\n",
    "    hidden_states = []\n",
    "\n",
    "    # best_model = torch.load(f'{args.path_to_chkps}/weights_{best_epoch}_{round(best_metric, 5)}.pt')\n",
    "    best_model = torch.load(f'{path_to_chkps}/weights_{best_epoch}_{round(best_metric, 5)}.pt')\n",
    "    \n",
    "    best_model.eval()\n",
    "    with torch.no_grad():\n",
    "        for image, _ in tqdm(dataloader_all_images):\n",
    "            _, h = best_model(image.to(cfg.device).float(), return_hidden=True)\n",
    "            hidden_states.append(h.squeeze(0))\n",
    "            \n",
    "    hidden_states = torch.cat(hidden_states, dim=0).view(-1, hidden_states[0].shape[0])\n",
    "    hidden_states = hidden_states.to(torch.device('cpu'))\n",
    "    torch.save(graph, path_to_save)\n",
    "5     print(\"Embeddings saved succesfully\")"
   ]
  },
  {
   "cell_type": "code",
   "execution_count": 13,
   "metadata": {
    "execution": {
     "iopub.execute_input": "2024-07-19T18:19:12.083288Z",
     "iopub.status.busy": "2024-07-19T18:19:12.082369Z",
     "iopub.status.idle": "2024-07-19T18:22:41.824852Z",
     "shell.execute_reply": "2024-07-19T18:22:41.823950Z",
     "shell.execute_reply.started": "2024-07-19T18:19:12.083249Z"
    },
    "tags": []
   },
   "outputs": [
    {
     "name": "stdout",
     "output_type": "stream",
     "text": [
      "Loading graph \n",
      "Starting training basic CNN\n",
      "Number of parameters: 352257\n"
     ]
    },
    {
     "data": {
      "application/vnd.jupyter.widget-view+json": {
       "model_id": "61e25c9c2e274dd190daba091367d518",
       "version_major": 2,
       "version_minor": 0
      },
      "text/plain": [
       "Training:   0%|          | 0/24 [00:00<?, ?it/s]"
      ]
     },
     "metadata": {},
     "output_type": "display_data"
    },
    {
     "name": "stdout",
     "output_type": "stream",
     "text": [
      "Epoch: 0, Train rmse: 11599241.692794023 r2: -0.28612338107287677\n",
      "Validation rmse: [7696757.023424346], r2: [-0.2730408361637599]\n"
     ]
    },
    {
     "data": {
      "application/vnd.jupyter.widget-view+json": {
       "model_id": "983ebb8b672948d188d4b5bac6e6c9b6",
       "version_major": 2,
       "version_minor": 0
      },
      "text/plain": [
       "Training:   0%|          | 0/24 [00:00<?, ?it/s]"
      ]
     },
     "metadata": {},
     "output_type": "display_data"
    },
    {
     "name": "stdout",
     "output_type": "stream",
     "text": [
      "Epoch: 1, Train rmse: 11470569.609322106 r2: -0.2733466225764176\n",
      "Validation rmse: [4429126.602523798], r2: [-0.273040761028471]\n"
     ]
    },
    {
     "data": {
      "application/vnd.jupyter.widget-view+json": {
       "model_id": "75c58cff551149bb966075268bb1341b",
       "version_major": 2,
       "version_minor": 0
      },
      "text/plain": [
       "Training:   0%|          | 0/24 [00:00<?, ?it/s]"
      ]
     },
     "metadata": {},
     "output_type": "display_data"
    },
    {
     "name": "stdout",
     "output_type": "stream",
     "text": [
      "Epoch: 2, Train rmse: 11739475.25618296 r2: -0.30235099193065756\n",
      "Validation rmse: [11446717.025523081], r2: [-0.27304065958850193]\n"
     ]
    },
    {
     "data": {
      "application/vnd.jupyter.widget-view+json": {
       "model_id": "4b5d55bb41974518a3369697c2f67306",
       "version_major": 2,
       "version_minor": 0
      },
      "text/plain": [
       "Training:   0%|          | 0/24 [00:00<?, ?it/s]"
      ]
     },
     "metadata": {},
     "output_type": "display_data"
    },
    {
     "name": "stdout",
     "output_type": "stream",
     "text": [
      "Epoch: 3, Train rmse: 11387916.28043206 r2: -0.2860636219022146\n",
      "Validation rmse: [2648694.8173619397], r2: [-0.27304061322719436]\n"
     ]
    },
    {
     "data": {
      "application/vnd.jupyter.widget-view+json": {
       "model_id": "989a6b5ad11a4c519cb3fddd4352b6b0",
       "version_major": 2,
       "version_minor": 0
      },
      "text/plain": [
       "Training:   0%|          | 0/24 [00:00<?, ?it/s]"
      ]
     },
     "metadata": {},
     "output_type": "display_data"
    },
    {
     "name": "stdout",
     "output_type": "stream",
     "text": [
      "Epoch: 4, Train rmse: 11132375.935556775 r2: -0.34913313896399095\n",
      "Validation rmse: [1122089.3225336387], r2: [-0.27304056819520195]\n"
     ]
    },
    {
     "data": {
      "application/vnd.jupyter.widget-view+json": {
       "model_id": "4218589a19c5499caad52cbff9b9275f",
       "version_major": 2,
       "version_minor": 0
      },
      "text/plain": [
       "Training:   0%|          | 0/24 [00:00<?, ?it/s]"
      ]
     },
     "metadata": {},
     "output_type": "display_data"
    },
    {
     "name": "stdout",
     "output_type": "stream",
     "text": [
      "Epoch: 5, Train rmse: 11515911.255148618 r2: -0.2774781292384327\n",
      "Validation rmse: [2287605.801230623], r2: [-0.27304053993414845]\n"
     ]
    },
    {
     "data": {
      "application/vnd.jupyter.widget-view+json": {
       "model_id": "8b0622e8b79c4c9da4288b9771d12943",
       "version_major": 2,
       "version_minor": 0
      },
      "text/plain": [
       "Training:   0%|          | 0/24 [00:00<?, ?it/s]"
      ]
     },
     "metadata": {},
     "output_type": "display_data"
    },
    {
     "name": "stdout",
     "output_type": "stream",
     "text": [
      "Epoch: 6, Train rmse: 11399289.667281928 r2: -0.3027351466021188\n",
      "Validation rmse: [9009363.594696354], r2: [-0.27304052415530117]\n"
     ]
    },
    {
     "data": {
      "application/vnd.jupyter.widget-view+json": {
       "model_id": "36fad3e59f9445b5868482a2405569a1",
       "version_major": 2,
       "version_minor": 0
      },
      "text/plain": [
       "Training:   0%|          | 0/24 [00:00<?, ?it/s]"
      ]
     },
     "metadata": {},
     "output_type": "display_data"
    },
    {
     "name": "stdout",
     "output_type": "stream",
     "text": [
      "Epoch: 7, Train rmse: 11396696.615680322 r2: -0.3362058799704219\n",
      "Validation rmse: [6458826.080472519], r2: [-0.2730405063590698]\n"
     ]
    },
    {
     "data": {
      "application/vnd.jupyter.widget-view+json": {
       "model_id": "ff7ae2512fe94f65aaf5f6a685b8486a",
       "version_major": 2,
       "version_minor": 0
      },
      "text/plain": [
       "Training:   0%|          | 0/24 [00:00<?, ?it/s]"
      ]
     },
     "metadata": {},
     "output_type": "display_data"
    },
    {
     "name": "stdout",
     "output_type": "stream",
     "text": [
      "Epoch: 8, Train rmse: 11678938.195210189 r2: -0.26614779699663244\n",
      "Validation rmse: [6174898.645508605], r2: [-0.27304043405278033]\n"
     ]
    },
    {
     "data": {
      "application/vnd.jupyter.widget-view+json": {
       "model_id": "ed677c7f0f2642e5bde9e27d7eed5c95",
       "version_major": 2,
       "version_minor": 0
      },
      "text/plain": [
       "Training:   0%|          | 0/24 [00:00<?, ?it/s]"
      ]
     },
     "metadata": {},
     "output_type": "display_data"
    },
    {
     "name": "stdout",
     "output_type": "stream",
     "text": [
      "Epoch: 9, Train rmse: 11945657.414163167 r2: -0.26364830867454253\n",
      "Validation rmse: [14152954.385456063], r2: [-0.2730404163315896]\n"
     ]
    },
    {
     "data": {
      "application/vnd.jupyter.widget-view+json": {
       "model_id": "a247ff04aa4143609ea4ae97fd4c227e",
       "version_major": 2,
       "version_minor": 0
      },
      "text/plain": [
       "Training:   0%|          | 0/24 [00:00<?, ?it/s]"
      ]
     },
     "metadata": {},
     "output_type": "display_data"
    },
    {
     "name": "stdout",
     "output_type": "stream",
     "text": [
      "Epoch: 10, Train rmse: 11278307.490156367 r2: -0.29255801698530653\n",
      "Validation rmse: [2731274.737630032], r2: [-0.273040375064801]\n"
     ]
    },
    {
     "data": {
      "application/vnd.jupyter.widget-view+json": {
       "model_id": "dc0307828db845edb94cf2fcdef25dae",
       "version_major": 2,
       "version_minor": 0
      },
      "text/plain": [
       "Training:   0%|          | 0/24 [00:00<?, ?it/s]"
      ]
     },
     "metadata": {},
     "output_type": "display_data"
    },
    {
     "name": "stdout",
     "output_type": "stream",
     "text": [
      "Epoch: 11, Train rmse: 11317125.669376975 r2: -0.32295543377801555\n",
      "Validation rmse: [6361467.785185429], r2: [-0.273040347736351]\n"
     ]
    },
    {
     "data": {
      "application/vnd.jupyter.widget-view+json": {
       "model_id": "2a3a12aeb4d341a683fbe4d87738a21e",
       "version_major": 2,
       "version_minor": 0
      },
      "text/plain": [
       "Training:   0%|          | 0/24 [00:00<?, ?it/s]"
      ]
     },
     "metadata": {},
     "output_type": "display_data"
    },
    {
     "name": "stdout",
     "output_type": "stream",
     "text": [
      "Epoch: 12, Train rmse: 11307473.301847018 r2: -0.31033238153491877\n",
      "Validation rmse: [1902118.5891105738], r2: [-0.2730402551424865]\n"
     ]
    },
    {
     "data": {
      "application/vnd.jupyter.widget-view+json": {
       "model_id": "8f30263c18804735a69598f2b0583bed",
       "version_major": 2,
       "version_minor": 0
      },
      "text/plain": [
       "Training:   0%|          | 0/24 [00:00<?, ?it/s]"
      ]
     },
     "metadata": {},
     "output_type": "display_data"
    },
    {
     "name": "stdout",
     "output_type": "stream",
     "text": [
      "Epoch: 13, Train rmse: 11807900.579493618 r2: -0.26967595392172217\n",
      "Validation rmse: [12091703.497342631], r2: [-0.2730402607706399]\n"
     ]
    },
    {
     "data": {
      "application/vnd.jupyter.widget-view+json": {
       "model_id": "662c548a03f742df9128ecce73fa4a30",
       "version_major": 2,
       "version_minor": 0
      },
      "text/plain": [
       "Training:   0%|          | 0/24 [00:00<?, ?it/s]"
      ]
     },
     "metadata": {},
     "output_type": "display_data"
    },
    {
     "name": "stdout",
     "output_type": "stream",
     "text": [
      "Epoch: 14, Train rmse: 11330927.051710358 r2: -0.28797750876550016\n",
      "Validation rmse: [6104968.457736042], r2: [-0.2730402127850447]\n"
     ]
    },
    {
     "data": {
      "application/vnd.jupyter.widget-view+json": {
       "model_id": "e1fab06b8b0847af914598bcbbc1bf3d",
       "version_major": 2,
       "version_minor": 0
      },
      "text/plain": [
       "Training:   0%|          | 0/24 [00:00<?, ?it/s]"
      ]
     },
     "metadata": {},
     "output_type": "display_data"
    },
    {
     "name": "stdout",
     "output_type": "stream",
     "text": [
      "Epoch: 15, Train rmse: 11771806.424701722 r2: -0.2800925825788029\n",
      "Validation rmse: [12042262.29113583], r2: [-0.27304019581261646]\n"
     ]
    },
    {
     "data": {
      "application/vnd.jupyter.widget-view+json": {
       "model_id": "d9826d4624234072aee462231b489ff4",
       "version_major": 2,
       "version_minor": 0
      },
      "text/plain": [
       "Training:   0%|          | 0/24 [00:00<?, ?it/s]"
      ]
     },
     "metadata": {},
     "output_type": "display_data"
    },
    {
     "name": "stdout",
     "output_type": "stream",
     "text": [
      "Epoch: 16, Train rmse: 11322957.913226135 r2: -0.3067790889554725\n",
      "Validation rmse: [4221117.79097812], r2: [-0.27304009132866175]\n"
     ]
    },
    {
     "data": {
      "application/vnd.jupyter.widget-view+json": {
       "model_id": "6009798e257546249e15cf471e497a47",
       "version_major": 2,
       "version_minor": 0
      },
      "text/plain": [
       "Training:   0%|          | 0/24 [00:00<?, ?it/s]"
      ]
     },
     "metadata": {},
     "output_type": "display_data"
    },
    {
     "name": "stdout",
     "output_type": "stream",
     "text": [
      "Epoch: 17, Train rmse: 11601378.138032764 r2: -0.2795884215686209\n",
      "Validation rmse: [9166120.922014503], r2: [-0.2730399790606907]\n"
     ]
    },
    {
     "data": {
      "application/vnd.jupyter.widget-view+json": {
       "model_id": "bb22b7d4bc374bf4bd5068e548e8a843",
       "version_major": 2,
       "version_minor": 0
      },
      "text/plain": [
       "Training:   0%|          | 0/24 [00:00<?, ?it/s]"
      ]
     },
     "metadata": {},
     "output_type": "display_data"
    },
    {
     "name": "stdout",
     "output_type": "stream",
     "text": [
      "Epoch: 18, Train rmse: 11422992.481626203 r2: -0.2668607841421664\n",
      "Validation rmse: [2073129.6651777476], r2: [-0.27303992309550806]\n"
     ]
    },
    {
     "data": {
      "application/vnd.jupyter.widget-view+json": {
       "model_id": "7d3881d7354d4a67834b442538a42a31",
       "version_major": 2,
       "version_minor": 0
      },
      "text/plain": [
       "Training:   0%|          | 0/24 [00:00<?, ?it/s]"
      ]
     },
     "metadata": {},
     "output_type": "display_data"
    },
    {
     "name": "stdout",
     "output_type": "stream",
     "text": [
      "Epoch: 19, Train rmse: 11735413.867136762 r2: -0.28002579609943284\n",
      "Validation rmse: [10877094.391497023], r2: [-0.2730398371330179]\n"
     ]
    },
    {
     "data": {
      "application/vnd.jupyter.widget-view+json": {
       "model_id": "15c9a968e708408880a95eef65358362",
       "version_major": 2,
       "version_minor": 0
      },
      "text/plain": [
       "Training:   0%|          | 0/24 [00:00<?, ?it/s]"
      ]
     },
     "metadata": {},
     "output_type": "display_data"
    },
    {
     "name": "stdout",
     "output_type": "stream",
     "text": [
      "Epoch: 20, Train rmse: 11236901.352923239 r2: -0.3151844977301565\n",
      "Validation rmse: [6054017.2110703485], r2: [-0.273039702039431]\n"
     ]
    },
    {
     "data": {
      "application/vnd.jupyter.widget-view+json": {
       "model_id": "c370c5ff35c84e23a85737c840c55021",
       "version_major": 2,
       "version_minor": 0
      },
      "text/plain": [
       "Training:   0%|          | 0/24 [00:00<?, ?it/s]"
      ]
     },
     "metadata": {},
     "output_type": "display_data"
    },
    {
     "name": "stdout",
     "output_type": "stream",
     "text": [
      "Epoch: 21, Train rmse: 11775223.526217392 r2: -0.31130174722757536\n",
      "Validation rmse: [11191284.709665822], r2: [-0.2730397659606784]\n"
     ]
    },
    {
     "data": {
      "application/vnd.jupyter.widget-view+json": {
       "model_id": "9bda65ce75f148c493f5ae365d2f6f85",
       "version_major": 2,
       "version_minor": 0
      },
      "text/plain": [
       "Training:   0%|          | 0/24 [00:00<?, ?it/s]"
      ]
     },
     "metadata": {},
     "output_type": "display_data"
    },
    {
     "name": "stdout",
     "output_type": "stream",
     "text": [
      "Epoch: 22, Train rmse: 11225919.58797392 r2: -0.2897846755565574\n",
      "Validation rmse: [902899.9148609996], r2: [-0.2730394491262243]\n"
     ]
    },
    {
     "data": {
      "application/vnd.jupyter.widget-view+json": {
       "model_id": "00ff768867ab401b9d6444f1dde0bd41",
       "version_major": 2,
       "version_minor": 0
      },
      "text/plain": [
       "Training:   0%|          | 0/24 [00:00<?, ?it/s]"
      ]
     },
     "metadata": {},
     "output_type": "display_data"
    },
    {
     "name": "stdout",
     "output_type": "stream",
     "text": [
      "Epoch: 23, Train rmse: 11391477.585186182 r2: -0.2872957111231109\n",
      "Validation rmse: [1979770.8649315957], r2: [-0.2730394615830251]\n"
     ]
    },
    {
     "data": {
      "application/vnd.jupyter.widget-view+json": {
       "model_id": "7b0c7a2bab8741eaa6798b97cbcbeba9",
       "version_major": 2,
       "version_minor": 0
      },
      "text/plain": [
       "Training:   0%|          | 0/24 [00:00<?, ?it/s]"
      ]
     },
     "metadata": {},
     "output_type": "display_data"
    },
    {
     "name": "stdout",
     "output_type": "stream",
     "text": [
      "Epoch: 24, Train rmse: 11395299.542624837 r2: -0.2704471848327154\n",
      "Validation rmse: [3277589.6648506806], r2: [-0.2730393528323462]\n"
     ]
    },
    {
     "data": {
      "application/vnd.jupyter.widget-view+json": {
       "model_id": "c9904b539c0d48a38c9ae6793f208958",
       "version_major": 2,
       "version_minor": 0
      },
      "text/plain": [
       "Training:   0%|          | 0/24 [00:00<?, ?it/s]"
      ]
     },
     "metadata": {},
     "output_type": "display_data"
    },
    {
     "name": "stdout",
     "output_type": "stream",
     "text": [
      "Epoch: 25, Train rmse: 11273340.601596868 r2: -0.29519375759853167\n",
      "Validation rmse: [1382157.395008253], r2: [-0.2730392007062739]\n"
     ]
    },
    {
     "data": {
      "application/vnd.jupyter.widget-view+json": {
       "model_id": "a4b4725f49694f28844c43cbfacd7e8e",
       "version_major": 2,
       "version_minor": 0
      },
      "text/plain": [
       "Training:   0%|          | 0/24 [00:00<?, ?it/s]"
      ]
     },
     "metadata": {},
     "output_type": "display_data"
    },
    {
     "name": "stdout",
     "output_type": "stream",
     "text": [
      "Epoch: 26, Train rmse: 11504969.30428941 r2: -0.3089076716479428\n",
      "Validation rmse: [7471064.982354256], r2: [-0.27303916708799975]\n"
     ]
    },
    {
     "data": {
      "application/vnd.jupyter.widget-view+json": {
       "model_id": "c512026241334fd69884bf2fdee9b8db",
       "version_major": 2,
       "version_minor": 0
      },
      "text/plain": [
       "Training:   0%|          | 0/24 [00:00<?, ?it/s]"
      ]
     },
     "metadata": {},
     "output_type": "display_data"
    },
    {
     "name": "stdout",
     "output_type": "stream",
     "text": [
      "Epoch: 27, Train rmse: 11609477.861156365 r2: -0.28767374803801843\n",
      "Validation rmse: [8434382.609501183], r2: [-0.2730391677998469]\n"
     ]
    },
    {
     "data": {
      "application/vnd.jupyter.widget-view+json": {
       "model_id": "7e3bea3be0714cba8356ac8df43b6719",
       "version_major": 2,
       "version_minor": 0
      },
      "text/plain": [
       "Training:   0%|          | 0/24 [00:00<?, ?it/s]"
      ]
     },
     "metadata": {},
     "output_type": "display_data"
    },
    {
     "name": "stdout",
     "output_type": "stream",
     "text": [
      "Epoch: 28, Train rmse: 11743545.057342181 r2: -0.2868182915646329\n",
      "Validation rmse: [12863386.104993662], r2: [-0.2730390830858204]\n"
     ]
    },
    {
     "data": {
      "application/vnd.jupyter.widget-view+json": {
       "model_id": "23974ee7c74c4f6a93d9f9b0fee0c814",
       "version_major": 2,
       "version_minor": 0
      },
      "text/plain": [
       "Training:   0%|          | 0/24 [00:00<?, ?it/s]"
      ]
     },
     "metadata": {},
     "output_type": "display_data"
    },
    {
     "name": "stdout",
     "output_type": "stream",
     "text": [
      "Epoch: 29, Train rmse: 11345779.769111583 r2: -0.2828861291073159\n",
      "Validation rmse: [3938975.826212697], r2: [-0.27303860086441384]\n"
     ]
    },
    {
     "data": {
      "application/vnd.jupyter.widget-view+json": {
       "model_id": "87e69e2cf44445ec8de9c0fdab20336a",
       "version_major": 2,
       "version_minor": 0
      },
      "text/plain": [
       "Training:   0%|          | 0/24 [00:00<?, ?it/s]"
      ]
     },
     "metadata": {},
     "output_type": "display_data"
    },
    {
     "name": "stdout",
     "output_type": "stream",
     "text": [
      "Epoch: 30, Train rmse: 11544753.720700791 r2: -0.30261113022981473\n",
      "Validation rmse: [11628909.373618836], r2: [-0.2730388957579961]\n"
     ]
    },
    {
     "data": {
      "application/vnd.jupyter.widget-view+json": {
       "model_id": "295f351588c142dcb01554bf81d25a63",
       "version_major": 2,
       "version_minor": 0
      },
      "text/plain": [
       "Training:   0%|          | 0/24 [00:00<?, ?it/s]"
      ]
     },
     "metadata": {},
     "output_type": "display_data"
    },
    {
     "name": "stdout",
     "output_type": "stream",
     "text": [
      "Epoch: 31, Train rmse: 12530321.114875754 r2: -0.26979075214399034\n",
      "Validation rmse: [33525560.579003718], r2: [-0.27303881817421066]\n"
     ]
    },
    {
     "data": {
      "application/vnd.jupyter.widget-view+json": {
       "model_id": "72acc066b79040e096599116d0d9b106",
       "version_major": 2,
       "version_minor": 0
      },
      "text/plain": [
       "Training:   0%|          | 0/24 [00:00<?, ?it/s]"
      ]
     },
     "metadata": {},
     "output_type": "display_data"
    },
    {
     "name": "stdout",
     "output_type": "stream",
     "text": [
      "Epoch: 32, Train rmse: 11393105.676843146 r2: -0.2789027270333044\n",
      "Validation rmse: [1380794.4691430365], r2: [-0.27303826097624334]\n"
     ]
    },
    {
     "data": {
      "application/vnd.jupyter.widget-view+json": {
       "model_id": "73fc8574061b40169040b8d163c1b993",
       "version_major": 2,
       "version_minor": 0
      },
      "text/plain": [
       "Training:   0%|          | 0/24 [00:00<?, ?it/s]"
      ]
     },
     "metadata": {},
     "output_type": "display_data"
    },
    {
     "name": "stdout",
     "output_type": "stream",
     "text": [
      "Epoch: 33, Train rmse: 11161907.995686298 r2: -0.34923456551856863\n",
      "Validation rmse: [5736117.8684012415], r2: [-0.2730382322201696]\n"
     ]
    },
    {
     "data": {
      "application/vnd.jupyter.widget-view+json": {
       "model_id": "2bf3b32747de4fc68b57c9cca8cef816",
       "version_major": 2,
       "version_minor": 0
      },
      "text/plain": [
       "Training:   0%|          | 0/24 [00:00<?, ?it/s]"
      ]
     },
     "metadata": {},
     "output_type": "display_data"
    },
    {
     "name": "stdout",
     "output_type": "stream",
     "text": [
      "Epoch: 34, Train rmse: 11714007.203210318 r2: -0.28415615555663004\n",
      "Validation rmse: [15127030.42544967], r2: [-0.2730386623559768]\n"
     ]
    },
    {
     "data": {
      "application/vnd.jupyter.widget-view+json": {
       "model_id": "91e867925b7e4d06ab3192332ccaddc1",
       "version_major": 2,
       "version_minor": 0
      },
      "text/plain": [
       "Training:   0%|          | 0/24 [00:00<?, ?it/s]"
      ]
     },
     "metadata": {},
     "output_type": "display_data"
    },
    {
     "name": "stdout",
     "output_type": "stream",
     "text": [
      "Epoch: 35, Train rmse: 11914211.592716776 r2: -0.30391268170748\n",
      "Validation rmse: [20157548.381928593], r2: [-0.2730382638006461]\n"
     ]
    },
    {
     "data": {
      "application/vnd.jupyter.widget-view+json": {
       "model_id": "4172a013a75f437faaaa87ad36fc5023",
       "version_major": 2,
       "version_minor": 0
      },
      "text/plain": [
       "Training:   0%|          | 0/24 [00:00<?, ?it/s]"
      ]
     },
     "metadata": {},
     "output_type": "display_data"
    },
    {
     "name": "stdout",
     "output_type": "stream",
     "text": [
      "Epoch: 36, Train rmse: 11548614.519193634 r2: -0.28610487800504636\n",
      "Validation rmse: [1235438.1233683862], r2: [-0.273038220987452]\n"
     ]
    },
    {
     "data": {
      "application/vnd.jupyter.widget-view+json": {
       "model_id": "1094eba56c994d829484efa0e0ecbd65",
       "version_major": 2,
       "version_minor": 0
      },
      "text/plain": [
       "Training:   0%|          | 0/24 [00:00<?, ?it/s]"
      ]
     },
     "metadata": {},
     "output_type": "display_data"
    },
    {
     "name": "stdout",
     "output_type": "stream",
     "text": [
      "Epoch: 37, Train rmse: 11261272.417640345 r2: -0.3116404424827617\n",
      "Validation rmse: [5832193.236063428], r2: [-0.2730377319502088]\n"
     ]
    },
    {
     "data": {
      "application/vnd.jupyter.widget-view+json": {
       "model_id": "0aa1228fb63141149f0000a3c0d52753",
       "version_major": 2,
       "version_minor": 0
      },
      "text/plain": [
       "Training:   0%|          | 0/24 [00:00<?, ?it/s]"
      ]
     },
     "metadata": {},
     "output_type": "display_data"
    },
    {
     "name": "stdout",
     "output_type": "stream",
     "text": [
      "Epoch: 38, Train rmse: 11119102.773597747 r2: -0.34373723071777257\n",
      "Validation rmse: [4547332.316385949], r2: [-0.2730381296398814]\n"
     ]
    },
    {
     "data": {
      "application/vnd.jupyter.widget-view+json": {
       "model_id": "8369dc9cd6ff402c9b843c963e8a2fd4",
       "version_major": 2,
       "version_minor": 0
      },
      "text/plain": [
       "Training:   0%|          | 0/24 [00:00<?, ?it/s]"
      ]
     },
     "metadata": {},
     "output_type": "display_data"
    },
    {
     "name": "stdout",
     "output_type": "stream",
     "text": [
      "Epoch: 39, Train rmse: 11265728.007111104 r2: -0.31860496551121975\n",
      "Validation rmse: [3140678.4472046806], r2: [-0.27303786933660446]\n"
     ]
    },
    {
     "data": {
      "application/vnd.jupyter.widget-view+json": {
       "model_id": "d72f20f5a3c341049526918ba9188ef6",
       "version_major": 2,
       "version_minor": 0
      },
      "text/plain": [
       "Training:   0%|          | 0/24 [00:00<?, ?it/s]"
      ]
     },
     "metadata": {},
     "output_type": "display_data"
    },
    {
     "name": "stdout",
     "output_type": "stream",
     "text": [
      "Epoch: 40, Train rmse: 11540292.83630521 r2: -0.28034327109399576\n",
      "Validation rmse: [4371613.471045216], r2: [-0.27303737038782816]\n"
     ]
    },
    {
     "data": {
      "application/vnd.jupyter.widget-view+json": {
       "model_id": "3e54f9eb946d469784dd90c859fd215d",
       "version_major": 2,
       "version_minor": 0
      },
      "text/plain": [
       "Training:   0%|          | 0/24 [00:00<?, ?it/s]"
      ]
     },
     "metadata": {},
     "output_type": "display_data"
    },
    {
     "name": "stdout",
     "output_type": "stream",
     "text": [
      "Epoch: 41, Train rmse: 12479077.63055523 r2: -0.2955191364103413\n",
      "Validation rmse: [42679659.60333611], r2: [-0.2730378096244424]\n"
     ]
    },
    {
     "data": {
      "application/vnd.jupyter.widget-view+json": {
       "model_id": "ae150075da4e4a1cb3470b52e70e63a4",
       "version_major": 2,
       "version_minor": 0
      },
      "text/plain": [
       "Training:   0%|          | 0/24 [00:00<?, ?it/s]"
      ]
     },
     "metadata": {},
     "output_type": "display_data"
    },
    {
     "name": "stdout",
     "output_type": "stream",
     "text": [
      "Epoch: 42, Train rmse: 11626206.098615674 r2: -0.28742656848875314\n",
      "Validation rmse: [6754788.038447395], r2: [-0.27303769839819014]\n"
     ]
    },
    {
     "data": {
      "application/vnd.jupyter.widget-view+json": {
       "model_id": "66a62430c1844933ba565df181230770",
       "version_major": 2,
       "version_minor": 0
      },
      "text/plain": [
       "Training:   0%|          | 0/24 [00:00<?, ?it/s]"
      ]
     },
     "metadata": {},
     "output_type": "display_data"
    },
    {
     "name": "stdout",
     "output_type": "stream",
     "text": [
      "Epoch: 43, Train rmse: 11726956.616340272 r2: -0.2705563216680079\n",
      "Validation rmse: [7349443.394922365], r2: [-0.2730376775039405]\n"
     ]
    },
    {
     "data": {
      "application/vnd.jupyter.widget-view+json": {
       "model_id": "868e4484f8ef4ec395b8f170fc6d395c",
       "version_major": 2,
       "version_minor": 0
      },
      "text/plain": [
       "Training:   0%|          | 0/24 [00:00<?, ?it/s]"
      ]
     },
     "metadata": {},
     "output_type": "display_data"
    },
    {
     "name": "stdout",
     "output_type": "stream",
     "text": [
      "Epoch: 44, Train rmse: 11650269.33617449 r2: -0.2894402303923204\n",
      "Validation rmse: [12394723.403069228], r2: [-0.27303712000984004]\n"
     ]
    },
    {
     "data": {
      "application/vnd.jupyter.widget-view+json": {
       "model_id": "900c172468c045ec85c85d442e4cb35c",
       "version_major": 2,
       "version_minor": 0
      },
      "text/plain": [
       "Training:   0%|          | 0/24 [00:00<?, ?it/s]"
      ]
     },
     "metadata": {},
     "output_type": "display_data"
    },
    {
     "name": "stdout",
     "output_type": "stream",
     "text": [
      "Epoch: 45, Train rmse: 12623901.350197254 r2: -0.256734713060854\n",
      "Validation rmse: [34018277.96922637], r2: [-0.2730371672352245]\n"
     ]
    },
    {
     "data": {
      "application/vnd.jupyter.widget-view+json": {
       "model_id": "aed21cfa6662457dbc4524d04d33aa6e",
       "version_major": 2,
       "version_minor": 0
      },
      "text/plain": [
       "Training:   0%|          | 0/24 [00:00<?, ?it/s]"
      ]
     },
     "metadata": {},
     "output_type": "display_data"
    },
    {
     "name": "stdout",
     "output_type": "stream",
     "text": [
      "Epoch: 46, Train rmse: 11731276.140733844 r2: -0.28256979972052776\n",
      "Validation rmse: [13725443.588249087], r2: [-0.27303711626841404]\n"
     ]
    },
    {
     "data": {
      "application/vnd.jupyter.widget-view+json": {
       "model_id": "9cd558610d5d47ff921b78814ce1a6a0",
       "version_major": 2,
       "version_minor": 0
      },
      "text/plain": [
       "Training:   0%|          | 0/24 [00:00<?, ?it/s]"
      ]
     },
     "metadata": {},
     "output_type": "display_data"
    },
    {
     "name": "stdout",
     "output_type": "stream",
     "text": [
      "Epoch: 47, Train rmse: 11416573.023744917 r2: -0.27161416018772194\n",
      "Validation rmse: [2746202.7690787874], r2: [-0.2730365886343826]\n"
     ]
    },
    {
     "data": {
      "application/vnd.jupyter.widget-view+json": {
       "model_id": "b6fa37a966ef4f7bbbde5e80376cd525",
       "version_major": 2,
       "version_minor": 0
      },
      "text/plain": [
       "Training:   0%|          | 0/24 [00:00<?, ?it/s]"
      ]
     },
     "metadata": {},
     "output_type": "display_data"
    },
    {
     "name": "stdout",
     "output_type": "stream",
     "text": [
      "Epoch: 48, Train rmse: 12011274.737899415 r2: -0.2700446851565987\n",
      "Validation rmse: [16152684.410945943], r2: [-0.2730366439692426]\n"
     ]
    },
    {
     "data": {
      "application/vnd.jupyter.widget-view+json": {
       "model_id": "73de8893b09f49ec958826cfe0f43d9f",
       "version_major": 2,
       "version_minor": 0
      },
      "text/plain": [
       "Training:   0%|          | 0/24 [00:00<?, ?it/s]"
      ]
     },
     "metadata": {},
     "output_type": "display_data"
    },
    {
     "name": "stdout",
     "output_type": "stream",
     "text": [
      "Epoch: 49, Train rmse: 11579578.623460576 r2: -0.29360184171914966\n",
      "Validation rmse: [6161501.175296812], r2: [-0.2730368252543405]\n"
     ]
    },
    {
     "data": {
      "application/vnd.jupyter.widget-view+json": {
       "model_id": "e9d4c98518e44271bb9c51561b9e2134",
       "version_major": 2,
       "version_minor": 0
      },
      "text/plain": [
       "Training:   0%|          | 0/24 [00:00<?, ?it/s]"
      ]
     },
     "metadata": {},
     "output_type": "display_data"
    },
    {
     "name": "stdout",
     "output_type": "stream",
     "text": [
      "Epoch: 50, Train rmse: 11781060.946120078 r2: -0.2688161260705333\n",
      "Validation rmse: [6751575.47313751], r2: [-0.27303637777874173]\n"
     ]
    },
    {
     "data": {
      "application/vnd.jupyter.widget-view+json": {
       "model_id": "84cb7df5312746439db1b087b8658e5f",
       "version_major": 2,
       "version_minor": 0
      },
      "text/plain": [
       "Training:   0%|          | 0/24 [00:00<?, ?it/s]"
      ]
     },
     "metadata": {},
     "output_type": "display_data"
    },
    {
     "name": "stdout",
     "output_type": "stream",
     "text": [
      "Epoch: 51, Train rmse: 11502919.491297746 r2: -0.28332013042776977\n",
      "Validation rmse: [6571397.912695289], r2: [-0.2730361008291615]\n"
     ]
    },
    {
     "data": {
      "application/vnd.jupyter.widget-view+json": {
       "model_id": "92bcc62089c245cfbcacc86d258416a4",
       "version_major": 2,
       "version_minor": 0
      },
      "text/plain": [
       "Training:   0%|          | 0/24 [00:00<?, ?it/s]"
      ]
     },
     "metadata": {},
     "output_type": "display_data"
    },
    {
     "name": "stdout",
     "output_type": "stream",
     "text": [
      "Epoch: 52, Train rmse: 11635133.01431755 r2: -0.30758574906977515\n",
      "Validation rmse: [14731477.39703632], r2: [-0.2730359498790711]\n"
     ]
    },
    {
     "data": {
      "application/vnd.jupyter.widget-view+json": {
       "model_id": "cf10632d840e4869b4b0d8ca03475eaa",
       "version_major": 2,
       "version_minor": 0
      },
      "text/plain": [
       "Training:   0%|          | 0/24 [00:00<?, ?it/s]"
      ]
     },
     "metadata": {},
     "output_type": "display_data"
    },
    {
     "name": "stdout",
     "output_type": "stream",
     "text": [
      "Epoch: 53, Train rmse: 11451054.561195528 r2: -0.29184752804565556\n",
      "Validation rmse: [9889674.734446628], r2: [-0.2730356239196388]\n"
     ]
    },
    {
     "data": {
      "application/vnd.jupyter.widget-view+json": {
       "model_id": "f4a7ccb0fb8d404684f9de025920c61b",
       "version_major": 2,
       "version_minor": 0
      },
      "text/plain": [
       "Training:   0%|          | 0/24 [00:00<?, ?it/s]"
      ]
     },
     "metadata": {},
     "output_type": "display_data"
    },
    {
     "name": "stdout",
     "output_type": "stream",
     "text": [
      "Epoch: 54, Train rmse: 11121518.42302177 r2: -0.30638900350153736\n",
      "Validation rmse: [5527372.9204040505], r2: [-0.27303598352781805]\n"
     ]
    },
    {
     "data": {
      "application/vnd.jupyter.widget-view+json": {
       "model_id": "f857c3b72a8246d49cc9e5dbcee6f781",
       "version_major": 2,
       "version_minor": 0
      },
      "text/plain": [
       "Training:   0%|          | 0/24 [00:00<?, ?it/s]"
      ]
     },
     "metadata": {},
     "output_type": "display_data"
    },
    {
     "name": "stdout",
     "output_type": "stream",
     "text": [
      "Epoch: 55, Train rmse: 11106737.245121349 r2: -0.35259861462209113\n",
      "Validation rmse: [4895987.410807344], r2: [-0.2730355085396421]\n"
     ]
    },
    {
     "data": {
      "application/vnd.jupyter.widget-view+json": {
       "model_id": "3d5883d3e60c45d08bfe52d08992e740",
       "version_major": 2,
       "version_minor": 0
      },
      "text/plain": [
       "Training:   0%|          | 0/24 [00:00<?, ?it/s]"
      ]
     },
     "metadata": {},
     "output_type": "display_data"
    },
    {
     "name": "stdout",
     "output_type": "stream",
     "text": [
      "Epoch: 56, Train rmse: 11899499.991807727 r2: -0.3167986498413498\n",
      "Validation rmse: [18048860.28474485], r2: [-0.2730361502232004]\n"
     ]
    },
    {
     "data": {
      "application/vnd.jupyter.widget-view+json": {
       "model_id": "7058b9ff5767486bacbb125dc3c5f2eb",
       "version_major": 2,
       "version_minor": 0
      },
      "text/plain": [
       "Training:   0%|          | 0/24 [00:00<?, ?it/s]"
      ]
     },
     "metadata": {},
     "output_type": "display_data"
    },
    {
     "name": "stdout",
     "output_type": "stream",
     "text": [
      "Epoch: 57, Train rmse: 11737341.799512306 r2: -0.272617036575442\n",
      "Validation rmse: [8960149.561266039], r2: [-0.27303504384821536]\n"
     ]
    },
    {
     "data": {
      "application/vnd.jupyter.widget-view+json": {
       "model_id": "03012565bb904ee88bd95101ae324da4",
       "version_major": 2,
       "version_minor": 0
      },
      "text/plain": [
       "Training:   0%|          | 0/24 [00:00<?, ?it/s]"
      ]
     },
     "metadata": {},
     "output_type": "display_data"
    },
    {
     "name": "stdout",
     "output_type": "stream",
     "text": [
      "Epoch: 58, Train rmse: 11397586.534098528 r2: -0.30526417189774624\n",
      "Validation rmse: [3738166.8041455834], r2: [-0.27303595394280505]\n"
     ]
    },
    {
     "data": {
      "application/vnd.jupyter.widget-view+json": {
       "model_id": "54e71dfc23354760b9f7e322848e6063",
       "version_major": 2,
       "version_minor": 0
      },
      "text/plain": [
       "Training:   0%|          | 0/24 [00:00<?, ?it/s]"
      ]
     },
     "metadata": {},
     "output_type": "display_data"
    },
    {
     "name": "stdout",
     "output_type": "stream",
     "text": [
      "Epoch: 59, Train rmse: 11323035.81909286 r2: -0.3057328468555432\n",
      "Validation rmse: [3345707.789444858], r2: [-0.27303509539582516]\n"
     ]
    },
    {
     "data": {
      "application/vnd.jupyter.widget-view+json": {
       "model_id": "497282ba4a7c43e1ae283fc8334d5741",
       "version_major": 2,
       "version_minor": 0
      },
      "text/plain": [
       "Training:   0%|          | 0/24 [00:00<?, ?it/s]"
      ]
     },
     "metadata": {},
     "output_type": "display_data"
    },
    {
     "name": "stdout",
     "output_type": "stream",
     "text": [
      "Epoch: 60, Train rmse: 11503739.675422385 r2: -0.26843680316885804\n",
      "Validation rmse: [4069108.138139364], r2: [-0.2730346745333014]\n"
     ]
    },
    {
     "data": {
      "application/vnd.jupyter.widget-view+json": {
       "model_id": "7689e580ee3a4205ab4d5a3ebb0f6591",
       "version_major": 2,
       "version_minor": 0
      },
      "text/plain": [
       "Training:   0%|          | 0/24 [00:00<?, ?it/s]"
      ]
     },
     "metadata": {},
     "output_type": "display_data"
    },
    {
     "name": "stdout",
     "output_type": "stream",
     "text": [
      "Epoch: 61, Train rmse: 11981995.77332768 r2: -0.2833962982638037\n",
      "Validation rmse: [19839680.32444394], r2: [-0.27303502088788384]\n"
     ]
    },
    {
     "data": {
      "application/vnd.jupyter.widget-view+json": {
       "model_id": "b532d8b2c6ae44e195ba42a1fff6d6e0",
       "version_major": 2,
       "version_minor": 0
      },
      "text/plain": [
       "Training:   0%|          | 0/24 [00:00<?, ?it/s]"
      ]
     },
     "metadata": {},
     "output_type": "display_data"
    },
    {
     "name": "stdout",
     "output_type": "stream",
     "text": [
      "Epoch: 62, Train rmse: 11414888.983691199 r2: -0.31758968099188084\n",
      "Validation rmse: [4855190.580738927], r2: [-0.27303443835340424]\n"
     ]
    },
    {
     "data": {
      "application/vnd.jupyter.widget-view+json": {
       "model_id": "5d33ea67885c4892a766ab9fbfcad193",
       "version_major": 2,
       "version_minor": 0
      },
      "text/plain": [
       "Training:   0%|          | 0/24 [00:00<?, ?it/s]"
      ]
     },
     "metadata": {},
     "output_type": "display_data"
    },
    {
     "name": "stdout",
     "output_type": "stream",
     "text": [
      "Epoch: 63, Train rmse: 11646079.165305456 r2: -0.27115399382936417\n",
      "Validation rmse: [3441491.704107391], r2: [-0.27303454163087304]\n"
     ]
    },
    {
     "data": {
      "application/vnd.jupyter.widget-view+json": {
       "model_id": "0bbf844dae884914b18a452705e16151",
       "version_major": 2,
       "version_minor": 0
      },
      "text/plain": [
       "Training:   0%|          | 0/24 [00:00<?, ?it/s]"
      ]
     },
     "metadata": {},
     "output_type": "display_data"
    },
    {
     "name": "stdout",
     "output_type": "stream",
     "text": [
      "Epoch: 64, Train rmse: 11721222.441466108 r2: -0.2886485417782972\n",
      "Validation rmse: [8499678.1822109], r2: [-0.2730347566072846]\n"
     ]
    },
    {
     "data": {
      "application/vnd.jupyter.widget-view+json": {
       "model_id": "18befc887a6d4c0c94b1ebcdeb9f62cf",
       "version_major": 2,
       "version_minor": 0
      },
      "text/plain": [
       "Training:   0%|          | 0/24 [00:00<?, ?it/s]"
      ]
     },
     "metadata": {},
     "output_type": "display_data"
    },
    {
     "name": "stdout",
     "output_type": "stream",
     "text": [
      "Epoch: 65, Train rmse: 11905244.276465544 r2: -0.2635891971362914\n",
      "Validation rmse: [9745472.073762255], r2: [-0.27303524501035564]\n"
     ]
    },
    {
     "data": {
      "application/vnd.jupyter.widget-view+json": {
       "model_id": "3fd2e58148484ee8bf979a615284fa40",
       "version_major": 2,
       "version_minor": 0
      },
      "text/plain": [
       "Training:   0%|          | 0/24 [00:00<?, ?it/s]"
      ]
     },
     "metadata": {},
     "output_type": "display_data"
    },
    {
     "name": "stdout",
     "output_type": "stream",
     "text": [
      "Epoch: 66, Train rmse: 11425272.32420329 r2: -0.30860513087811914\n",
      "Validation rmse: [4466182.779313897], r2: [-0.27303434359789175]\n"
     ]
    },
    {
     "data": {
      "application/vnd.jupyter.widget-view+json": {
       "model_id": "f3797d20ef1e4294a9692c732a091631",
       "version_major": 2,
       "version_minor": 0
      },
      "text/plain": [
       "Training:   0%|          | 0/24 [00:00<?, ?it/s]"
      ]
     },
     "metadata": {},
     "output_type": "display_data"
    },
    {
     "name": "stdout",
     "output_type": "stream",
     "text": [
      "Epoch: 67, Train rmse: 11691243.959481606 r2: -0.27646886892768663\n",
      "Validation rmse: [8897479.844223756], r2: [-0.27303477716371916]\n"
     ]
    },
    {
     "data": {
      "application/vnd.jupyter.widget-view+json": {
       "model_id": "da4011a97a1e4324a9598d8a06e2ed1f",
       "version_major": 2,
       "version_minor": 0
      },
      "text/plain": [
       "Training:   0%|          | 0/24 [00:00<?, ?it/s]"
      ]
     },
     "metadata": {},
     "output_type": "display_data"
    },
    {
     "name": "stdout",
     "output_type": "stream",
     "text": [
      "Epoch: 68, Train rmse: 11696192.24726127 r2: -0.2806800371431601\n",
      "Validation rmse: [4203866.349677639], r2: [-0.27303278111595164]\n"
     ]
    },
    {
     "data": {
      "application/vnd.jupyter.widget-view+json": {
       "model_id": "8ab8c66844fe462d99a6166ee8e3c82e",
       "version_major": 2,
       "version_minor": 0
      },
      "text/plain": [
       "Training:   0%|          | 0/24 [00:00<?, ?it/s]"
      ]
     },
     "metadata": {},
     "output_type": "display_data"
    },
    {
     "name": "stdout",
     "output_type": "stream",
     "text": [
      "Epoch: 69, Train rmse: 11833255.852382118 r2: -0.2937970954839949\n",
      "Validation rmse: [11950984.630712233], r2: [-0.27303363972804906]\n"
     ]
    },
    {
     "data": {
      "application/vnd.jupyter.widget-view+json": {
       "model_id": "bd56a4059aaa4ca58ac1f65da3602e0a",
       "version_major": 2,
       "version_minor": 0
      },
      "text/plain": [
       "Training:   0%|          | 0/24 [00:00<?, ?it/s]"
      ]
     },
     "metadata": {},
     "output_type": "display_data"
    },
    {
     "name": "stdout",
     "output_type": "stream",
     "text": [
      "Epoch: 70, Train rmse: 11676103.363098621 r2: -0.30717891196759656\n",
      "Validation rmse: [10481804.053773187], r2: [-0.27303340814525656]\n"
     ]
    },
    {
     "data": {
      "application/vnd.jupyter.widget-view+json": {
       "model_id": "efc3d3eeb9754ef0bceac8db02d8473c",
       "version_major": 2,
       "version_minor": 0
      },
      "text/plain": [
       "Training:   0%|          | 0/24 [00:00<?, ?it/s]"
      ]
     },
     "metadata": {},
     "output_type": "display_data"
    },
    {
     "name": "stdout",
     "output_type": "stream",
     "text": [
      "Epoch: 71, Train rmse: 11459011.592205534 r2: -0.2935620108677839\n",
      "Validation rmse: [7369904.071260628], r2: [-0.27303332984032824]\n"
     ]
    },
    {
     "data": {
      "application/vnd.jupyter.widget-view+json": {
       "model_id": "ffcf0e640f0046e3b8c6dc73aac9901b",
       "version_major": 2,
       "version_minor": 0
      },
      "text/plain": [
       "Training:   0%|          | 0/24 [00:00<?, ?it/s]"
      ]
     },
     "metadata": {},
     "output_type": "display_data"
    },
    {
     "name": "stdout",
     "output_type": "stream",
     "text": [
      "Epoch: 72, Train rmse: 11770290.384000106 r2: -0.2990497930421038\n",
      "Validation rmse: [18474052.53709364], r2: [-0.27303385084463594]\n"
     ]
    },
    {
     "data": {
      "application/vnd.jupyter.widget-view+json": {
       "model_id": "7b1222fdc24e4f98ad6cf02800c8be9b",
       "version_major": 2,
       "version_minor": 0
      },
      "text/plain": [
       "Training:   0%|          | 0/24 [00:00<?, ?it/s]"
      ]
     },
     "metadata": {},
     "output_type": "display_data"
    },
    {
     "name": "stdout",
     "output_type": "stream",
     "text": [
      "Epoch: 73, Train rmse: 11904677.462209309 r2: -0.287332982795594\n",
      "Validation rmse: [14768707.228136117], r2: [-0.27303367225730285]\n"
     ]
    },
    {
     "data": {
      "application/vnd.jupyter.widget-view+json": {
       "model_id": "47750c9a7d704301a26e38ae33a5be2d",
       "version_major": 2,
       "version_minor": 0
      },
      "text/plain": [
       "Training:   0%|          | 0/24 [00:00<?, ?it/s]"
      ]
     },
     "metadata": {},
     "output_type": "display_data"
    },
    {
     "name": "stdout",
     "output_type": "stream",
     "text": [
      "Epoch: 74, Train rmse: 11386435.295261944 r2: -0.29249907402231096\n",
      "Validation rmse: [6441224.704258655], r2: [-0.2730314351996385]\n"
     ]
    },
    {
     "data": {
      "application/vnd.jupyter.widget-view+json": {
       "model_id": "d6f3a172ba514ce89350f53f3301ec4f",
       "version_major": 2,
       "version_minor": 0
      },
      "text/plain": [
       "Training:   0%|          | 0/24 [00:00<?, ?it/s]"
      ]
     },
     "metadata": {},
     "output_type": "display_data"
    },
    {
     "name": "stdout",
     "output_type": "stream",
     "text": [
      "Epoch: 75, Train rmse: 11979686.972371355 r2: -0.27222536665793956\n",
      "Validation rmse: [15344535.549594454], r2: [-0.273033245286389]\n"
     ]
    },
    {
     "data": {
      "application/vnd.jupyter.widget-view+json": {
       "model_id": "e8f4323728fd44d7820d4d5b76aa0e61",
       "version_major": 2,
       "version_minor": 0
      },
      "text/plain": [
       "Training:   0%|          | 0/24 [00:00<?, ?it/s]"
      ]
     },
     "metadata": {},
     "output_type": "display_data"
    },
    {
     "name": "stdout",
     "output_type": "stream",
     "text": [
      "Epoch: 76, Train rmse: 11803061.992871441 r2: -0.29048049177971397\n",
      "Validation rmse: [8509357.438829327], r2: [-0.2730321905809597]\n"
     ]
    },
    {
     "data": {
      "application/vnd.jupyter.widget-view+json": {
       "model_id": "60b61500d43b40378e1e4fe3cb387160",
       "version_major": 2,
       "version_minor": 0
      },
      "text/plain": [
       "Training:   0%|          | 0/24 [00:00<?, ?it/s]"
      ]
     },
     "metadata": {},
     "output_type": "display_data"
    },
    {
     "name": "stdout",
     "output_type": "stream",
     "text": [
      "Epoch: 77, Train rmse: 11923522.170969166 r2: -0.2785486627162885\n",
      "Validation rmse: [19358412.743396085], r2: [-0.27303043242054764]\n"
     ]
    },
    {
     "data": {
      "application/vnd.jupyter.widget-view+json": {
       "model_id": "405275f5862a4a34a0b05e8482dd4c54",
       "version_major": 2,
       "version_minor": 0
      },
      "text/plain": [
       "Training:   0%|          | 0/24 [00:00<?, ?it/s]"
      ]
     },
     "metadata": {},
     "output_type": "display_data"
    },
    {
     "name": "stdout",
     "output_type": "stream",
     "text": [
      "Epoch: 78, Train rmse: 11895870.31414058 r2: -0.29015640157650086\n",
      "Validation rmse: [13576440.853353577], r2: [-0.27303376648638356]\n"
     ]
    },
    {
     "data": {
      "application/vnd.jupyter.widget-view+json": {
       "model_id": "0a88ed10c84446fba5f96f9bd57a22cd",
       "version_major": 2,
       "version_minor": 0
      },
      "text/plain": [
       "Training:   0%|          | 0/24 [00:00<?, ?it/s]"
      ]
     },
     "metadata": {},
     "output_type": "display_data"
    },
    {
     "name": "stdout",
     "output_type": "stream",
     "text": [
      "Epoch: 79, Train rmse: 11777990.153907469 r2: -0.2708536334971818\n",
      "Validation rmse: [8798091.20220426], r2: [-0.2730320609207088]\n"
     ]
    },
    {
     "data": {
      "application/vnd.jupyter.widget-view+json": {
       "model_id": "b74f0c902ead4ab9891b2997adfc2d30",
       "version_major": 2,
       "version_minor": 0
      },
      "text/plain": [
       "Training:   0%|          | 0/24 [00:00<?, ?it/s]"
      ]
     },
     "metadata": {},
     "output_type": "display_data"
    },
    {
     "name": "stdout",
     "output_type": "stream",
     "text": [
      "Epoch: 80, Train rmse: 11603559.437803423 r2: -0.30690426217271877\n",
      "Validation rmse: [5013893.004516152], r2: [-0.2730317991682849]\n"
     ]
    },
    {
     "data": {
      "application/vnd.jupyter.widget-view+json": {
       "model_id": "31882322fd6244939beba0b80a95e246",
       "version_major": 2,
       "version_minor": 0
      },
      "text/plain": [
       "Training:   0%|          | 0/24 [00:00<?, ?it/s]"
      ]
     },
     "metadata": {},
     "output_type": "display_data"
    },
    {
     "name": "stdout",
     "output_type": "stream",
     "text": [
      "Epoch: 81, Train rmse: 11614384.170102246 r2: -0.28645085966439954\n",
      "Validation rmse: [7796481.273485366], r2: [-0.2730309503379]\n"
     ]
    },
    {
     "data": {
      "application/vnd.jupyter.widget-view+json": {
       "model_id": "9ac5c0159a7f41b5a3fe96f729c138de",
       "version_major": 2,
       "version_minor": 0
      },
      "text/plain": [
       "Training:   0%|          | 0/24 [00:00<?, ?it/s]"
      ]
     },
     "metadata": {},
     "output_type": "display_data"
    },
    {
     "name": "stdout",
     "output_type": "stream",
     "text": [
      "Epoch: 82, Train rmse: 11859407.818648955 r2: -0.2793306576929285\n",
      "Validation rmse: [13709808.234819332], r2: [-0.2730315556538825]\n"
     ]
    },
    {
     "data": {
      "application/vnd.jupyter.widget-view+json": {
       "model_id": "9d90034264174ea18c47a3ef50cf5dd7",
       "version_major": 2,
       "version_minor": 0
      },
      "text/plain": [
       "Training:   0%|          | 0/24 [00:00<?, ?it/s]"
      ]
     },
     "metadata": {},
     "output_type": "display_data"
    },
    {
     "name": "stdout",
     "output_type": "stream",
     "text": [
      "Epoch: 83, Train rmse: 11523847.793194734 r2: -0.2977569729242399\n",
      "Validation rmse: [11922546.99386268], r2: [-0.27303199038845544]\n"
     ]
    },
    {
     "data": {
      "application/vnd.jupyter.widget-view+json": {
       "model_id": "6773975eca6344aa8c8f313418308452",
       "version_major": 2,
       "version_minor": 0
      },
      "text/plain": [
       "Training:   0%|          | 0/24 [00:00<?, ?it/s]"
      ]
     },
     "metadata": {},
     "output_type": "display_data"
    },
    {
     "name": "stdout",
     "output_type": "stream",
     "text": [
      "Epoch: 84, Train rmse: 11583830.662580973 r2: -0.2772855626711607\n",
      "Validation rmse: [5911028.447281911], r2: [-0.27303030693430935]\n"
     ]
    },
    {
     "data": {
      "application/vnd.jupyter.widget-view+json": {
       "model_id": "6fefc143aff64c06bf30a7de3ea1eee8",
       "version_major": 2,
       "version_minor": 0
      },
      "text/plain": [
       "Training:   0%|          | 0/24 [00:00<?, ?it/s]"
      ]
     },
     "metadata": {},
     "output_type": "display_data"
    },
    {
     "name": "stdout",
     "output_type": "stream",
     "text": [
      "Epoch: 85, Train rmse: 11537528.765094183 r2: -0.2931284961790536\n",
      "Validation rmse: [7658852.180512692], r2: [-0.27303108758280104]\n"
     ]
    },
    {
     "data": {
      "application/vnd.jupyter.widget-view+json": {
       "model_id": "65eb0a401e4f402087c068ebfba32812",
       "version_major": 2,
       "version_minor": 0
      },
      "text/plain": [
       "Training:   0%|          | 0/24 [00:00<?, ?it/s]"
      ]
     },
     "metadata": {},
     "output_type": "display_data"
    },
    {
     "name": "stdout",
     "output_type": "stream",
     "text": [
      "Epoch: 86, Train rmse: 11153769.948836269 r2: -0.31412491471082443\n",
      "Validation rmse: [4973429.166684894], r2: [-0.27303128923143244]\n"
     ]
    },
    {
     "data": {
      "application/vnd.jupyter.widget-view+json": {
       "model_id": "9d035f28205b49188a85b3ff8bd4e04e",
       "version_major": 2,
       "version_minor": 0
      },
      "text/plain": [
       "Training:   0%|          | 0/24 [00:00<?, ?it/s]"
      ]
     },
     "metadata": {},
     "output_type": "display_data"
    },
    {
     "name": "stdout",
     "output_type": "stream",
     "text": [
      "Epoch: 87, Train rmse: 11739383.019090498 r2: -0.2898595460298968\n",
      "Validation rmse: [13707401.542414667], r2: [-0.27302815047435436]\n"
     ]
    },
    {
     "data": {
      "application/vnd.jupyter.widget-view+json": {
       "model_id": "52e73df39530436485e6f45d19cd5565",
       "version_major": 2,
       "version_minor": 0
      },
      "text/plain": [
       "Training:   0%|          | 0/24 [00:00<?, ?it/s]"
      ]
     },
     "metadata": {},
     "output_type": "display_data"
    },
    {
     "name": "stdout",
     "output_type": "stream",
     "text": [
      "Epoch: 88, Train rmse: 11738633.732772449 r2: -0.27739306191792196\n",
      "Validation rmse: [12042443.405084869], r2: [-0.2730304894890356]\n"
     ]
    },
    {
     "data": {
      "application/vnd.jupyter.widget-view+json": {
       "model_id": "f3ce6116eb73422ea7f2842ad65d05f3",
       "version_major": 2,
       "version_minor": 0
      },
      "text/plain": [
       "Training:   0%|          | 0/24 [00:00<?, ?it/s]"
      ]
     },
     "metadata": {},
     "output_type": "display_data"
    },
    {
     "name": "stdout",
     "output_type": "stream",
     "text": [
      "Epoch: 89, Train rmse: 11438098.580292635 r2: -0.2884985042209199\n",
      "Validation rmse: [4861885.3575887615], r2: [-0.27303039342118834]\n"
     ]
    },
    {
     "data": {
      "application/vnd.jupyter.widget-view+json": {
       "model_id": "12f5fa56b1ed4943b93ab5efada90cbd",
       "version_major": 2,
       "version_minor": 0
      },
      "text/plain": [
       "Training:   0%|          | 0/24 [00:00<?, ?it/s]"
      ]
     },
     "metadata": {},
     "output_type": "display_data"
    },
    {
     "name": "stdout",
     "output_type": "stream",
     "text": [
      "Epoch: 90, Train rmse: 11980280.31089159 r2: -0.27324096790000785\n",
      "Validation rmse: [18076579.391367603], r2: [-0.2730300215095096]\n"
     ]
    },
    {
     "data": {
      "application/vnd.jupyter.widget-view+json": {
       "model_id": "2655ebcd3ba540c1b2d5fb5eb4641b16",
       "version_major": 2,
       "version_minor": 0
      },
      "text/plain": [
       "Training:   0%|          | 0/24 [00:00<?, ?it/s]"
      ]
     },
     "metadata": {},
     "output_type": "display_data"
    },
    {
     "name": "stdout",
     "output_type": "stream",
     "text": [
      "Epoch: 91, Train rmse: 11683868.738629593 r2: -0.27951601896910727\n",
      "Validation rmse: [6458018.187450389], r2: [-0.2730302130009233]\n"
     ]
    },
    {
     "data": {
      "application/vnd.jupyter.widget-view+json": {
       "model_id": "18e2cf9031374758ac6e0992ef8a6e37",
       "version_major": 2,
       "version_minor": 0
      },
      "text/plain": [
       "Training:   0%|          | 0/24 [00:00<?, ?it/s]"
      ]
     },
     "metadata": {},
     "output_type": "display_data"
    },
    {
     "name": "stdout",
     "output_type": "stream",
     "text": [
      "Epoch: 92, Train rmse: 11309383.97021555 r2: -0.32495469437795543\n",
      "Validation rmse: [6519529.035652805], r2: [-0.2730261536745486]\n"
     ]
    },
    {
     "data": {
      "application/vnd.jupyter.widget-view+json": {
       "model_id": "73fec8eb2e5a4b1293a6ca9b3f8ae35c",
       "version_major": 2,
       "version_minor": 0
      },
      "text/plain": [
       "Training:   0%|          | 0/24 [00:00<?, ?it/s]"
      ]
     },
     "metadata": {},
     "output_type": "display_data"
    },
    {
     "name": "stdout",
     "output_type": "stream",
     "text": [
      "Epoch: 93, Train rmse: 11581166.945838409 r2: -0.3048929030887788\n",
      "Validation rmse: [7766483.698996863], r2: [-0.27302816952000164]\n"
     ]
    },
    {
     "data": {
      "application/vnd.jupyter.widget-view+json": {
       "model_id": "6b07769073414670a98656ce2338148b",
       "version_major": 2,
       "version_minor": 0
      },
      "text/plain": [
       "Training:   0%|          | 0/24 [00:00<?, ?it/s]"
      ]
     },
     "metadata": {},
     "output_type": "display_data"
    },
    {
     "name": "stdout",
     "output_type": "stream",
     "text": [
      "Epoch: 94, Train rmse: 11500696.181715846 r2: -0.3131026678065972\n",
      "Validation rmse: [6711473.7992926715], r2: [-0.2730301212133807]\n"
     ]
    },
    {
     "data": {
      "application/vnd.jupyter.widget-view+json": {
       "model_id": "52834d9371e2417f93aa5ace90005f02",
       "version_major": 2,
       "version_minor": 0
      },
      "text/plain": [
       "Training:   0%|          | 0/24 [00:00<?, ?it/s]"
      ]
     },
     "metadata": {},
     "output_type": "display_data"
    },
    {
     "name": "stdout",
     "output_type": "stream",
     "text": [
      "Epoch: 95, Train rmse: 11288654.306092763 r2: -0.286507152762569\n",
      "Validation rmse: [4892983.819280828], r2: [-0.27302894632172564]\n"
     ]
    },
    {
     "data": {
      "application/vnd.jupyter.widget-view+json": {
       "model_id": "13f994442086442db6f599997f12a1b2",
       "version_major": 2,
       "version_minor": 0
      },
      "text/plain": [
       "Training:   0%|          | 0/24 [00:00<?, ?it/s]"
      ]
     },
     "metadata": {},
     "output_type": "display_data"
    },
    {
     "name": "stdout",
     "output_type": "stream",
     "text": [
      "Epoch: 96, Train rmse: 11299404.19937847 r2: -0.2894826830681842\n",
      "Validation rmse: [3839870.837294401], r2: [-0.27302557950111067]\n"
     ]
    },
    {
     "data": {
      "application/vnd.jupyter.widget-view+json": {
       "model_id": "17652cd9ca0a4cd6ab5399984fd01283",
       "version_major": 2,
       "version_minor": 0
      },
      "text/plain": [
       "Training:   0%|          | 0/24 [00:00<?, ?it/s]"
      ]
     },
     "metadata": {},
     "output_type": "display_data"
    },
    {
     "name": "stdout",
     "output_type": "stream",
     "text": [
      "Epoch: 97, Train rmse: 12396309.616288804 r2: -0.2980612188349991\n",
      "Validation rmse: [34137448.96446528], r2: [-0.2730286144936407]\n"
     ]
    },
    {
     "data": {
      "application/vnd.jupyter.widget-view+json": {
       "model_id": "ea8d23b65f1e4da5b79a6893eaea0ea9",
       "version_major": 2,
       "version_minor": 0
      },
      "text/plain": [
       "Training:   0%|          | 0/24 [00:00<?, ?it/s]"
      ]
     },
     "metadata": {},
     "output_type": "display_data"
    },
    {
     "name": "stdout",
     "output_type": "stream",
     "text": [
      "Epoch: 98, Train rmse: 11122263.64684154 r2: -0.33203202904765944\n",
      "Validation rmse: [1867609.1855332043], r2: [-0.27302822326717996]\n"
     ]
    },
    {
     "data": {
      "application/vnd.jupyter.widget-view+json": {
       "model_id": "9b5fa31219d44301953e568d1087a3c0",
       "version_major": 2,
       "version_minor": 0
      },
      "text/plain": [
       "Training:   0%|          | 0/24 [00:00<?, ?it/s]"
      ]
     },
     "metadata": {},
     "output_type": "display_data"
    },
    {
     "name": "stdout",
     "output_type": "stream",
     "text": [
      "Epoch: 99, Train rmse: 12002266.77166435 r2: -0.2757591559166643\n",
      "Validation rmse: [20995033.218517564], r2: [-0.27302888084521676]\n",
      "Finished Training\n",
      "Getting embeddings\n"
     ]
    },
    {
     "data": {
      "application/vnd.jupyter.widget-view+json": {
       "model_id": "fd5daa5eab554aa0ab11b447e7c74a56",
       "version_major": 2,
       "version_minor": 0
      },
      "text/plain": [
       "  0%|          | 0/7471 [00:00<?, ?it/s]"
      ]
     },
     "metadata": {},
     "output_type": "display_data"
    },
    {
     "name": "stdout",
     "output_type": "stream",
     "text": [
      "Embeddings saved succesfully\n"
     ]
    }
   ],
   "source": [
    "%run image_preprocessing.py --pipeline basic --region 812 --path_to_graph /home/jupyter/datasphere/s3/s3-sirius/sirius_2024_participants/twwist/graph_with_cv_full_and_images/"
   ]
  },
  {
   "cell_type": "code",
   "execution_count": null,
   "metadata": {},
   "outputs": [],
   "source": []
  }
 ],
 "metadata": {
  "accelerator": "GPU",
  "colab": {
   "collapsed_sections": [
    "M-R8W0v_A23b"
   ],
   "gpuType": "T4",
   "provenance": []
  },
  "kernelspec": {
   "display_name": "DataSphere Kernel",
   "language": "python",
   "name": "python3"
  },
  "language_info": {
   "codemirror_mode": {
    "name": "ipython",
    "version": 3
   },
   "file_extension": ".py",
   "mimetype": "text/x-python",
   "name": "python",
   "nbconvert_exporter": "python",
   "pygments_lexer": "ipython3",
   "version": "3.10.12"
  }
 },
 "nbformat": 4,
 "nbformat_minor": 4
}
